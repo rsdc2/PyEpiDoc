{
 "cells": [
  {
   "cell_type": "markdown",
   "metadata": {},
   "source": [
    "# Setting IDs\n",
    "\n",
    "There are two ways of setting IDs on text elements in an EpiDoc file:\n",
    "\n",
    "1. Setting the @xml:id attribute\n",
    "2. Setting the @n attribute"
   ]
  },
  {
   "cell_type": "markdown",
   "metadata": {},
   "source": [
    "## Setting the @xml:id attribute\n",
    "\n",
    "This puts a unique ID on each text element based on its document ID (e.g. 'ISic000001') and the position of this element in the document. This way only works for I.Sicily documents."
   ]
  },
  {
   "cell_type": "code",
   "execution_count": 2,
   "metadata": {},
   "outputs": [],
   "source": [
    "# Load the API and helper functions\n",
    "from pyepidoc import EpiDoc"
   ]
  },
  {
   "cell_type": "code",
   "execution_count": null,
   "metadata": {},
   "outputs": [],
   "source": [
    "# Set the IDs\n",
    "doc = EpiDoc('../examples/ISic000032_untokenized.xml')\n",
    "print(doc.main_edition.xml_str)\n"
   ]
  },
  {
   "cell_type": "code",
   "execution_count": null,
   "metadata": {},
   "outputs": [],
   "source": [
    "# Tokenize\n",
    "doc.tokenize()\n",
    "\n",
    "# Set the IDs\n",
    "doc.set_full_ids()\n",
    "doc.prettify('pyepidoc')\n",
    "print(doc.main_edition.xml_str)"
   ]
  },
  {
   "cell_type": "markdown",
   "metadata": {},
   "source": [
    "## Setting the @n attribute\n",
    "\n",
    "This puts an @n attribute on <w> and <orig> elements. This is an ID local to the document, and should work on any EpiDoc file that contains these elements."
   ]
  },
  {
   "cell_type": "code",
   "execution_count": null,
   "metadata": {},
   "outputs": [],
   "source": [
    "doc = EpiDoc('../examples/ISic000032_untokenized.xml')\n",
    "doc.tokenize()\n",
    "doc.set_n_ids()\n",
    "print(doc.main_edition.xml_str)"
   ]
  }
 ],
 "metadata": {
  "kernelspec": {
   "display_name": "env39jupyter",
   "language": "python",
   "name": "python3"
  },
  "language_info": {
   "codemirror_mode": {
    "name": "ipython",
    "version": 3
   },
   "file_extension": ".py",
   "mimetype": "text/x-python",
   "name": "python",
   "nbconvert_exporter": "python",
   "pygments_lexer": "ipython3",
   "version": "3.9.20"
  }
 },
 "nbformat": 4,
 "nbformat_minor": 2
}
