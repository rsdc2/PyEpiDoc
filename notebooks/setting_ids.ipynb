{
 "cells": [
  {
   "cell_type": "markdown",
   "metadata": {},
   "source": [
    "# Setting IDs\n",
    "\n",
    "There are two ways of setting IDs on text elements in an EpiDoc file:\n",
    "\n",
    "1. Setting the @xml:id attribute\n",
    "2. Setting the @n attribute"
   ]
  },
  {
   "cell_type": "markdown",
   "metadata": {},
   "source": [
    "## Setting the @xml:id attribute\n",
    "\n",
    "This puts a unique ID on each text element based on its document ID (e.g. 'ISic000001') and the position of this element in the document. This way only works for I.Sicily documents."
   ]
  },
  {
   "cell_type": "code",
   "execution_count": 2,
   "metadata": {},
   "outputs": [],
   "source": [
    "# Load the API and helper functions\n",
    "from pyepidoc import EpiDoc"
   ]
  },
  {
   "cell_type": "code",
   "execution_count": 8,
   "metadata": {},
   "outputs": [
    {
     "name": "stdout",
     "output_type": "stream",
     "text": [
      "<div xmlns=\"http://www.tei-c.org/ns/1.0\" xmlns:xi=\"http://www.w3.org/2001/XInclude\" type=\"edition\" xml:space=\"preserve\" xml:lang=\"la\">\n",
      "                <ab>\n",
      "                    <lb n=\"1\"/><expan><abbr>M</abbr><ex>arcus</ex></expan> <g ref=\"#interpunct\">·</g> Cornelius <g ref=\"#interpunct\">·</g> <unclear>Res</unclear><gap reason=\"lost\" extent=\"unknown\" unit=\"character\"/>\n",
      "                    <lb n=\"2\"/><expan><abbr>Sex</abbr><ex>tus</ex></expan> <g ref=\"#interpunct\">·</g> Clod<unclear>i</unclear><gap reason=\"lost\" extent=\"unknown\" unit=\"character\"/>\n",
      "                </ab>\n",
      "            </div>\n",
      "            \n",
      "\n"
     ]
    }
   ],
   "source": [
    "# Set the IDs\n",
    "doc = EpiDoc('../examples/ISic000032_untokenized.xml')\n",
    "print(doc.main_edition.xml_str)\n"
   ]
  },
  {
   "cell_type": "code",
   "execution_count": 9,
   "metadata": {},
   "outputs": [
    {
     "name": "stdout",
     "output_type": "stream",
     "text": [
      "Prettifying ISic000032...\n",
      "<div xmlns=\"http://www.tei-c.org/ns/1.0\" xmlns:xi=\"http://www.w3.org/2001/XInclude\" type=\"edition\" xml:space=\"preserve\" xml:lang=\"la\">\n",
      "                <ab>\n",
      "                    <lb n=\"1\" xml:id=\"ADUAK\"/><expan xml:id=\"ADUAU\"><abbr xml:id=\"ADUAe\">M</abbr><ex xml:id=\"ADUAo\">arcus</ex></expan> <g ref=\"#interpunct\" xml:id=\"ADUAy\">·</g> Cornelius <g ref=\"#interpunct\" xml:id=\"ADUAΙ\">·</g> <unclear xml:id=\"ADUAΤ\">Res</unclear><gap reason=\"lost\" extent=\"unknown\" unit=\"character\" xml:id=\"ADUAε\"/>\n",
      "                    <lb n=\"2\" xml:id=\"ADUAο\"/><expan xml:id=\"ADUBA\"><abbr xml:id=\"ADUBK\">Sex</abbr><ex xml:id=\"ADUBU\">tus</ex></expan> <g ref=\"#interpunct\" xml:id=\"ADUBe\">·</g> Clod<unclear xml:id=\"ADUBo\">i</unclear><gap reason=\"lost\" extent=\"unknown\" unit=\"character\" xml:id=\"ADUBy\"/>\n",
      "                </ab>\n",
      "            </div>\n",
      "            \n",
      "\n"
     ]
    }
   ],
   "source": [
    "# Tokenize\n",
    "doc.tokenize()\n",
    "\n",
    "# Set the IDs\n",
    "doc.set_full_ids()\n",
    "doc.prettify('pyepidoc')\n",
    "print(doc.main_edition.xml_str)"
   ]
  },
  {
   "cell_type": "markdown",
   "metadata": {},
   "source": [
    "## Setting the @n attribute\n",
    "\n",
    "This puts an @n attribute on <w> and <orig> elements. This is an ID local to the document, and should work on any EpiDoc file that contains these elements."
   ]
  },
  {
   "cell_type": "code",
   "execution_count": 11,
   "metadata": {},
   "outputs": [
    {
     "name": "stdout",
     "output_type": "stream",
     "text": [
      "Tokenizing ISic000032...\n",
      "Prettifying ISic000032...\n",
      "<div xmlns=\"http://www.tei-c.org/ns/1.0\" xmlns:xi=\"http://www.w3.org/2001/XInclude\" type=\"edition\" xml:space=\"preserve\" xml:lang=\"la\">\n",
      "                <ab>\n",
      "                    <lb n=\"1\"/><w n=\"5\"><expan><abbr>M</abbr><ex>arcus</ex></expan></w> <g ref=\"#interpunct\">·</g> <w n=\"10\">Cornelius</w> <g ref=\"#interpunct\">·</g> <w n=\"15\"><unclear>Res</unclear></w> <gap reason=\"lost\" extent=\"unknown\" unit=\"character\"/>\n",
      "                    <lb n=\"2\"/><w n=\"20\"><expan><abbr>Sex</abbr><ex>tus</ex></expan></w> <g ref=\"#interpunct\">·</g> <w n=\"25\">Clod<unclear>i</unclear></w> <gap reason=\"lost\" extent=\"unknown\" unit=\"character\"/>\n",
      "                </ab>\n",
      "            </div>\n",
      "            \n",
      "\n"
     ]
    }
   ],
   "source": [
    "doc = EpiDoc('../examples/ISic000032_untokenized.xml')\n",
    "doc.tokenize()\n",
    "doc.set_n_ids()\n",
    "print(doc.main_edition.xml_str)"
   ]
  }
 ],
 "metadata": {
  "kernelspec": {
   "display_name": "env39jupyter",
   "language": "python",
   "name": "python3"
  },
  "language_info": {
   "codemirror_mode": {
    "name": "ipython",
    "version": 3
   },
   "file_extension": ".py",
   "mimetype": "text/x-python",
   "name": "python",
   "nbconvert_exporter": "python",
   "pygments_lexer": "ipython3",
   "version": "3.9.20"
  }
 },
 "nbformat": 4,
 "nbformat_minor": 2
}
