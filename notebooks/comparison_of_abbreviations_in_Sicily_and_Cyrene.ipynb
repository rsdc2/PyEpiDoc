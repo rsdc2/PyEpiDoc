{
 "cells": [
  {
   "cell_type": "markdown",
   "metadata": {},
   "source": [
    "# Introduction\n",
    "This notebook provides an example of the kind of analysis you can do comparing two EpiDoc corpora, in this case in terms of the distribution of abbreviations."
   ]
  },
  {
   "cell_type": "markdown",
   "metadata": {},
   "source": [
    "# Load the dependencies and corpora\n",
    "\n",
    "In order to conduct the analysis, we will need PyEpiDoc, and the two corpora."
   ]
  },
  {
   "cell_type": "code",
   "execution_count": 1,
   "metadata": {},
   "outputs": [],
   "source": [
    "# Load dependencies\n",
    "from pyepidoc import EpiDoc, EpiDocCorpus"
   ]
  },
  {
   "cell_type": "markdown",
   "metadata": {},
   "source": [
    "# Create the corpora"
   ]
  },
  {
   "cell_type": "markdown",
   "metadata": {},
   "source": [
    "## I.Sicily"
   ]
  },
  {
   "cell_type": "markdown",
   "metadata": {},
   "source": [
    "#### Load the corpus\n",
    "The corpus can be downloaded [here](https://github.com/ISicily/ISicily).\n",
    "\n",
    "Once the corpus is downloaded, we can load it into PyEpiDoc as follows (replace the path with the path to where you have saved the I.Sicily corpus):"
   ]
  },
  {
   "cell_type": "code",
   "execution_count": 2,
   "metadata": {},
   "outputs": [],
   "source": [
    "isicily = EpiDocCorpus(r'..\\..\\..\\..\\Data\\ISicily\\ISicily\\inscriptions')"
   ]
  },
  {
   "cell_type": "markdown",
   "metadata": {},
   "source": [
    "Print the basic information about the corpus:"
   ]
  },
  {
   "cell_type": "code",
   "execution_count": 3,
   "metadata": {},
   "outputs": [
    {
     "name": "stdout",
     "output_type": "stream",
     "text": [
      "Document count:\t\t\t\t4728\n",
      "Date range:\t\t\t\t700 BCE--1830 CE\n",
      "Token count:\t\t\t\t12673\n",
      "  - of which names (% tokens):\t\t3517 (27.8%)\n",
      "Abbreviations:\t\t\t\t4581\n",
      "  - of which suspensions (% abbrs.):\t4326 (94.4%)\n",
      "    -- of which names (% susp.):\t389 (9.0%)\n",
      "    -- of which names (% names):\t389 (11.1%)\n",
      "  - name abbreviations (% names):\t394 (11.2%)\n",
      "    -- in:\t\t\t\t231 docs (4.9% total docs)\n"
     ]
    }
   ],
   "source": [
    "isicily.print_info()"
   ]
  },
  {
   "cell_type": "markdown",
   "metadata": {},
   "source": [
    "The I.Sicily corpus is not fully tokenized, so we need to tokenize it first:"
   ]
  },
  {
   "cell_type": "code",
   "execution_count": 4,
   "metadata": {},
   "outputs": [
    {
     "name": "stdout",
     "output_type": "stream",
     "text": [
      "Could not tokenize ISic000072: no main edition found.\n",
      "Could not tokenize ISic000073: no main edition found.\n",
      "Could not tokenize ISic000074: no main edition found.\n",
      "Could not tokenize ISic000075: no main edition found.\n",
      "Could not tokenize ISic000076: no main edition found.\n",
      "Could not tokenize ISic000077: no main edition found.\n",
      "Could not tokenize ISic000078: no main edition found.\n",
      "Could not tokenize ISic000519: no main edition found.\n",
      "Could not tokenize ISic000625: no main edition found.\n",
      "Could not tokenize ISic000630: no main edition found.\n",
      "Could not tokenize ISic000632: no main edition found.\n",
      "Could not tokenize ISic000652: no main edition found.\n",
      "Could not tokenize ISic000660: no main edition found.\n",
      "Could not tokenize ISic000662: no main edition found.\n",
      "Could not tokenize ISic000688: no main edition found.\n",
      "Could not tokenize ISic000698: no main edition found.\n",
      "Could not tokenize ISic000702: no main edition found.\n",
      "Could not tokenize ISic000809: no main edition found.\n",
      "Could not tokenize ISic001162: no main edition found.\n",
      "Could not tokenize ISic001186: no main edition found.\n",
      "Could not tokenize ISic001212: no main edition found.\n",
      "Could not tokenize ISic001213: no main edition found.\n",
      "Could not tokenize ISic001247: no main edition found.\n",
      "Could not tokenize ISic001253: no main edition found.\n",
      "Could not tokenize ISic001254: no main edition found.\n",
      "Could not tokenize ISic001255: no main edition found.\n",
      "Could not tokenize ISic001314: no main edition found.\n",
      "Could not tokenize ISic001371: no main edition found.\n",
      "Could not tokenize ISic001373: no main edition found.\n",
      "Could not tokenize ISic001374: no main edition found.\n",
      "Could not tokenize ISic001376: no main edition found.\n",
      "Could not tokenize ISic001379: no main edition found.\n",
      "Could not tokenize ISic001405: no main edition found.\n",
      "Could not tokenize ISic001410: no main edition found.\n",
      "Could not tokenize ISic001416: no main edition found.\n",
      "Could not tokenize ISic001427: no main edition found.\n",
      "Could not tokenize ISic001509: no main edition found.\n",
      "Could not tokenize ISic001511: no main edition found.\n",
      "Could not tokenize ISic001512: no main edition found.\n",
      "Could not tokenize ISic001538: no main edition found.\n",
      "Could not tokenize ISic001539: no main edition found.\n",
      "Could not tokenize ISic001540: no main edition found.\n",
      "Could not tokenize ISic001583: no main edition found.\n",
      "Could not tokenize ISic001584: no main edition found.\n",
      "Could not tokenize ISic001585: no main edition found.\n",
      "Could not tokenize ISic001586: no main edition found.\n",
      "Could not tokenize ISic001587: no main edition found.\n",
      "Could not tokenize ISic001588: no main edition found.\n",
      "Could not tokenize ISic001589: no main edition found.\n",
      "Could not tokenize ISic001590: no main edition found.\n",
      "Could not tokenize ISic001591: no main edition found.\n",
      "Could not tokenize ISic001592: no main edition found.\n",
      "Could not tokenize ISic001593: no main edition found.\n",
      "Could not tokenize ISic001594: no main edition found.\n",
      "Could not tokenize ISic001595: no main edition found.\n",
      "Could not tokenize ISic001596: no main edition found.\n",
      "Could not tokenize ISic001597: no main edition found.\n",
      "Could not tokenize ISic001598: no main edition found.\n",
      "Could not tokenize ISic001599: no main edition found.\n",
      "Could not tokenize ISic001600: no main edition found.\n",
      "Could not tokenize ISic001601: no main edition found.\n",
      "Could not tokenize ISic001602: no main edition found.\n",
      "Could not tokenize ISic001603: no main edition found.\n",
      "Could not tokenize ISic001604: no main edition found.\n",
      "Could not tokenize ISic001605: no main edition found.\n",
      "Could not tokenize ISic001606: no main edition found.\n",
      "Could not tokenize ISic001607: no main edition found.\n",
      "Could not tokenize ISic001608: no main edition found.\n",
      "Could not tokenize ISic001609: no main edition found.\n",
      "Could not tokenize ISic001610: no main edition found.\n",
      "Could not tokenize ISic001611: no main edition found.\n",
      "Could not tokenize ISic001612: no main edition found.\n",
      "Could not tokenize ISic001613: no main edition found.\n",
      "Could not tokenize ISic001614: no main edition found.\n",
      "Could not tokenize ISic001615: no main edition found.\n",
      "Could not tokenize ISic001616: no main edition found.\n",
      "Could not tokenize ISic001617: no main edition found.\n",
      "Could not tokenize ISic001619: no main edition found.\n",
      "Could not tokenize ISic001623: no main edition found.\n",
      "Could not tokenize ISic001624: no main edition found.\n",
      "Could not tokenize ISic001625: no main edition found.\n",
      "Could not tokenize ISic001634: no main edition found.\n",
      "Could not tokenize ISic001635: no main edition found.\n",
      "Could not tokenize ISic001647: no main edition found.\n",
      "Could not tokenize ISic001661: no main edition found.\n",
      "Could not tokenize ISic001664: no main edition found.\n",
      "Could not tokenize ISic001670: no main edition found.\n",
      "Could not tokenize ISic002710: no main edition found.\n",
      "Could not tokenize ISic002723: no main edition found.\n",
      "Could not tokenize ISic002724: no main edition found.\n",
      "Could not tokenize ISic002725: no main edition found.\n",
      "Could not tokenize ISic002726: no main edition found.\n",
      "Could not tokenize ISic002728: no main edition found.\n",
      "Could not tokenize ISic002731: no main edition found.\n",
      "Could not tokenize ISic002732: no main edition found.\n",
      "Could not tokenize ISic002733: no main edition found.\n",
      "Could not tokenize ISic002734: no main edition found.\n",
      "Could not tokenize ISic002736: no main edition found.\n",
      "Could not tokenize ISic002737: no main edition found.\n",
      "Could not tokenize ISic002749: no main edition found.\n",
      "Could not tokenize ISic002752: no main edition found.\n",
      "Could not tokenize ISic002756: no main edition found.\n",
      "Could not tokenize ISic002757: no main edition found.\n",
      "Could not tokenize ISic002758: no main edition found.\n",
      "Could not tokenize ISic002760: no main edition found.\n",
      "Could not tokenize ISic002761: no main edition found.\n",
      "Could not tokenize ISic002763: no main edition found.\n",
      "Could not tokenize ISic002817: no main edition found.\n",
      "Could not tokenize ISic002827: no main edition found.\n",
      "Could not tokenize ISic002839: no main edition found.\n",
      "Could not tokenize ISic002843: no main edition found.\n",
      "Could not tokenize ISic002845: no main edition found.\n",
      "Could not tokenize ISic002846: no main edition found.\n",
      "Could not tokenize ISic002847: no main edition found.\n",
      "Could not tokenize ISic002848: no main edition found.\n",
      "Could not tokenize ISic002849: no main edition found.\n",
      "Could not tokenize ISic002850: no main edition found.\n",
      "Could not tokenize ISic002851: no main edition found.\n",
      "Could not tokenize ISic002852: no main edition found.\n",
      "Could not tokenize ISic002853: no main edition found.\n",
      "Could not tokenize ISic002854: no main edition found.\n",
      "Could not tokenize ISic002855: no main edition found.\n",
      "Could not tokenize ISic002856: no main edition found.\n",
      "Could not tokenize ISic002858: no main edition found.\n",
      "Could not tokenize ISic002859: no main edition found.\n",
      "Could not tokenize ISic002860: no main edition found.\n",
      "Could not tokenize ISic002865: no main edition found.\n",
      "Could not tokenize ISic002866: no main edition found.\n",
      "Could not tokenize ISic002867: no main edition found.\n",
      "Could not tokenize ISic002868: no main edition found.\n",
      "Could not tokenize ISic002869: no main edition found.\n",
      "Could not tokenize ISic002870: no main edition found.\n",
      "Could not tokenize ISic002871: no main edition found.\n",
      "Could not tokenize ISic002872: no main edition found.\n",
      "Could not tokenize ISic002873: no main edition found.\n",
      "Could not tokenize ISic002874: no main edition found.\n",
      "Could not tokenize ISic002875: no main edition found.\n",
      "Could not tokenize ISic002879: no main edition found.\n",
      "Could not tokenize ISic002880: no main edition found.\n",
      "Could not tokenize ISic002881: no main edition found.\n",
      "Could not tokenize ISic002882: no main edition found.\n",
      "Could not tokenize ISic002883: no main edition found.\n",
      "Could not tokenize ISic002884: no main edition found.\n",
      "Could not tokenize ISic002885: no main edition found.\n",
      "Could not tokenize ISic002886: no main edition found.\n",
      "Could not tokenize ISic002887: no main edition found.\n",
      "Could not tokenize ISic002894: no main edition found.\n",
      "Could not tokenize ISic002897: no main edition found.\n",
      "Could not tokenize ISic002898: no main edition found.\n",
      "Could not tokenize ISic002899: no main edition found.\n",
      "Could not tokenize ISic002900: no main edition found.\n",
      "Could not tokenize ISic002901: no main edition found.\n",
      "Could not tokenize ISic002902: no main edition found.\n",
      "Could not tokenize ISic002903: no main edition found.\n",
      "Could not tokenize ISic002904: no main edition found.\n",
      "Could not tokenize ISic002905: no main edition found.\n",
      "Could not tokenize ISic002906: no main edition found.\n",
      "Could not tokenize ISic002907: no main edition found.\n",
      "Could not tokenize ISic002908: no main edition found.\n",
      "Could not tokenize ISic002909: no main edition found.\n",
      "Could not tokenize ISic002910: no main edition found.\n",
      "Could not tokenize ISic002911: no main edition found.\n",
      "Could not tokenize ISic002912: no main edition found.\n",
      "Could not tokenize ISic002913: no main edition found.\n",
      "Could not tokenize ISic002914: no main edition found.\n",
      "Could not tokenize ISic002915: no main edition found.\n",
      "Could not tokenize ISic002986: no main edition found.\n",
      "Could not tokenize ISic002987: no main edition found.\n",
      "Could not tokenize ISic002988: no main edition found.\n",
      "Could not tokenize ISic002993: no main edition found.\n",
      "Could not tokenize ISic002994: no main edition found.\n",
      "Could not tokenize ISic003023: no main edition found.\n",
      "Could not tokenize ISic003033: no main edition found.\n",
      "Could not tokenize ISic003034: no main edition found.\n",
      "Could not tokenize ISic003035: no main edition found.\n",
      "Could not tokenize ISic003038: no main edition found.\n",
      "Could not tokenize ISic003042: no main edition found.\n",
      "Could not tokenize ISic003043: no main edition found.\n",
      "Could not tokenize ISic003044: no main edition found.\n",
      "Could not tokenize ISic003050: no main edition found.\n",
      "Could not tokenize ISic003057: no main edition found.\n",
      "Could not tokenize ISic003058: no main edition found.\n",
      "Could not tokenize ISic003059: no main edition found.\n",
      "Could not tokenize ISic003060: no main edition found.\n",
      "Could not tokenize ISic003061: no main edition found.\n",
      "Could not tokenize ISic003062: no main edition found.\n",
      "Could not tokenize ISic003064: no main edition found.\n",
      "Could not tokenize ISic003080: no main edition found.\n",
      "Could not tokenize ISic003081: no main edition found.\n",
      "Could not tokenize ISic003082: no main edition found.\n",
      "Could not tokenize ISic003091: no main edition found.\n",
      "Could not tokenize ISic003115: no main edition found.\n",
      "Could not tokenize ISic003131: no main edition found.\n",
      "Could not tokenize ISic003132: no main edition found.\n",
      "Could not tokenize ISic003147: no main edition found.\n",
      "Could not tokenize ISic003153: no main edition found.\n",
      "Could not tokenize ISic003198: no main edition found.\n",
      "Could not tokenize ISic003199: no main edition found.\n",
      "Could not tokenize ISic003343: no main edition found.\n",
      "Could not tokenize ISic003353: no main edition found.\n",
      "Could not tokenize ISic003361: no main edition found.\n",
      "Could not tokenize ISic003399: no main edition found.\n",
      "Could not tokenize ISic003413: no main edition found.\n",
      "Could not tokenize ISic003421: no main edition found.\n",
      "Could not tokenize ISic003432: no main edition found.\n",
      "Could not tokenize ISic003434: no main edition found.\n",
      "Could not tokenize ISic003446: no main edition found.\n",
      "Could not tokenize ISic003472: no main edition found.\n",
      "Could not tokenize ISic003473: no main edition found.\n",
      "Could not tokenize ISic003507: no main edition found.\n",
      "Could not tokenize ISic003543: no main edition found.\n",
      "Could not tokenize ISic003544: no main edition found.\n",
      "Could not tokenize ISic003545: no main edition found.\n",
      "Could not tokenize ISic003561: no main edition found.\n",
      "Could not tokenize ISic003562: no main edition found.\n",
      "Could not tokenize ISic003566: no main edition found.\n",
      "Could not tokenize ISic003568: no main edition found.\n",
      "Could not tokenize ISic003569: no main edition found.\n",
      "Could not tokenize ISic003570: no main edition found.\n",
      "Could not tokenize ISic003592: no main edition found.\n",
      "Could not tokenize ISic003597: no main edition found.\n",
      "Could not tokenize ISic003598: no main edition found.\n",
      "Could not tokenize ISic003599: no main edition found.\n",
      "Could not tokenize ISic003614: no main edition found.\n",
      "Could not tokenize ISic003615: no main edition found.\n",
      "Could not tokenize ISic003616: no main edition found.\n",
      "Could not tokenize ISic003618: no main edition found.\n",
      "Could not tokenize ISic003620: no main edition found.\n",
      "Could not tokenize ISic003621: no main edition found.\n",
      "Could not tokenize ISic003623: no main edition found.\n",
      "Could not tokenize ISic003624: no main edition found.\n",
      "Could not tokenize ISic003625: no main edition found.\n",
      "Could not tokenize ISic003626: no main edition found.\n",
      "Could not tokenize ISic003627: no main edition found.\n",
      "Could not tokenize ISic003636: no main edition found.\n",
      "Could not tokenize ISic003638: no main edition found.\n",
      "Could not tokenize ISic003647: no main edition found.\n",
      "Could not tokenize ISic003648: no main edition found.\n",
      "Could not tokenize ISic003649: no main edition found.\n",
      "Could not tokenize ISic003650: no main edition found.\n",
      "Could not tokenize ISic003657: no main edition found.\n",
      "Could not tokenize ISic003688: no main edition found.\n",
      "Could not tokenize ISic003693: no main edition found.\n",
      "Could not tokenize ISic003694: no main edition found.\n",
      "Could not tokenize ISic003702: no main edition found.\n",
      "Could not tokenize ISic003703: no main edition found.\n",
      "Could not tokenize ISic003704: no main edition found.\n",
      "Could not tokenize ISic003705: no main edition found.\n",
      "Could not tokenize ISic003706: no main edition found.\n",
      "Could not tokenize ISic003707: no main edition found.\n",
      "Could not tokenize ISic003709: no main edition found.\n",
      "Could not tokenize ISic003718: no main edition found.\n",
      "Could not tokenize ISic003719: no main edition found.\n",
      "Could not tokenize ISic003724: no main edition found.\n",
      "Could not tokenize ISic004027: no main edition found.\n",
      "Could not tokenize ISic004032: no main edition found.\n",
      "Could not tokenize ISic004033: no main edition found.\n",
      "Could not tokenize ISic004034: no main edition found.\n",
      "Could not tokenize ISic004035: no main edition found.\n",
      "Could not tokenize ISic004036: no main edition found.\n",
      "Could not tokenize ISic004037: no main edition found.\n",
      "Could not tokenize ISic004038: no main edition found.\n",
      "Could not tokenize ISic004039: no main edition found.\n",
      "Could not tokenize ISic004040: no main edition found.\n",
      "Could not tokenize ISic004041: no main edition found.\n",
      "Could not tokenize ISic004042: no main edition found.\n",
      "Could not tokenize ISic004043: no main edition found.\n",
      "Could not tokenize ISic004044: no main edition found.\n",
      "Could not tokenize ISic004045: no main edition found.\n",
      "Could not tokenize ISic004046: no main edition found.\n",
      "Could not tokenize ISic004047: no main edition found.\n",
      "Could not tokenize ISic004048: no main edition found.\n",
      "Could not tokenize ISic004049: no main edition found.\n",
      "Could not tokenize ISic004050: no main edition found.\n",
      "Could not tokenize ISic004051: no main edition found.\n",
      "Could not tokenize ISic004052: no main edition found.\n",
      "Could not tokenize ISic004054: no main edition found.\n",
      "Could not tokenize ISic004056: no main edition found.\n",
      "Could not tokenize ISic004057: no main edition found.\n",
      "Could not tokenize ISic004058: no main edition found.\n",
      "Could not tokenize ISic004059: no main edition found.\n",
      "Could not tokenize ISic004060: no main edition found.\n",
      "Could not tokenize ISic004061: no main edition found.\n",
      "Could not tokenize ISic004062: no main edition found.\n",
      "Could not tokenize ISic004063: no main edition found.\n",
      "Could not tokenize ISic004064: no main edition found.\n",
      "Could not tokenize ISic004065: no main edition found.\n",
      "Could not tokenize ISic004066: no main edition found.\n",
      "Could not tokenize ISic004067: no main edition found.\n",
      "Could not tokenize ISic004068: no main edition found.\n",
      "Could not tokenize ISic004069: no main edition found.\n",
      "Could not tokenize ISic004070: no main edition found.\n",
      "Could not tokenize ISic004071: no main edition found.\n",
      "Could not tokenize ISic004072: no main edition found.\n",
      "Could not tokenize ISic004073: no main edition found.\n",
      "Could not tokenize ISic004074: no main edition found.\n",
      "Could not tokenize ISic004075: no main edition found.\n",
      "Could not tokenize ISic004076: no main edition found.\n",
      "Could not tokenize ISic004077: no main edition found.\n",
      "Could not tokenize ISic004078: no main edition found.\n",
      "Could not tokenize ISic004079: no main edition found.\n",
      "Could not tokenize ISic004080: no main edition found.\n",
      "Could not tokenize ISic004081: no main edition found.\n",
      "Could not tokenize ISic004082: no main edition found.\n",
      "Could not tokenize ISic004084: no main edition found.\n",
      "Could not tokenize ISic004085: no main edition found.\n",
      "Could not tokenize ISic004086: no main edition found.\n",
      "Could not tokenize ISic004087: no main edition found.\n",
      "Could not tokenize ISic004088: no main edition found.\n",
      "Could not tokenize ISic004089: no main edition found.\n",
      "Could not tokenize ISic004090: no main edition found.\n",
      "Could not tokenize ISic004091: no main edition found.\n",
      "Could not tokenize ISic004092: no main edition found.\n",
      "Could not tokenize ISic004093: no main edition found.\n",
      "Could not tokenize ISic004094: no main edition found.\n",
      "Could not tokenize ISic004095: no main edition found.\n",
      "Could not tokenize ISic004096: no main edition found.\n",
      "Could not tokenize ISic004097: no main edition found.\n",
      "Could not tokenize ISic004098: no main edition found.\n",
      "Could not tokenize ISic004099: no main edition found.\n",
      "Could not tokenize ISic004100: no main edition found.\n",
      "Could not tokenize ISic004101: no main edition found.\n",
      "Could not tokenize ISic004102: no main edition found.\n",
      "Could not tokenize ISic004103: no main edition found.\n",
      "Could not tokenize ISic004104: no main edition found.\n",
      "Could not tokenize ISic004105: no main edition found.\n",
      "Could not tokenize ISic004106: no main edition found.\n",
      "Could not tokenize ISic004107: no main edition found.\n",
      "Could not tokenize ISic004108: no main edition found.\n",
      "Could not tokenize ISic004109: no main edition found.\n",
      "Could not tokenize ISic004110: no main edition found.\n",
      "Could not tokenize ISic004111: no main edition found.\n",
      "Could not tokenize ISic004112: no main edition found.\n",
      "Could not tokenize ISic004113: no main edition found.\n",
      "Could not tokenize ISic004114: no main edition found.\n",
      "Could not tokenize ISic004115: no main edition found.\n",
      "Could not tokenize ISic004116: no main edition found.\n",
      "Could not tokenize ISic004117: no main edition found.\n",
      "Could not tokenize ISic004118: no main edition found.\n",
      "Could not tokenize ISic004119: no main edition found.\n",
      "Could not tokenize ISic004120: no main edition found.\n",
      "Could not tokenize ISic004121: no main edition found.\n",
      "Could not tokenize ISic004122: no main edition found.\n",
      "Could not tokenize ISic004123: no main edition found.\n",
      "Could not tokenize ISic004124: no main edition found.\n",
      "Could not tokenize ISic004125: no main edition found.\n",
      "Could not tokenize ISic004126: no main edition found.\n",
      "Could not tokenize ISic004127: no main edition found.\n",
      "Could not tokenize ISic004128: no main edition found.\n",
      "Could not tokenize ISic004129: no main edition found.\n",
      "Could not tokenize ISic004130: no main edition found.\n",
      "Could not tokenize ISic004131: no main edition found.\n",
      "Could not tokenize ISic004132: no main edition found.\n",
      "Could not tokenize ISic004133: no main edition found.\n",
      "Could not tokenize ISic004134: no main edition found.\n",
      "Could not tokenize ISic004135: no main edition found.\n",
      "Could not tokenize ISic004136: no main edition found.\n",
      "Could not tokenize ISic004137: no main edition found.\n",
      "Could not tokenize ISic004138: no main edition found.\n",
      "Could not tokenize ISic004139: no main edition found.\n",
      "Could not tokenize ISic004140: no main edition found.\n",
      "Could not tokenize ISic004141: no main edition found.\n",
      "Could not tokenize ISic004142: no main edition found.\n",
      "Could not tokenize ISic004143: no main edition found.\n",
      "Could not tokenize ISic004144: no main edition found.\n",
      "Could not tokenize ISic004145: no main edition found.\n",
      "Could not tokenize ISic004146: no main edition found.\n",
      "Could not tokenize ISic004147: no main edition found.\n",
      "Could not tokenize ISic004148: no main edition found.\n",
      "Could not tokenize ISic004149: no main edition found.\n",
      "Could not tokenize ISic004150: no main edition found.\n",
      "Could not tokenize ISic004151: no main edition found.\n",
      "Could not tokenize ISic004152: no main edition found.\n",
      "Could not tokenize ISic004153: no main edition found.\n",
      "Could not tokenize ISic004154: no main edition found.\n",
      "Could not tokenize ISic004155: no main edition found.\n",
      "Could not tokenize ISic004156: no main edition found.\n",
      "Could not tokenize ISic004157: no main edition found.\n",
      "Could not tokenize ISic004158: no main edition found.\n",
      "Could not tokenize ISic004159: no main edition found.\n",
      "Could not tokenize ISic004160: no main edition found.\n",
      "Could not tokenize ISic004161: no main edition found.\n",
      "Could not tokenize ISic004162: no main edition found.\n",
      "Could not tokenize ISic004163: no main edition found.\n",
      "Could not tokenize ISic004164: no main edition found.\n",
      "Could not tokenize ISic004165: no main edition found.\n",
      "Could not tokenize ISic004166: no main edition found.\n",
      "Could not tokenize ISic004167: no main edition found.\n",
      "Could not tokenize ISic004168: no main edition found.\n",
      "Could not tokenize ISic004169: no main edition found.\n",
      "Could not tokenize ISic004170: no main edition found.\n",
      "Could not tokenize ISic004171: no main edition found.\n",
      "Could not tokenize ISic004172: no main edition found.\n",
      "Could not tokenize ISic004173: no main edition found.\n",
      "Could not tokenize ISic004174: no main edition found.\n",
      "Could not tokenize ISic004175: no main edition found.\n",
      "Could not tokenize ISic004176: no main edition found.\n",
      "Could not tokenize ISic004177: no main edition found.\n",
      "Could not tokenize ISic004178: no main edition found.\n",
      "Could not tokenize ISic004179: no main edition found.\n",
      "Could not tokenize ISic004180: no main edition found.\n",
      "Could not tokenize ISic004181: no main edition found.\n",
      "Could not tokenize ISic004182: no main edition found.\n",
      "Could not tokenize ISic004183: no main edition found.\n",
      "Could not tokenize ISic004184: no main edition found.\n",
      "Could not tokenize ISic004185: no main edition found.\n",
      "Could not tokenize ISic004186: no main edition found.\n",
      "Could not tokenize ISic004187: no main edition found.\n",
      "Could not tokenize ISic004188: no main edition found.\n",
      "Could not tokenize ISic004189: no main edition found.\n",
      "Could not tokenize ISic004190: no main edition found.\n",
      "Could not tokenize ISic004191: no main edition found.\n",
      "Could not tokenize ISic004192: no main edition found.\n",
      "Could not tokenize ISic004193: no main edition found.\n",
      "Could not tokenize ISic004194: no main edition found.\n",
      "Could not tokenize ISic004195: no main edition found.\n",
      "Could not tokenize ISic004196: no main edition found.\n",
      "Could not tokenize ISic004197: no main edition found.\n",
      "Could not tokenize ISic004198: no main edition found.\n",
      "Could not tokenize ISic004199: no main edition found.\n",
      "Could not tokenize ISic004200: no main edition found.\n",
      "Could not tokenize ISic004201: no main edition found.\n",
      "Could not tokenize ISic004202: no main edition found.\n",
      "Could not tokenize ISic004203: no main edition found.\n",
      "Could not tokenize ISic004204: no main edition found.\n",
      "Could not tokenize ISic004205: no main edition found.\n",
      "Could not tokenize ISic004206: no main edition found.\n",
      "Could not tokenize ISic004207: no main edition found.\n",
      "Could not tokenize ISic004208: no main edition found.\n",
      "Could not tokenize ISic004209: no main edition found.\n",
      "Could not tokenize ISic004210: no main edition found.\n",
      "Could not tokenize ISic004211: no main edition found.\n",
      "Could not tokenize ISic004212: no main edition found.\n",
      "Could not tokenize ISic004213: no main edition found.\n",
      "Could not tokenize ISic004214: no main edition found.\n",
      "Could not tokenize ISic004215: no main edition found.\n",
      "Could not tokenize ISic004216: no main edition found.\n",
      "Could not tokenize ISic004217: no main edition found.\n",
      "Could not tokenize ISic004218: no main edition found.\n",
      "Could not tokenize ISic004219: no main edition found.\n",
      "Could not tokenize ISic004220: no main edition found.\n",
      "Could not tokenize ISic004221: no main edition found.\n",
      "Could not tokenize ISic004222: no main edition found.\n",
      "Could not tokenize ISic004223: no main edition found.\n",
      "Could not tokenize ISic004224: no main edition found.\n",
      "Could not tokenize ISic004225: no main edition found.\n",
      "Could not tokenize ISic004226: no main edition found.\n",
      "Could not tokenize ISic004227: no main edition found.\n",
      "Could not tokenize ISic004229: no main edition found.\n",
      "Could not tokenize ISic004230: no main edition found.\n",
      "Could not tokenize ISic004231: no main edition found.\n",
      "Could not tokenize ISic004232: no main edition found.\n",
      "Could not tokenize ISic004233: no main edition found.\n",
      "Could not tokenize ISic004235: no main edition found.\n",
      "Could not tokenize ISic004236: no main edition found.\n",
      "Could not tokenize ISic004237: no main edition found.\n",
      "Could not tokenize ISic004238: no main edition found.\n",
      "Could not tokenize ISic004239: no main edition found.\n",
      "Could not tokenize ISic004240: no main edition found.\n",
      "Could not tokenize ISic004241: no main edition found.\n",
      "Could not tokenize ISic004242: no main edition found.\n",
      "Could not tokenize ISic004243: no main edition found.\n",
      "Could not tokenize ISic004244: no main edition found.\n",
      "Could not tokenize ISic004245: no main edition found.\n",
      "Could not tokenize ISic004246: no main edition found.\n",
      "Could not tokenize ISic004247: no main edition found.\n",
      "Could not tokenize ISic004248: no main edition found.\n",
      "Could not tokenize ISic004249: no main edition found.\n",
      "Could not tokenize ISic004250: no main edition found.\n",
      "Could not tokenize ISic004251: no main edition found.\n",
      "Could not tokenize ISic004252: no main edition found.\n",
      "Could not tokenize ISic004253: no main edition found.\n",
      "Could not tokenize ISic004254: no main edition found.\n",
      "Could not tokenize ISic004255: no main edition found.\n",
      "Could not tokenize ISic004256: no main edition found.\n",
      "Could not tokenize ISic004257: no main edition found.\n",
      "Could not tokenize ISic004258: no main edition found.\n",
      "Could not tokenize ISic004259: no main edition found.\n",
      "Could not tokenize ISic004260: no main edition found.\n",
      "Could not tokenize ISic004261: no main edition found.\n",
      "Could not tokenize ISic004262: no main edition found.\n",
      "Could not tokenize ISic004263: no main edition found.\n",
      "Could not tokenize ISic004264: no main edition found.\n",
      "Could not tokenize ISic004265: no main edition found.\n",
      "Could not tokenize ISic004271: no main edition found.\n",
      "Could not tokenize ISic004274: no main edition found.\n",
      "Could not tokenize ISic004280: no main edition found.\n",
      "Could not tokenize ISic004282: no main edition found.\n",
      "Could not tokenize ISic004284: no main edition found.\n",
      "Could not tokenize ISic004285: no main edition found.\n",
      "Could not tokenize ISic004286: no main edition found.\n",
      "Could not tokenize ISic004287: no main edition found.\n",
      "Could not tokenize ISic004288: no main edition found.\n",
      "Could not tokenize ISic004289: no main edition found.\n",
      "Could not tokenize ISic004290: no main edition found.\n",
      "Could not tokenize ISic004291: no main edition found.\n",
      "Could not tokenize ISic004330: no main edition found.\n",
      "Could not tokenize ISic004331: no main edition found.\n",
      "Could not tokenize ISic004332: no main edition found.\n",
      "Could not tokenize ISic004333: no main edition found.\n",
      "Could not tokenize ISic004337: no main edition found.\n",
      "Could not tokenize ISic004338: no main edition found.\n",
      "Could not tokenize ISic020068: no main edition found.\n",
      "Could not tokenize ISic020144: no main edition found.\n",
      "Could not tokenize ISic030297: no main edition found.\n",
      "Could not tokenize ISic030298: no main edition found.\n",
      "Could not tokenize ISic030299: no main edition found.\n",
      "Could not tokenize ISic030300: no main edition found.\n",
      "Could not tokenize ISic030301: no main edition found.\n"
     ]
    }
   ],
   "source": [
    "isicily.tokenize_to_folder(r'..\\..\\..\\..\\Data\\ISicily\\ISicilyTokenizedNames')"
   ]
  },
  {
   "cell_type": "markdown",
   "metadata": {},
   "source": [
    "Then we need to load the tokenized corpus:"
   ]
  },
  {
   "cell_type": "code",
   "execution_count": 5,
   "metadata": {},
   "outputs": [],
   "source": [
    "isicily_tokenized = EpiDocCorpus(r'..\\..\\..\\..\\Data\\ISicily\\ISicilyTokenized')"
   ]
  },
  {
   "cell_type": "code",
   "execution_count": 7,
   "metadata": {},
   "outputs": [
    {
     "name": "stdout",
     "output_type": "stream",
     "text": [
      "Document count:\t\t\t\t4610\n",
      "Date range:\t\t\t\t700 BCE--1830 CE\n",
      "Token count:\t\t\t\t34734\n",
      "  - of which names (% tokens):\t\t3513 (10.1%)\n",
      "Abbreviations:\t\t\t\t4543\n",
      "  - of which suspensions (% abbrs.):\t4300 (94.7%)\n",
      "    -- of which names (% susp.):\t389 (9.0%)\n",
      "    -- of which names (% names):\t389 (11.1%)\n",
      "  - name abbreviations (% names):\t394 (11.2%)\n",
      "    -- in:\t\t\t\t231 docs (5.0% total docs)\n"
     ]
    }
   ],
   "source": [
    "isicily_tokenized.print_info()"
   ]
  },
  {
   "cell_type": "markdown",
   "metadata": {},
   "source": [
    "### Create a Roman-era sub-corpus\n",
    "\n",
    "We can now create a sub-corpus of the Roman-era inscriptions:"
   ]
  },
  {
   "cell_type": "code",
   "execution_count": 6,
   "metadata": {},
   "outputs": [],
   "source": [
    "isicily_roman = isicily_tokenized.filter_by_dateafter(-1)"
   ]
  },
  {
   "cell_type": "code",
   "execution_count": null,
   "metadata": {},
   "outputs": [],
   "source": [
    "isicily_roman.doc_count"
   ]
  },
  {
   "cell_type": "markdown",
   "metadata": {},
   "source": [
    "#### Create a subcorpus of documents ranging from 1 to 200 CE"
   ]
  },
  {
   "cell_type": "code",
   "execution_count": 16,
   "metadata": {},
   "outputs": [],
   "source": [
    "isicily_1_to_200 = isicily_tokenized.filter_by_daterange(1, 200)"
   ]
  },
  {
   "cell_type": "code",
   "execution_count": null,
   "metadata": {},
   "outputs": [],
   "source": [
    "isicily_1_to_200.doc_count"
   ]
  },
  {
   "cell_type": "markdown",
   "metadata": {},
   "source": [
    "#### Create a late-antique subcorpus"
   ]
  },
  {
   "cell_type": "code",
   "execution_count": 18,
   "metadata": {},
   "outputs": [],
   "source": [
    "isicily_late_antique = isicily_tokenized.filter_by_dateafter(200)"
   ]
  },
  {
   "cell_type": "markdown",
   "metadata": {},
   "source": []
  },
  {
   "cell_type": "code",
   "execution_count": null,
   "metadata": {},
   "outputs": [],
   "source": [
    "isicily_late_antique.doc_count"
   ]
  },
  {
   "cell_type": "markdown",
   "metadata": {},
   "source": [
    "## Cyrene"
   ]
  },
  {
   "cell_type": "markdown",
   "metadata": {},
   "source": [
    "### Obtain the corpus\n",
    "\n",
    "A `.zip` file containing the Inscriptions from Roman Cyrene corpus (IRCyr) can be obtained from [here](https://ircyr2020.inslib.kcl.ac.uk/en/inscriptions/)."
   ]
  },
  {
   "cell_type": "markdown",
   "metadata": {},
   "source": [
    "### Load the corpus\n",
    "\n",
    "The Cyrene corpus is already tokenized, so we just need to load it."
   ]
  },
  {
   "cell_type": "code",
   "execution_count": null,
   "metadata": {},
   "outputs": [],
   "source": [
    "cyrene = EpiDocCorpus(r'..\\..\\..\\..\\Data\\IRCyr')"
   ]
  },
  {
   "cell_type": "markdown",
   "metadata": {},
   "source": [
    "### Create a Roman-era sub-corpus"
   ]
  },
  {
   "cell_type": "code",
   "execution_count": null,
   "metadata": {},
   "outputs": [],
   "source": [
    "cyrene_roman = cyrene.filter_by_dateafter(1)\n",
    "cyrene_roman.doc_count"
   ]
  },
  {
   "cell_type": "markdown",
   "metadata": {},
   "source": [
    "### Create a subcorpus for inscriptions dating from between 1 and 200 CE"
   ]
  },
  {
   "cell_type": "code",
   "execution_count": 21,
   "metadata": {},
   "outputs": [],
   "source": [
    "cyrene_1_to_200 = cyrene.filter_by_daterange(1, 200)"
   ]
  },
  {
   "cell_type": "code",
   "execution_count": null,
   "metadata": {},
   "outputs": [],
   "source": [
    "cyrene_1_to_200.daterange"
   ]
  },
  {
   "cell_type": "markdown",
   "metadata": {},
   "source": [
    "### Compare the distributions of abbreviations (in CSV files)"
   ]
  },
  {
   "cell_type": "code",
   "execution_count": 23,
   "metadata": {},
   "outputs": [],
   "source": [
    "from pyepidoc.analysis.abbreviations import csvoutput as csvout"
   ]
  },
  {
   "cell_type": "markdown",
   "metadata": {},
   "source": [
    "We write out the abbreviation distribution to a CSV file:"
   ]
  },
  {
   "cell_type": "code",
   "execution_count": null,
   "metadata": {},
   "outputs": [],
   "source": [
    "csvout.overall_analysis_to_csv(cyrene_roman, 'cyrene_roman.csv')"
   ]
  },
  {
   "cell_type": "code",
   "execution_count": null,
   "metadata": {},
   "outputs": [],
   "source": [
    "csvout.overall_analysis_to_csv(isicily_roman, 'isicily_roman.csv')"
   ]
  },
  {
   "cell_type": "code",
   "execution_count": null,
   "metadata": {},
   "outputs": [],
   "source": [
    "csvout.overall_analysis_to_csv(cyrene_1_to_200, 'cyrene_1_to_200.csv')\n",
    "csvout.overall_analysis_to_csv(isicily_1_to_200, 'isicily_1_to_200.csv')"
   ]
  }
 ],
 "metadata": {
  "kernelspec": {
   "display_name": ".env12ju",
   "language": "python",
   "name": "python3"
  },
  "language_info": {
   "codemirror_mode": {
    "name": "ipython",
    "version": 3
   },
   "file_extension": ".py",
   "mimetype": "text/x-python",
   "name": "python",
   "nbconvert_exporter": "python",
   "pygments_lexer": "ipython3",
   "version": "3.12.9"
  }
 },
 "nbformat": 4,
 "nbformat_minor": 2
}
