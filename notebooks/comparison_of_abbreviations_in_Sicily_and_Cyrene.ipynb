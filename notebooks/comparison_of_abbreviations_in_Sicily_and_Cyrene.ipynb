{
 "cells": [
  {
   "cell_type": "markdown",
   "metadata": {},
   "source": [
    "# Introduction\n",
    "This notebook provides an example of the kind of analysis you can do comparing two EpiDoc corpora, in this case in terms of the distribution of abbreviations."
   ]
  },
  {
   "cell_type": "markdown",
   "metadata": {},
   "source": [
    "# Load the dependencies and corpora\n",
    "\n",
    "In order to conduct the analysis, we will need PyEpiDoc, and the two corpora."
   ]
  },
  {
   "cell_type": "code",
   "execution_count": 1,
   "metadata": {},
   "outputs": [],
   "source": [
    "# Load dependencies\n",
    "from pyepidoc import EpiDoc, EpiDocCorpus"
   ]
  },
  {
   "cell_type": "markdown",
   "metadata": {},
   "source": [
    "# Create the corpora"
   ]
  },
  {
   "cell_type": "markdown",
   "metadata": {},
   "source": [
    "## I.Sicily"
   ]
  },
  {
   "cell_type": "markdown",
   "metadata": {},
   "source": [
    "#### Load the corpus\n",
    "The corpus can be downloaded [here](https://github.com/ISicily/ISicily).\n",
    "\n",
    "Once the corpus is downloaded, we can load it into PyEpiDoc as follows (replace the path with the path to where you have saved the I.Sicily corpus):"
   ]
  },
  {
   "cell_type": "code",
   "execution_count": 2,
   "metadata": {},
   "outputs": [],
   "source": [
    "isicily = EpiDocCorpus(r'..\\..\\..\\..\\Data\\ISicily\\ISicily\\inscriptions')"
   ]
  },
  {
   "cell_type": "markdown",
   "metadata": {},
   "source": [
    "Print the basic information about the corpus:"
   ]
  },
  {
   "cell_type": "code",
   "execution_count": null,
   "metadata": {},
   "outputs": [],
   "source": [
    "isicily.print_info()"
   ]
  },
  {
   "cell_type": "markdown",
   "metadata": {},
   "source": [
    "The I.Sicily corpus is not fully tokenized, so we need to tokenize it first:"
   ]
  },
  {
   "cell_type": "code",
   "execution_count": null,
   "metadata": {},
   "outputs": [],
   "source": [
    "isicily.tokenize_to_folder(r'..\\..\\..\\..\\Data\\ISicily\\ISicilyTokenizedNames')"
   ]
  },
  {
   "cell_type": "markdown",
   "metadata": {},
   "source": [
    "Then we need to load the tokenized corpus:"
   ]
  },
  {
   "cell_type": "code",
   "execution_count": 5,
   "metadata": {},
   "outputs": [],
   "source": [
    "isicily_tokenized = EpiDocCorpus(r'..\\..\\..\\..\\Data\\ISicily\\ISicilyTokenized')"
   ]
  },
  {
   "cell_type": "code",
   "execution_count": null,
   "metadata": {},
   "outputs": [],
   "source": [
    "isicily_tokenized.print_info()"
   ]
  },
  {
   "cell_type": "markdown",
   "metadata": {},
   "source": [
    "### Create a Roman-era sub-corpus\n",
    "\n",
    "We can now create a sub-corpus of the Roman-era inscriptions:"
   ]
  },
  {
   "cell_type": "code",
   "execution_count": 6,
   "metadata": {},
   "outputs": [],
   "source": [
    "isicily_roman = isicily_tokenized.filter_by_dateafter(-1)"
   ]
  },
  {
   "cell_type": "code",
   "execution_count": null,
   "metadata": {},
   "outputs": [],
   "source": [
    "isicily_roman.doc_count"
   ]
  },
  {
   "cell_type": "markdown",
   "metadata": {},
   "source": [
    "#### Create a subcorpus of documents ranging from 1 to 200 CE"
   ]
  },
  {
   "cell_type": "code",
   "execution_count": 16,
   "metadata": {},
   "outputs": [],
   "source": [
    "isicily_1_to_200 = isicily_tokenized.filter_by_daterange(1, 200)"
   ]
  },
  {
   "cell_type": "code",
   "execution_count": null,
   "metadata": {},
   "outputs": [],
   "source": [
    "isicily_1_to_200.doc_count"
   ]
  },
  {
   "cell_type": "markdown",
   "metadata": {},
   "source": [
    "#### Create a late-antique subcorpus"
   ]
  },
  {
   "cell_type": "code",
   "execution_count": 18,
   "metadata": {},
   "outputs": [],
   "source": [
    "isicily_late_antique = isicily_tokenized.filter_by_dateafter(200)"
   ]
  },
  {
   "cell_type": "code",
   "execution_count": null,
   "metadata": {},
   "outputs": [],
   "source": [
    "isicily_late_antique.doc_count"
   ]
  },
  {
   "cell_type": "markdown",
   "metadata": {},
   "source": [
    "## Cyrene"
   ]
  },
  {
   "cell_type": "markdown",
   "metadata": {},
   "source": [
    "### Obtain the corpus\n",
    "\n",
    "A `.zip` file containing the Inscriptions from Roman Cyrene corpus (IRCyr) can be obtained from [here](https://ircyr2020.inslib.kcl.ac.uk/en/inscriptions/)."
   ]
  },
  {
   "cell_type": "markdown",
   "metadata": {},
   "source": [
    "### Load the corpus\n",
    "\n",
    "The Cyrene corpus is already tokenized, so we just need to load it."
   ]
  },
  {
   "cell_type": "code",
   "execution_count": null,
   "metadata": {},
   "outputs": [],
   "source": [
    "cyrene = EpiDocCorpus(r'..\\..\\..\\..\\Data\\IRCyr')"
   ]
  },
  {
   "cell_type": "markdown",
   "metadata": {},
   "source": [
    "### Create a Roman-era sub-corpus"
   ]
  },
  {
   "cell_type": "code",
   "execution_count": null,
   "metadata": {},
   "outputs": [],
   "source": [
    "cyrene_roman = cyrene.filter_by_dateafter(1)\n",
    "cyrene_roman.doc_count"
   ]
  },
  {
   "cell_type": "markdown",
   "metadata": {},
   "source": [
    "### Create a subcorpus for inscriptions dating from between 1 and 200 CE"
   ]
  },
  {
   "cell_type": "code",
   "execution_count": 21,
   "metadata": {},
   "outputs": [],
   "source": [
    "cyrene_1_to_200 = cyrene.filter_by_daterange(1, 200)"
   ]
  },
  {
   "cell_type": "code",
   "execution_count": null,
   "metadata": {},
   "outputs": [],
   "source": [
    "cyrene_1_to_200.daterange"
   ]
  },
  {
   "cell_type": "markdown",
   "metadata": {},
   "source": [
    "### Compare the distributions of abbreviations (in CSV files)"
   ]
  },
  {
   "cell_type": "code",
   "execution_count": 23,
   "metadata": {},
   "outputs": [],
   "source": [
    "from pyepidoc.analysis.abbreviations import csvoutput as csvout"
   ]
  },
  {
   "cell_type": "markdown",
   "metadata": {},
   "source": [
    "We write out the abbreviation distribution to a CSV file (if the path isn't modified, it will be created locally, in the `notebooks` folder):"
   ]
  },
  {
   "cell_type": "code",
   "execution_count": null,
   "metadata": {},
   "outputs": [],
   "source": [
    "csvout.overall_analysis_to_csv(cyrene_roman, 'cyrene_roman.csv')"
   ]
  },
  {
   "cell_type": "code",
   "execution_count": null,
   "metadata": {},
   "outputs": [],
   "source": [
    "csvout.overall_analysis_to_csv(isicily_roman, 'isicily_roman.csv')"
   ]
  },
  {
   "cell_type": "code",
   "execution_count": null,
   "metadata": {},
   "outputs": [],
   "source": [
    "csvout.overall_analysis_to_csv(cyrene_1_to_200, 'cyrene_1_to_200.csv')\n",
    "csvout.overall_analysis_to_csv(isicily_1_to_200, 'isicily_1_to_200.csv')"
   ]
  }
 ],
 "metadata": {
  "kernelspec": {
   "display_name": ".env12ju",
   "language": "python",
   "name": "python3"
  },
  "language_info": {
   "codemirror_mode": {
    "name": "ipython",
    "version": 3
   },
   "file_extension": ".py",
   "mimetype": "text/x-python",
   "name": "python",
   "nbconvert_exporter": "python",
   "pygments_lexer": "ipython3",
   "version": "3.12.9"
  }
 },
 "nbformat": 4,
 "nbformat_minor": 2
}
