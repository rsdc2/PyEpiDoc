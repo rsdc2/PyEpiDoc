{
 "cells": [
  {
   "cell_type": "code",
   "execution_count": null,
   "metadata": {},
   "outputs": [],
   "source": []
  },
  {
   "cell_type": "code",
   "execution_count": 1,
   "metadata": {},
   "outputs": [],
   "source": [
    "from pyepidoc import EpiDoc, EpiDocCorpus"
   ]
  },
  {
   "cell_type": "code",
   "execution_count": 2,
   "metadata": {},
   "outputs": [],
   "source": [
    "cyrene_small = EpiDocCorpus(r'..\\..\\..\\..\\Data\\Cyrene_small')\n",
    "cyrene = EpiDocCorpus(r'..\\..\\..\\..\\Data\\Cyrene\\epidoc')\n",
    "isicily = EpiDocCorpus(r'..\\..\\..\\..\\Data\\ISicily\\inscriptions')\n",
    "\n",
    "# cyrene.doc_count\n",
    "# isicily.doc_count"
   ]
  },
  {
   "cell_type": "code",
   "execution_count": 3,
   "metadata": {},
   "outputs": [],
   "source": [
    "isicily_tokenized = EpiDocCorpus(r'..\\..\\..\\..\\Data\\ISicilyTokenized')"
   ]
  },
  {
   "cell_type": "code",
   "execution_count": 4,
   "metadata": {},
   "outputs": [
    {
     "data": {
      "text/plain": [
       "7.567297238530116"
      ]
     },
     "execution_count": 4,
     "metadata": {},
     "output_type": "execute_result"
    }
   ],
   "source": [
    "isicily_tokenized.mean_token_count"
   ]
  },
  {
   "cell_type": "code",
   "execution_count": 10,
   "metadata": {},
   "outputs": [
    {
     "data": {
      "text/plain": [
       "-299"
      ]
     },
     "execution_count": 10,
     "metadata": {},
     "output_type": "execute_result"
    }
   ],
   "source": [
    "cyrene.datemin"
   ]
  },
  {
   "cell_type": "code",
   "execution_count": null,
   "metadata": {},
   "outputs": [],
   "source": [
    "isicly_tokenized"
   ]
  },
  {
   "cell_type": "code",
   "execution_count": 7,
   "metadata": {},
   "outputs": [
    {
     "data": {
      "text/plain": [
       "33750.0"
      ]
     },
     "execution_count": 7,
     "metadata": {},
     "output_type": "execute_result"
    }
   ],
   "source": [
    "7.5 * 4500"
   ]
  },
  {
   "cell_type": "code",
   "execution_count": 5,
   "metadata": {},
   "outputs": [
    {
     "data": {
      "text/plain": [
       "34802"
      ]
     },
     "execution_count": 5,
     "metadata": {},
     "output_type": "execute_result"
    }
   ],
   "source": [
    "isicily_tokenized.token_count"
   ]
  },
  {
   "cell_type": "code",
   "execution_count": 6,
   "metadata": {},
   "outputs": [
    {
     "data": {
      "text/plain": [
       "10.171186440677966"
      ]
     },
     "execution_count": 6,
     "metadata": {},
     "output_type": "execute_result"
    }
   ],
   "source": [
    "cyrene.mean_token_count"
   ]
  },
  {
   "cell_type": "code",
   "execution_count": 9,
   "metadata": {},
   "outputs": [
    {
     "data": {
      "text/plain": [
       "2360"
      ]
     },
     "execution_count": 9,
     "metadata": {},
     "output_type": "execute_result"
    }
   ],
   "source": [
    "cyrene.doc_count"
   ]
  },
  {
   "cell_type": "code",
   "execution_count": 6,
   "metadata": {},
   "outputs": [
    {
     "data": {
      "text/plain": [
       "24004"
      ]
     },
     "execution_count": 6,
     "metadata": {},
     "output_type": "execute_result"
    }
   ],
   "source": [
    "cyrene.token_count"
   ]
  },
  {
   "cell_type": "code",
   "execution_count": 3,
   "metadata": {},
   "outputs": [],
   "source": [
    "isic001162 = EpiDoc(r'..\\..\\..\\..\\Data\\ISicily\\inscriptions\\ISic001162.xml')"
   ]
  },
  {
   "cell_type": "code",
   "execution_count": 4,
   "metadata": {},
   "outputs": [
    {
     "name": "stdout",
     "output_type": "stream",
     "text": [
      "\n",
      "[-?-]όδωρε\n",
      "[-?-]νίου\n",
      "[Βρ]ίττιε\n",
      "\n"
     ]
    }
   ],
   "source": [
    "print(isic001162.text_leiden)"
   ]
  },
  {
   "cell_type": "code",
   "execution_count": 5,
   "metadata": {},
   "outputs": [
    {
     "data": {
      "text/plain": [
       "{'EDR', None, 'PHI', 'transliteration', 'unsupplied'}"
      ]
     },
     "execution_count": 5,
     "metadata": {},
     "output_type": "execute_result"
    }
   ],
   "source": [
    "isicily._edition_subtypes"
   ]
  },
  {
   "cell_type": "code",
   "execution_count": null,
   "metadata": {},
   "outputs": [
    {
     "name": "stdout",
     "output_type": "stream",
     "text": [
      "No main edition to tokenize in ISic000072.\n",
      "No main edition to tokenize in ISic000073.\n",
      "No main edition to tokenize in ISic000074.\n",
      "No main edition to tokenize in ISic000075.\n",
      "No main edition to tokenize in ISic000076.\n",
      "No main edition to tokenize in ISic000077.\n",
      "No main edition to tokenize in ISic000078.\n",
      "No main edition to tokenize in ISic000660.\n",
      "No main edition to tokenize in ISic000698.\n",
      "No main edition to tokenize in ISic000702.\n",
      "No main edition to tokenize in ISic000809.\n",
      "More than one <class 'pyepidoc.epidoc.elements.edition.Edition'> present.\n",
      "More than one <class 'pyepidoc.epidoc.elements.edition.Edition'> present.\n",
      "More than one <class 'pyepidoc.epidoc.elements.edition.Edition'> present.\n",
      "More than one <class 'pyepidoc.epidoc.elements.edition.Edition'> present.\n",
      "More than one <class 'pyepidoc.epidoc.elements.edition.Edition'> present.\n",
      "More than one <class 'pyepidoc.epidoc.elements.edition.Edition'> present.\n",
      "More than one <class 'pyepidoc.epidoc.elements.edition.Edition'> present.\n",
      "More than one <class 'pyepidoc.epidoc.elements.edition.Edition'> present.\n",
      "No main edition to tokenize in ISic001427.\n",
      "No main edition to tokenize in ISic001509.\n",
      "No main edition to tokenize in ISic001511.\n",
      "No main edition to tokenize in ISic001512.\n",
      "No main edition to tokenize in ISic001538.\n",
      "No main edition to tokenize in ISic001539.\n",
      "No main edition to tokenize in ISic001540.\n",
      "No main edition to tokenize in ISic001583.\n",
      "No main edition to tokenize in ISic001584.\n",
      "No main edition to tokenize in ISic001585.\n",
      "No main edition to tokenize in ISic001586.\n",
      "No main edition to tokenize in ISic001587.\n",
      "No main edition to tokenize in ISic001588.\n",
      "No main edition to tokenize in ISic001589.\n",
      "No main edition to tokenize in ISic001590.\n",
      "No main edition to tokenize in ISic001591.\n",
      "No main edition to tokenize in ISic001592.\n",
      "No main edition to tokenize in ISic001593.\n",
      "No main edition to tokenize in ISic001594.\n",
      "No main edition to tokenize in ISic001595.\n",
      "No main edition to tokenize in ISic001596.\n",
      "No main edition to tokenize in ISic001597.\n",
      "No main edition to tokenize in ISic001598.\n",
      "No main edition to tokenize in ISic001599.\n",
      "No main edition to tokenize in ISic001600.\n",
      "No main edition to tokenize in ISic001601.\n",
      "No main edition to tokenize in ISic001602.\n",
      "No main edition to tokenize in ISic001603.\n",
      "No main edition to tokenize in ISic001604.\n",
      "No main edition to tokenize in ISic001605.\n",
      "No main edition to tokenize in ISic001606.\n",
      "No main edition to tokenize in ISic001607.\n",
      "No main edition to tokenize in ISic001608.\n",
      "No main edition to tokenize in ISic001609.\n",
      "No main edition to tokenize in ISic001610.\n",
      "No main edition to tokenize in ISic001611.\n",
      "No main edition to tokenize in ISic001612.\n",
      "No main edition to tokenize in ISic001613.\n",
      "No main edition to tokenize in ISic001614.\n",
      "No main edition to tokenize in ISic001615.\n",
      "No main edition to tokenize in ISic001616.\n",
      "No main edition to tokenize in ISic001617.\n",
      "No main edition to tokenize in ISic001619.\n",
      "No main edition to tokenize in ISic001623.\n",
      "No main edition to tokenize in ISic001624.\n",
      "No main edition to tokenize in ISic001625.\n",
      "No main edition to tokenize in ISic001634.\n",
      "No main edition to tokenize in ISic001635.\n",
      "No main edition to tokenize in ISic001661.\n",
      "No main edition to tokenize in ISic001670.\n",
      "No main edition to tokenize in ISic002710.\n",
      "More than one <class 'pyepidoc.epidoc.elements.edition.Edition'> present.\n",
      "No main edition to tokenize in ISic002737.\n",
      "More than one <class 'pyepidoc.epidoc.elements.edition.Edition'> present.\n",
      "More than one <class 'pyepidoc.epidoc.elements.edition.Edition'> present.\n",
      "More than one <class 'pyepidoc.epidoc.elements.edition.Edition'> present.\n",
      "More than one <class 'pyepidoc.epidoc.elements.edition.Edition'> present.\n",
      "More than one <class 'pyepidoc.epidoc.elements.edition.Edition'> present.\n",
      "More than one <class 'pyepidoc.epidoc.elements.edition.Edition'> present.\n",
      "No main edition to tokenize in ISic002906.\n",
      "No main edition to tokenize in ISic002909.\n",
      "No main edition to tokenize in ISic002910.\n",
      "No main edition to tokenize in ISic002911.\n",
      "No main edition to tokenize in ISic002912.\n",
      "No main edition to tokenize in ISic002913.\n",
      "No main edition to tokenize in ISic002914.\n",
      "No main edition to tokenize in ISic002915.\n",
      "No main edition to tokenize in ISic002987.\n",
      "No main edition to tokenize in ISic002993.\n",
      "No main edition to tokenize in ISic002994.\n",
      "More than one <class 'pyepidoc.epidoc.elements.edition.Edition'> present.\n",
      "More than one <class 'pyepidoc.epidoc.elements.edition.Edition'> present.\n",
      "No main edition to tokenize in ISic003343.\n",
      "No main edition to tokenize in ISic003353.\n",
      "No main edition to tokenize in ISic003361.\n",
      "No main edition to tokenize in ISic003399.\n",
      "No main edition to tokenize in ISic003413.\n",
      "No main edition to tokenize in ISic003421.\n",
      "No main edition to tokenize in ISic003432.\n",
      "No main edition to tokenize in ISic003434.\n",
      "No main edition to tokenize in ISic003446.\n",
      "No main edition to tokenize in ISic003543.\n",
      "More than one <class 'pyepidoc.epidoc.elements.edition.Edition'> present.\n",
      "No main edition to tokenize in ISic003592.\n",
      "No main edition to tokenize in ISic003597.\n",
      "No main edition to tokenize in ISic003598.\n",
      "No main edition to tokenize in ISic003599.\n",
      "No main edition to tokenize in ISic003614.\n",
      "No main edition to tokenize in ISic003615.\n",
      "No main edition to tokenize in ISic003616.\n",
      "No main edition to tokenize in ISic003618.\n",
      "No main edition to tokenize in ISic003621.\n",
      "No main edition to tokenize in ISic003623.\n",
      "No main edition to tokenize in ISic003624.\n",
      "No main edition to tokenize in ISic003625.\n",
      "No main edition to tokenize in ISic003626.\n",
      "No main edition to tokenize in ISic003636.\n",
      "No main edition to tokenize in ISic003647.\n",
      "No main edition to tokenize in ISic003648.\n",
      "No main edition to tokenize in ISic003649.\n",
      "No main edition to tokenize in ISic003650.\n",
      "No main edition to tokenize in ISic003688.\n",
      "No main edition to tokenize in ISic003694.\n",
      "No main edition to tokenize in ISic003709.\n",
      "No main edition to tokenize in ISic004337.\n",
      "No main edition to tokenize in ISic004338.\n"
     ]
    }
   ],
   "source": [
    "# isicily.tokenize_to_folder(r'..\\..\\..\\..\\Data\\ISicilyTokenized', convert_ws_to_names=False)"
   ]
  },
  {
   "cell_type": "code",
   "execution_count": null,
   "metadata": {},
   "outputs": [],
   "source": [
    "cyrene.datemean"
   ]
  },
  {
   "cell_type": "code",
   "execution_count": null,
   "metadata": {},
   "outputs": [],
   "source": [
    "cyrene.docs[1].id"
   ]
  },
  {
   "cell_type": "code",
   "execution_count": null,
   "metadata": {},
   "outputs": [],
   "source": [
    "print(cyrene.docs[1].text_leiden)"
   ]
  },
  {
   "cell_type": "code",
   "execution_count": null,
   "metadata": {},
   "outputs": [],
   "source": [
    "cyrene.languages"
   ]
  },
  {
   "cell_type": "code",
   "execution_count": null,
   "metadata": {},
   "outputs": [],
   "source": [
    "cyrene.filter_by_languages(['la'], language_attr='div_langs').doc_count"
   ]
  },
  {
   "cell_type": "code",
   "execution_count": null,
   "metadata": {},
   "outputs": [],
   "source": [
    "cyrene._get_textclasses(False)"
   ]
  },
  {
   "cell_type": "code",
   "execution_count": null,
   "metadata": {},
   "outputs": [],
   "source": [
    "multilinguals = cyrene.multilinguals()"
   ]
  },
  {
   "cell_type": "code",
   "execution_count": null,
   "metadata": {},
   "outputs": [],
   "source": [
    "multilinguals[0].date_range"
   ]
  },
  {
   "cell_type": "code",
   "execution_count": null,
   "metadata": {},
   "outputs": [],
   "source": [
    "multilinguals[7].id"
   ]
  },
  {
   "cell_type": "code",
   "execution_count": null,
   "metadata": {},
   "outputs": [],
   "source": [
    "print(multilinguals[7].text_leiden)"
   ]
  },
  {
   "cell_type": "markdown",
   "metadata": {},
   "source": [
    "# Abbreviations"
   ]
  },
  {
   "cell_type": "code",
   "execution_count": 10,
   "metadata": {},
   "outputs": [],
   "source": [
    "from pyepidoc.analysis.abbreviations import csvoutput"
   ]
  },
  {
   "cell_type": "code",
   "execution_count": null,
   "metadata": {},
   "outputs": [],
   "source": [
    "cyrene.daterange"
   ]
  },
  {
   "cell_type": "code",
   "execution_count": null,
   "metadata": {},
   "outputs": [],
   "source": [
    "len(cyrene.expans)\n"
   ]
  },
  {
   "cell_type": "code",
   "execution_count": null,
   "metadata": {},
   "outputs": [],
   "source": [
    "len(isicily.expans)"
   ]
  },
  {
   "cell_type": "code",
   "execution_count": 12,
   "metadata": {},
   "outputs": [
    {
     "name": "stdout",
     "output_type": "stream",
     "text": [
      "Written results to isicily_tokenized_abbreviations.csv...\n"
     ]
    }
   ],
   "source": [
    "csvoutput.overall_analysis_to_csv(isicily_tokenized, 'isicily_tokenized_abbreviations.csv')"
   ]
  },
  {
   "cell_type": "code",
   "execution_count": null,
   "metadata": {},
   "outputs": [],
   "source": [
    "csvoutput.overall_analysis_to_csv(cyrene, 'cyrene_abbreviations.csv')\n",
    "csvoutput.overall_analysis_to_csv(isicily, 'isicily_abbreviations.csv')\n"
   ]
  }
 ],
 "metadata": {
  "kernelspec": {
   "display_name": ".env12ju",
   "language": "python",
   "name": "python3"
  },
  "language_info": {
   "codemirror_mode": {
    "name": "ipython",
    "version": 3
   },
   "file_extension": ".py",
   "mimetype": "text/x-python",
   "name": "python",
   "nbconvert_exporter": "python",
   "pygments_lexer": "ipython3",
   "version": "3.12.7"
  }
 },
 "nbformat": 4,
 "nbformat_minor": 2
}
