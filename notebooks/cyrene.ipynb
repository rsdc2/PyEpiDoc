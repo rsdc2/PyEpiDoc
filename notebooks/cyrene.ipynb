{
 "cells": [
  {
   "cell_type": "code",
   "execution_count": null,
   "metadata": {},
   "outputs": [],
   "source": []
  },
  {
   "cell_type": "code",
   "execution_count": 2,
   "metadata": {},
   "outputs": [],
   "source": [
    "from pyepidoc import EpiDoc, EpiDocCorpus"
   ]
  },
  {
   "cell_type": "code",
   "execution_count": null,
   "metadata": {},
   "outputs": [],
   "source": []
  },
  {
   "cell_type": "code",
   "execution_count": null,
   "metadata": {},
   "outputs": [],
   "source": [
    "# # Windows\n",
    "\n",
    "# cyrene_small = EpiDocCorpus(r'..\\..\\..\\..\\Data\\Cyrene_small')\n",
    "# cyrene = EpiDocCorpus(r'..\\..\\..\\..\\Data\\Cyrene\\epidoc')\n",
    "# isicily = EpiDocCorpus(r'..\\..\\..\\..\\Data\\ISicily\\inscriptions')\n",
    "# isicily_tokenized = EpiDocCorpus(r'..\\..\\..\\..\\Data\\ISicilyTokenized')"
   ]
  },
  {
   "cell_type": "code",
   "execution_count": 6,
   "metadata": {},
   "outputs": [],
   "source": [
    "# Linux\n",
    "\n",
    "cyrene = EpiDocCorpus(r'/data/corpora/IRCyr/epidoc')\n",
    "isicily = EpiDocCorpus(r'/data/corpora/ISicily/ISicily/inscriptions')\n",
    "isicily_tokenized = EpiDocCorpus(r'/data/corpora/ISicily/ISicily-tokenized')"
   ]
  },
  {
   "cell_type": "code",
   "execution_count": null,
   "metadata": {},
   "outputs": [],
   "source": [
    "# Tokenization on Linux\n",
    "\n",
    "# isicily.tokenize_to_folder(r'/data/corpora/ISicily/ISicily-tokenized')"
   ]
  },
  {
   "cell_type": "markdown",
   "metadata": {},
   "source": [
    "## Roman corpora\n",
    "\n",
    "### I.Sicily"
   ]
  },
  {
   "cell_type": "code",
   "execution_count": 7,
   "metadata": {},
   "outputs": [],
   "source": [
    "isicily_roman = isicily_tokenized.filter_by_dateafter(1)"
   ]
  },
  {
   "cell_type": "code",
   "execution_count": 8,
   "metadata": {},
   "outputs": [
    {
     "data": {
      "text/plain": [
       "1945"
      ]
     },
     "execution_count": 8,
     "metadata": {},
     "output_type": "execute_result"
    }
   ],
   "source": [
    "isicily_roman.doc_count"
   ]
  },
  {
   "cell_type": "code",
   "execution_count": 17,
   "metadata": {},
   "outputs": [],
   "source": [
    "isicily_1_to_200 = isicily_tokenized.filter_by_daterange(1, 200)"
   ]
  },
  {
   "cell_type": "markdown",
   "metadata": {},
   "source": [
    "### Cyrene"
   ]
  },
  {
   "cell_type": "code",
   "execution_count": 9,
   "metadata": {},
   "outputs": [
    {
     "data": {
      "text/plain": [
       "1689"
      ]
     },
     "execution_count": 9,
     "metadata": {},
     "output_type": "execute_result"
    }
   ],
   "source": [
    "cyrene_roman = cyrene.filter_by_dateafter(1)\n",
    "cyrene_roman.doc_count"
   ]
  },
  {
   "cell_type": "code",
   "execution_count": 15,
   "metadata": {},
   "outputs": [],
   "source": [
    "cyrene_1_to_200 = cyrene.filter_by_daterange(1, 200)"
   ]
  },
  {
   "cell_type": "markdown",
   "metadata": {},
   "source": [
    "### Abbreviations comparison"
   ]
  },
  {
   "cell_type": "code",
   "execution_count": 11,
   "metadata": {},
   "outputs": [],
   "source": [
    "from pyepidoc.analysis.abbreviations import csvoutput as csvout"
   ]
  },
  {
   "cell_type": "code",
   "execution_count": null,
   "metadata": {},
   "outputs": [
    {
     "name": "stdout",
     "output_type": "stream",
     "text": [
      "Written results to cyrene_roman.csv...\n"
     ]
    }
   ],
   "source": [
    "csvout.overall_analysis_to_csv(cyrene_roman, 'cyrene_roman.csv')"
   ]
  },
  {
   "cell_type": "code",
   "execution_count": null,
   "metadata": {},
   "outputs": [
    {
     "name": "stdout",
     "output_type": "stream",
     "text": [
      "Written results to isicily_roman.csv...\n"
     ]
    }
   ],
   "source": [
    "csvout.overall_analysis_to_csv(isicily_roman, 'isicily_roman.csv')"
   ]
  },
  {
   "cell_type": "markdown",
   "metadata": {},
   "source": []
  },
  {
   "cell_type": "code",
   "execution_count": 18,
   "metadata": {},
   "outputs": [
    {
     "name": "stdout",
     "output_type": "stream",
     "text": [
      "Written results to cyrene_1_to_200.csv...\n",
      "Written results to isicily_1_to_200.csv...\n"
     ]
    }
   ],
   "source": [
    "csvout.overall_analysis_to_csv(cyrene_1_to_200, 'cyrene_1_to_200.csv')\n",
    "csvout.overall_analysis_to_csv(isicily_1_to_200, 'isicily_1_to_200.csv')\n"
   ]
  }
 ],
 "metadata": {
  "kernelspec": {
   "display_name": "env39jupyter",
   "language": "python",
   "name": "python3"
  },
  "language_info": {
   "codemirror_mode": {
    "name": "ipython",
    "version": 3
   },
   "file_extension": ".py",
   "mimetype": "text/x-python",
   "name": "python",
   "nbconvert_exporter": "python",
   "pygments_lexer": "ipython3",
   "version": "3.9.20"
  }
 },
 "nbformat": 4,
 "nbformat_minor": 2
}
