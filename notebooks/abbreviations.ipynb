{
 "cells": [
  {
   "cell_type": "markdown",
   "id": "9e750a81",
   "metadata": {},
   "source": [
    "# Exploring the typology of abbreviations in Sicily"
   ]
  },
  {
   "cell_type": "markdown",
   "id": "71c6d13f",
   "metadata": {},
   "source": [
    "## Load PyEpiDoc and corpus"
   ]
  },
  {
   "cell_type": "code",
   "execution_count": 43,
   "id": "3ff80320",
   "metadata": {},
   "outputs": [],
   "source": [
    "from pyepidoc import EpiDoc, EpiDocCorpus\n",
    "from pyepidoc.epidoc.enums import AbbrType\n",
    "from pyepidoc.epidoc.dom import lang, owner_doc\n",
    "from pyepidoc.shared.utils import top, contains, listfilter\n",
    "from pyepidoc.shared.display import show_elems\n",
    "\n",
    "corpus = EpiDocCorpus(inpt='../example_corpus')"
   ]
  },
  {
   "cell_type": "markdown",
   "id": "8e19a4ad",
   "metadata": {},
   "source": [
    "## Get all the abbreviations"
   ]
  },
  {
   "cell_type": "code",
   "execution_count": 44,
   "id": "021e1783",
   "metadata": {},
   "outputs": [
    {
     "name": "stdout",
     "output_type": "stream",
     "text": [
      "Total abbreviations in I.Sicily corpus:  198\n"
     ]
    }
   ],
   "source": [
    "abbreviations = [expan for expan in corpus.expans]\n",
    "print('Total abbreviations in I.Sicily corpus: ', len(abbreviations))"
   ]
  },
  {
   "cell_type": "markdown",
   "id": "db7abf58",
   "metadata": {},
   "source": [
    "## Suspensions\n",
    "### Find all the suspensions"
   ]
  },
  {
   "cell_type": "code",
   "execution_count": 47,
   "id": "063b11b5",
   "metadata": {},
   "outputs": [],
   "source": [
    "suspensions = [abbr for abbr in abbreviations \n",
    "               if contains(abbr.abbr_types, AbbrType.suspension)]"
   ]
  },
  {
   "cell_type": "markdown",
   "id": "5890192c",
   "metadata": {},
   "source": [
    "### Count and examples"
   ]
  },
  {
   "cell_type": "code",
   "execution_count": 48,
   "id": "be2eb60a",
   "metadata": {},
   "outputs": [
    {
     "name": "stdout",
     "output_type": "stream",
     "text": [
      "Total suspensions in corpus:  194\n"
     ]
    }
   ],
   "source": [
    "print('Total suspensions in corpus: ', len(suspensions))"
   ]
  },
  {
   "cell_type": "code",
   "execution_count": 50,
   "id": "b3c070c9",
   "metadata": {},
   "outputs": [
    {
     "name": "stdout",
     "output_type": "stream",
     "text": [
      "of which Latin:  171\n"
     ]
    }
   ],
   "source": [
    "latin_susp = [susp for susp in suspensions \n",
    "    if lang(susp) == 'la']\n",
    "print('of which Latin: ', len(latin_susp))"
   ]
  },
  {
   "cell_type": "code",
   "execution_count": 51,
   "id": "204d5e3b",
   "metadata": {},
   "outputs": [
    {
     "name": "stdout",
     "output_type": "stream",
     "text": [
      "of which Greek:  23\n"
     ]
    }
   ],
   "source": [
    "greek_susp = [susp for susp in suspensions\n",
    "    if lang(susp) == 'grc']\n",
    "print('of which Greek: ', len(greek_susp))"
   ]
  },
  {
   "cell_type": "code",
   "execution_count": 52,
   "id": "b2982d25",
   "metadata": {},
   "outputs": [
    {
     "name": "stdout",
     "output_type": "stream",
     "text": [
      "of which other:  0\n"
     ]
    }
   ],
   "source": [
    "other_susp = [susp for susp in suspensions\n",
    "    if lang(susp) not in ['grc', 'la']]\n",
    "print('of which other: ', len(other_susp))"
   ]
  },
  {
   "cell_type": "markdown",
   "id": "9ce60587",
   "metadata": {},
   "source": [
    "### What are these others?!"
   ]
  },
  {
   "cell_type": "code",
   "execution_count": 53,
   "id": "dcc154ef",
   "metadata": {},
   "outputs": [
    {
     "name": "stdout",
     "output_type": "stream",
     "text": [
      "\n"
     ]
    }
   ],
   "source": [
    "print(show_elems(other_susp))"
   ]
  },
  {
   "cell_type": "markdown",
   "id": "bf2c5f7e",
   "metadata": {},
   "source": [
    "### First 10 examples"
   ]
  },
  {
   "cell_type": "code",
   "execution_count": 54,
   "id": "3cc68e0a",
   "metadata": {
    "scrolled": true
   },
   "outputs": [
    {
     "name": "stdout",
     "output_type": "stream",
     "text": [
      "First 10 examples:\n",
      "- ISic000001: man(ibus) (la)\n",
      "- ISic000001: vix(it) (la)\n",
      "- ISic000001: a(nnis) (la)\n",
      "- ISic000002: D(is) (la)\n",
      "- ISic000002: M(anibus) (la)\n",
      "- ISic000002: s(acrum) (la)\n",
      "- ISic000002: vix(it) (la)\n",
      "- ISic000003: Man(ibus) (la)\n",
      "- ISic000003: vix(it) (la)\n",
      "- ISic000003: an(nis) (la)\n"
     ]
    }
   ],
   "source": [
    "print('First 10 examples:')\n",
    "print(show_elems(top(suspensions, 10)))"
   ]
  },
  {
   "cell_type": "code",
   "execution_count": 55,
   "id": "ba84ba41",
   "metadata": {},
   "outputs": [
    {
     "name": "stdout",
     "output_type": "stream",
     "text": [
      "\n",
      "Dis · man(ibus)\n",
      " · Zethi\n",
      "vix(it) · a(nnis) · VI\n"
     ]
    }
   ],
   "source": [
    "doc000001 = owner_doc(suspensions[0])\n",
    "print(doc000001.text_leiden)"
   ]
  },
  {
   "cell_type": "markdown",
   "id": "369a6ec5",
   "metadata": {},
   "source": [
    "## Contractions"
   ]
  },
  {
   "cell_type": "code",
   "execution_count": 56,
   "id": "fbe0f0b9",
   "metadata": {},
   "outputs": [
    {
     "data": {
      "text/plain": [
       "[Expan('man(ibus)'),\n",
       " Expan('vix(it)'),\n",
       " Expan('a(nnis)'),\n",
       " Expan('D(is)'),\n",
       " Expan('M(anibus)'),\n",
       " Expan('s(acrum)'),\n",
       " Expan('vix(it)'),\n",
       " Expan('Man(ibus)'),\n",
       " Expan('vix(it)'),\n",
       " Expan('an(nis)'),\n",
       " Expan('Herm(es)'),\n",
       " Expan('fe(cerunt)'),\n",
       " Expan('P(ubli)'),\n",
       " Expan('f(ilius)'),\n",
       " Expan('P(ublius)'),\n",
       " Expan('P(ubli)'),\n",
       " Expan('f(ilius)'),\n",
       " Expan('P(ubli)'),\n",
       " Expan('n(epos)'),\n",
       " Expan('f(ilius)'),\n",
       " Expan('{II}(duum)virạtus'),\n",
       " Expan('D(is)'),\n",
       " Expan('M(anibus)'),\n",
       " Expan('S(acrum)'),\n",
       " Expan('M(arcus)'),\n",
       " Expan('vix(it)'),\n",
       " Expan('ann(is)'),\n",
       " Expan('mens(is)'),\n",
       " Expan('dieb(us)'),\n",
       " Expan('C(aius)'),\n",
       " Expan('ann(os)'),\n",
       " Expan('ann(os)'),\n",
       " Expan('Mag(no)'),\n",
       " Expan('Mag(ni)'),\n",
       " Expan('f(ilio)'),\n",
       " Expan('imp(eratore)'),\n",
       " Expan('co(n)s(ule)'),\n",
       " Expan('desig(nato)'),\n",
       " Expan('L(ucius)'),\n",
       " Expan('L(uci)'),\n",
       " Expan('f(ilius)'),\n",
       " Expan('leg(atus)'),\n",
       " Expan('pr(aetore)'),\n",
       " Expan('pr(aetor)'),\n",
       " Expan('des(ignatus)'),\n",
       " Expan('f(aciendum)'),\n",
       " Expan('c(uravit)'),\n",
       " Expan('D(is)'),\n",
       " Expan('M(anibus)'),\n",
       " Expan('fil(ia)'),\n",
       " Expan('pient(issimae)'),\n",
       " Expan('L(ucius)'),\n",
       " Expan('q(uaestor)'),\n",
       " Expan('pr(o)'),\n",
       " Expan('pr(aetore)'),\n",
       " Expan('prov(inciae)'),\n",
       " Expan('Sicil(iae)'),\n",
       " Expan('leg[(atus)]'),\n",
       " Expan('pr(o)'),\n",
       " Expan('pr(aetore)'),\n",
       " Expan('prov(inciae)'),\n",
       " Expan('eiusd(em)'),\n",
       " Expan('pr(aetor)'),\n",
       " Expan('des[(ignatus)]'),\n",
       " Expan('M(arcus)'),\n",
       " Expan('L(ucio)'),\n",
       " Expan('nobiliss(imo)'),\n",
       " Expan('Caes(ari)'),\n",
       " Expan('Imp(eratoris)'),\n",
       " Expan('Caes(aris)'),\n",
       " Expan('L(uci)'),\n",
       " Expan('Aug(usto)'),\n",
       " Expan('Arab(ici)'),\n",
       " Expan('Adi|aben(ici)'),\n",
       " Expan('Parth(ici)'),\n",
       " Expan('mạx̣(imi)'),\n",
       " Expan('pont(ificis)'),\n",
       " Expan('max[(imi)]'),\n",
       " Expan('tr(ibunicia)'),\n",
       " Expan('pot(estate)'),\n",
       " Expan('imp(eratori)'),\n",
       " Expan('tr(ibunicia)'),\n",
       " Expan('pot(estate)'),\n",
       " Expan('imp(eratori)'),\n",
       " Expan('co(n)s(ulis)'),\n",
       " Expan('p(atri)'),\n",
       " Expan('p(atriae)'),\n",
       " Expan('fil(io)'),\n",
       " Expan('imp(eratoris)'),\n",
       " Expan('Caes(aris)'),\n",
       " Expan('M(arci)'),\n",
       " Expan('Aug(usti)'),\n",
       " Expan('trib(unicia)'),\n",
       " Expan('pot(estate)'),\n",
       " Expan('publ(ica)'),\n",
       " Expan('Panhormitan(orum)'),\n",
       " Expan('vir(orum)'),\n",
       " Expan('P(ubli)'; tail: Satyri),\n",
       " Expan('M(arci)'),\n",
       " Expan('d(ecreto)'),\n",
       " Expan('d(ecurionum)'),\n",
       " Expan('ἕνεκ(εν)'),\n",
       " Expan('Q(uintus)'),\n",
       " Expan('Q(uinti)'),\n",
       " Expan('l(ibertus)'),\n",
       " Expan('{Ↄ}(mulieris)'),\n",
       " Expan('l(ibertus)'),\n",
       " Expan('ḍ(e)'),\n",
       " Expan('s(ua)'),\n",
       " Expan('p(ecunia)'),\n",
       " Expan('sacr(um)'),\n",
       " Expan('honor(e)'),\n",
       " Expan('d(eae)'),\n",
       " Expan('d(onum)'),\n",
       " Expan('d(edit)'),\n",
       " Expan('proco(n)s(uli)'),\n",
       " Expan('c(larissimo)'),\n",
       " Expan('v(iro)'),\n",
       " Expan('Fl(avio)'),\n",
       " Expan('Valeri(o)'),\n",
       " Expan('v(ir)'),\n",
       " Expan('c(larissimus)'),\n",
       " Expan('corr(ector)'),\n",
       " Expan('prov(inciae)'),\n",
       " Expan('λαμπρ(οτάτου)'),\n",
       " Expan('ὑπατ(ικὸν)'),\n",
       " Expan('an(nis)'),\n",
       " Expan('m(ensibus)'),\n",
       " Expan('Q(uintus)'),\n",
       " Expan('Imp(eratoris)'),\n",
       " Expan('M(arci)'),\n",
       " Expan('Aug(usti)'),\n",
       " Expan('L(uci)'),\n",
       " Expan('f(ilius)'),\n",
       " Expan('q(uaestor)'),\n",
       " Expan('p(ecuniae)'),\n",
       " Expan('p(ublicae)'),\n",
       " Expan('cuṛat[(or)]'),\n",
       " Expan('promis[(it)]'),\n",
       " Expan('s(ua)'),\n",
       " Expan('p(ecunia)'),\n",
       " Expan('{}(sestertium)'),\n",
       " Expan('m(ilia)'),\n",
       " Expan('n(ummum)'),\n",
       " Expan('q(uaestoris)'),\n",
       " Expan('Ṣ(iciliae)'),\n",
       " Expan('c(larissimae)'),\n",
       " Expan('m(emoriae)'),\n",
       " Expan('v(iri)'),\n",
       " Expan('{}(sestertium)'),\n",
       " Expan('m(ilia)'),\n",
       " Expan('n(ummum)'),\n",
       " Expan('numerav(it)'),\n",
       " Expan('dec(urionibus)'),\n",
       " Expan('{}(sestertium)'),\n",
       " Expan('ṃ(ilia)'),\n",
       " Expan('ṇ(ummum)'),\n",
       " Expan('ḍ(edit)'),\n",
       " Expan('p(ecunia)'),\n",
       " Expan('strav(it)'),\n",
       " Expan('Q(uintus)'),\n",
       " Expan('Q(uinti)'),\n",
       " Expan('f(ilius)'),\n",
       " Expan('Maec(ia)'),\n",
       " Expan('q(uaestor)'),\n",
       " Expan('pr(aetore)'),\n",
       " Expan('prov(inciae)'),\n",
       " Expan('Sici(liae)'),\n",
       " Expan('s(ua)'),\n",
       " Expan('p(ecunia)'),\n",
       " Expan('f(ilius)'),\n",
       " Expan('fil(ius)'),\n",
       " Expan('P(ublius)'),\n",
       " Expan('P(ubli)'),\n",
       " Expan('M(arcus)'),\n",
       " Expan('L(ucius)'),\n",
       " Expan('L(ucius)'),\n",
       " Expan('T(itus)'),\n",
       " Expan('Θ(εοῖς)'),\n",
       " Expan('Κ(αταχθονίοις)'),\n",
       " Expan('μῆν(ας)'),\n",
       " Expan('χλῖ(ρε)'),\n",
       " Expan('μ(ῆνας)'),\n",
       " Expan('Θ(εοῖς)'),\n",
       " Expan('Κ(αταχθονίοις)'),\n",
       " Expan('Θ(εοῖς)'),\n",
       " Expan('Κ(αταχθονίοις)'),\n",
       " Expan('ἔζησ(εν)'),\n",
       " Expan('Θ(εοῖς)'),\n",
       " Expan('Κ(αταχθονίοις)'),\n",
       " Expan('Κ(λαυδία)'),\n",
       " Expan('ἔζ(ησεν)'),\n",
       " Expan('μῆ(νας)'),\n",
       " Expan('ἡμέ(ρας)'),\n",
       " Expan('Ν(ουμέριε)'),\n",
       " Expan('μῆν(ας)'),\n",
       " Expan('ἡμέρ(ας)'),\n",
       " Expan('Κ(υίντος)')]"
      ]
     },
     "execution_count": 56,
     "metadata": {},
     "output_type": "execute_result"
    }
   ],
   "source": [
    "[abbr for abbr in abbreviations]"
   ]
  },
  {
   "cell_type": "code",
   "execution_count": 57,
   "id": "9b43e605",
   "metadata": {},
   "outputs": [
    {
     "name": "stdout",
     "output_type": "stream",
     "text": [
      "Total contractions in corpus:  0\n"
     ]
    }
   ],
   "source": [
    "contractions = [abbr for abbr in abbreviations \n",
    "                if contains(abbr.abbr_types, AbbrType.contraction)]\n",
    "print('Total contractions in corpus: ', len(contractions))"
   ]
  },
  {
   "cell_type": "code",
   "execution_count": 58,
   "id": "016cc85c",
   "metadata": {},
   "outputs": [
    {
     "name": "stdout",
     "output_type": "stream",
     "text": [
      "of which Latin:  0\n"
     ]
    }
   ],
   "source": [
    "latin_contractions = [contraction for contraction in contractions \n",
    "    if lang(contraction) == 'la']\n",
    "print('of which Latin: ', len(latin_contractions))"
   ]
  },
  {
   "cell_type": "code",
   "execution_count": 59,
   "id": "97866af5",
   "metadata": {},
   "outputs": [
    {
     "name": "stdout",
     "output_type": "stream",
     "text": [
      "of which Greek:  0\n"
     ]
    }
   ],
   "source": [
    "greek_contractions = [contraction for contraction in contractions \n",
    "    if lang(contraction) == 'grc']\n",
    "print('of which Greek: ', len(greek_contractions))"
   ]
  },
  {
   "cell_type": "code",
   "execution_count": 60,
   "id": "7314d20c",
   "metadata": {},
   "outputs": [
    {
     "name": "stdout",
     "output_type": "stream",
     "text": [
      "of which Greek:  0\n"
     ]
    }
   ],
   "source": [
    "other_contractions = [contraction for contraction in contractions \n",
    "    if lang(contraction) not in ['grc', 'la']]\n",
    "print('of which Greek: ', len(other_contractions))"
   ]
  },
  {
   "cell_type": "code",
   "execution_count": 61,
   "id": "3242bea8",
   "metadata": {},
   "outputs": [
    {
     "name": "stdout",
     "output_type": "stream",
     "text": [
      "First 10 examples:\n",
      "\n"
     ]
    }
   ],
   "source": [
    "top_10_contractions = [contraction for contraction in top(contractions, 10)]\n",
    "\n",
    "print('First 10 examples:')\n",
    "print(show_elems(top_10_contractions))"
   ]
  },
  {
   "cell_type": "markdown",
   "id": "ca048bba",
   "metadata": {},
   "source": [
    "## Contraction with suspension"
   ]
  },
  {
   "cell_type": "code",
   "execution_count": 62,
   "id": "9b771e4b",
   "metadata": {},
   "outputs": [
    {
     "name": "stdout",
     "output_type": "stream",
     "text": [
      "Total contractions with suspension in corpus:  3\n"
     ]
    }
   ],
   "source": [
    "c_with_s = [abbr for abbr in abbreviations \n",
    "    if contains(abbr.abbr_types, AbbrType.contraction_with_suspension)]\n",
    "print('Total contractions with suspension in corpus: ', len(c_with_s))"
   ]
  },
  {
   "cell_type": "code",
   "execution_count": 63,
   "id": "794ef999",
   "metadata": {},
   "outputs": [
    {
     "name": "stdout",
     "output_type": "stream",
     "text": [
      "of which Latin:  3\n"
     ]
    }
   ],
   "source": [
    "latin_c_with_s = listfilter(lambda x: lang(x) == 'la', c_with_s)\n",
    "print('of which Latin: ', len(latin_c_with_s))"
   ]
  },
  {
   "cell_type": "code",
   "execution_count": 64,
   "id": "fda4d2f6",
   "metadata": {},
   "outputs": [
    {
     "name": "stdout",
     "output_type": "stream",
     "text": [
      "of which Greek:  0\n"
     ]
    }
   ],
   "source": [
    "greek_c_with_s = listfilter(lambda x: lang(x) == 'grc', c_with_s)\n",
    "print('of which Greek: ', len(greek_c_with_s))"
   ]
  },
  {
   "cell_type": "code",
   "execution_count": 65,
   "id": "ac604fb4",
   "metadata": {},
   "outputs": [
    {
     "name": "stdout",
     "output_type": "stream",
     "text": [
      "of which Greek:  0\n"
     ]
    }
   ],
   "source": [
    "other_c_with_s = listfilter(lambda x: lang(x) not in ['grc', 'la'], c_with_s)\n",
    "print('of which Greek: ', len(other_c_with_s))"
   ]
  },
  {
   "cell_type": "code",
   "execution_count": 66,
   "id": "acdc4e78",
   "metadata": {},
   "outputs": [
    {
     "name": "stdout",
     "output_type": "stream",
     "text": [
      "- ISic000007: co(n)s(ule) (la)\n",
      "- ISic000017: co(n)s(ulis) (la)\n",
      "- ISic000805: proco(n)s(uli) (la)\n"
     ]
    }
   ],
   "source": [
    "print(show_elems(top(c_with_s, 10)))"
   ]
  },
  {
   "cell_type": "markdown",
   "id": "13cfc374",
   "metadata": {},
   "source": [
    "## Multiplications"
   ]
  },
  {
   "cell_type": "code",
   "execution_count": 67,
   "id": "cd176ef8",
   "metadata": {},
   "outputs": [],
   "source": [
    "multiplications = [abbr for abbr in abbreviations \n",
    "    if contains(abbr.abbr_types, AbbrType.multiplication)]"
   ]
  },
  {
   "cell_type": "code",
   "execution_count": 68,
   "id": "858abf72",
   "metadata": {},
   "outputs": [
    {
     "name": "stdout",
     "output_type": "stream",
     "text": [
      "Total multiplications in corpus:  0\n"
     ]
    }
   ],
   "source": [
    "print('Total multiplications in corpus: ', len(multiplications))"
   ]
  },
  {
   "cell_type": "code",
   "execution_count": 69,
   "id": "670f0f7d",
   "metadata": {},
   "outputs": [
    {
     "name": "stdout",
     "output_type": "stream",
     "text": [
      "of which Latin:  0\n"
     ]
    }
   ],
   "source": [
    "latin_mult = listfilter(lambda x: lang(x) == 'la', multiplications)\n",
    "print('of which Latin: ', len(latin_mult))"
   ]
  },
  {
   "cell_type": "code",
   "execution_count": 70,
   "id": "7c81709f",
   "metadata": {},
   "outputs": [
    {
     "name": "stdout",
     "output_type": "stream",
     "text": [
      "of which Greek:  0\n"
     ]
    }
   ],
   "source": [
    "greek_mult = listfilter(lambda x: lang(x) == 'grc', multiplications)\n",
    "print('of which Greek: ', len(greek_mult))"
   ]
  },
  {
   "cell_type": "code",
   "execution_count": 71,
   "id": "3e0a060a",
   "metadata": {},
   "outputs": [
    {
     "name": "stdout",
     "output_type": "stream",
     "text": [
      "\n"
     ]
    }
   ],
   "source": [
    "print(show_elems(multiplications))"
   ]
  },
  {
   "cell_type": "code",
   "execution_count": null,
   "id": "962dc626",
   "metadata": {},
   "outputs": [],
   "source": []
  }
 ],
 "metadata": {
  "kernelspec": {
   "display_name": "env39jupyter",
   "language": "python",
   "name": "python3"
  },
  "language_info": {
   "codemirror_mode": {
    "name": "ipython",
    "version": 3
   },
   "file_extension": ".py",
   "mimetype": "text/x-python",
   "name": "python",
   "nbconvert_exporter": "python",
   "pygments_lexer": "ipython3",
   "version": "3.9.20"
  }
 },
 "nbformat": 4,
 "nbformat_minor": 5
}
