{
 "cells": [
  {
   "cell_type": "markdown",
   "id": "8f0ae79e-31c1-4bbb-8301-b0835f578b77",
   "metadata": {},
   "source": [
    "# Getting started with PyEpiDoc"
   ]
  },
  {
   "cell_type": "markdown",
   "id": "79221d51-17ef-4ba0-82eb-0b3936e25c80",
   "metadata": {},
   "source": [
    "## Loading an EpiDoc file and accessing text"
   ]
  },
  {
   "cell_type": "code",
   "execution_count": 1,
   "id": "e6a7b51b-14a3-46ce-b483-1c4891eda530",
   "metadata": {},
   "outputs": [],
   "source": [
    "# Load the API\n",
    "from pyepidoc import EpiDoc, EpiDocCorpus\n",
    "from pyepidoc.shared.display import print_items\n",
    "from pyepidoc.epidoc.dom import lang, doc_id, owner_doc"
   ]
  },
  {
   "cell_type": "code",
   "execution_count": 2,
   "id": "6bf43c5e-7866-434e-956e-6976effeab29",
   "metadata": {},
   "outputs": [],
   "source": [
    "# Load an EpiDoc file without validation\n",
    "doc = EpiDoc('examples/ISic000001_tokenized.xml')"
   ]
  },
  {
   "cell_type": "code",
   "execution_count": 3,
   "id": "1b7bfb08-8bde-4a8b-8d67-4a802cd96e91",
   "metadata": {},
   "outputs": [
    {
     "name": "stderr",
     "output_type": "stream",
     "text": [
      "RNG internal error trying to compile notAllowed\n",
      "RNG internal error trying to compile notAllowed\n",
      "RNG internal error trying to compile notAllowed\n",
      "RNG internal error trying to compile notAllowed\n",
      "RNG internal error trying to compile notAllowed\n",
      "RNG internal error trying to compile notAllowed\n",
      "RNG internal error trying to compile notAllowed\n",
      "RNG internal error trying to compile notAllowed\n",
      "RNG internal error trying to compile notAllowed\n",
      "RNG internal error trying to compile notAllowed\n",
      "RNG internal error trying to compile notAllowed\n",
      "RNG internal error trying to compile notAllowed\n",
      "RNG internal error trying to compile notAllowed\n",
      "RNG internal error trying to compile notAllowed\n",
      "RNG internal error trying to compile notAllowed\n",
      "RNG internal error trying to compile notAllowed\n",
      "RNG internal error trying to compile notAllowed\n",
      "RNG internal error trying to compile notAllowed\n",
      "RNG internal error trying to compile notAllowed\n",
      "RNG internal error trying to compile notAllowed\n",
      "RNG internal error trying to compile notAllowed\n",
      "RNG internal error trying to compile notAllowed\n",
      "RNG internal error trying to compile notAllowed\n",
      "RNG internal error trying to compile notAllowed\n",
      "RNG internal error trying to compile notAllowed\n",
      "RNG internal error trying to compile notAllowed\n",
      "RNG internal error trying to compile notAllowed\n",
      "RNG internal error trying to compile notAllowed\n",
      "RNG internal error trying to compile notAllowed\n",
      "RNG internal error trying to compile notAllowed\n",
      "RNG internal error trying to compile notAllowed\n",
      "RNG internal error trying to compile notAllowed\n",
      "RNG internal error trying to compile notAllowed\n",
      "RNG internal error trying to compile notAllowed\n",
      "RNG internal error trying to compile notAllowed\n",
      "RNG internal error trying to compile notAllowed\n",
      "RNG internal error trying to compile notAllowed\n",
      "RNG internal error trying to compile notAllowed\n",
      "RNG internal error trying to compile notAllowed\n",
      "RNG internal error trying to compile notAllowed\n",
      "RNG internal error trying to compile notAllowed\n",
      "RNG internal error trying to compile notAllowed\n",
      "RNG internal error trying to compile notAllowed\n",
      "RNG internal error trying to compile notAllowed\n",
      "RNG internal error trying to compile notAllowed\n",
      "RNG internal error trying to compile notAllowed\n",
      "RNG internal error trying to compile notAllowed\n",
      "RNG internal error trying to compile notAllowed\n",
      "RNG internal error trying to compile notAllowed\n",
      "RNG internal error trying to compile notAllowed\n",
      "RNG internal error trying to compile notAllowed\n",
      "RNG internal error trying to compile notAllowed\n",
      "RNG internal error trying to compile notAllowed\n",
      "RNG internal error trying to compile notAllowed\n",
      "RNG internal error trying to compile notAllowed\n",
      "RNG internal error trying to compile notAllowed\n",
      "RNG internal error trying to compile notAllowed\n",
      "RNG internal error trying to compile notAllowed\n",
      "RNG internal error trying to compile notAllowed\n",
      "RNG internal error trying to compile notAllowed\n",
      "RNG internal error trying to compile notAllowed\n",
      "RNG internal error trying to compile notAllowed\n",
      "RNG internal error trying to compile notAllowed\n",
      "RNG internal error trying to compile notAllowed\n",
      "RNG internal error trying to compile notAllowed\n",
      "RNG internal error trying to compile notAllowed\n",
      "RNG internal error trying to compile notAllowed\n",
      "RNG internal error trying to compile notAllowed\n",
      "RNG internal error trying to compile notAllowed\n",
      "RNG internal error trying to compile notAllowed\n",
      "RNG internal error trying to compile notAllowed\n",
      "RNG internal error trying to compile notAllowed\n",
      "RNG internal error trying to compile notAllowed\n",
      "RNG internal error trying to compile notAllowed\n",
      "RNG internal error trying to compile notAllowed\n",
      "RNG internal error trying to compile notAllowed\n",
      "RNG internal error trying to compile notAllowed\n",
      "RNG internal error trying to compile notAllowed\n",
      "RNG internal error trying to compile notAllowed\n",
      "RNG internal error trying to compile notAllowed\n",
      "RNG internal error trying to compile notAllowed\n",
      "RNG internal error trying to compile notAllowed\n",
      "RNG internal error trying to compile notAllowed\n",
      "RNG internal error trying to compile notAllowed\n",
      "RNG internal error trying to compile notAllowed\n",
      "RNG internal error trying to compile notAllowed\n",
      "RNG internal err"
     ]
    },
    {
     "name": "stdout",
     "output_type": "stream",
     "text": [
      "examples/ISic000001_tokenized.xml is a valid EpiDoc file\n"
     ]
    },
    {
     "name": "stderr",
     "output_type": "stream",
     "text": [
      "or trying to compile notAllowed\n",
      "RNG internal error trying to compile notAllowed\n",
      "RNG internal error trying to compile notAllowed\n",
      "RNG internal error trying to compile notAllowed\n",
      "RNG internal error trying to compile notAllowed\n",
      "RNG internal error trying to compile notAllowed\n",
      "RNG internal error trying to compile notAllowed\n",
      "RNG internal error trying to compile notAllowed\n",
      "RNG internal error trying to compile notAllowed\n",
      "RNG internal error trying to compile notAllowed\n",
      "RNG internal error trying to compile notAllowed\n",
      "RNG internal error trying to compile notAllowed\n",
      "RNG internal error trying to compile notAllowed\n",
      "RNG internal error trying to compile notAllowed\n",
      "RNG internal error trying to compile notAllowed\n",
      "RNG internal error trying to compile notAllowed\n",
      "RNG internal error trying to compile notAllowed\n",
      "RNG internal error trying to compile notAllowed\n",
      "RNG internal error trying to compile notAllowed\n",
      "RNG internal error trying to compile notAllowed\n",
      "RNG internal error trying to compile notAllowed\n",
      "RNG internal error trying to compile notAllowed\n",
      "RNG internal error trying to compile notAllowed\n",
      "RNG internal error trying to compile notAllowed\n",
      "RNG internal error trying to compile notAllowed\n",
      "RNG internal error trying to compile notAllowed\n",
      "RNG internal error trying to compile notAllowed\n",
      "RNG internal error trying to compile notAllowed\n",
      "RNG internal error trying to compile notAllowed\n",
      "RNG internal error trying to compile notAllowed\n",
      "RNG internal error trying to compile notAllowed\n",
      "RNG internal error trying to compile notAllowed\n",
      "RNG internal error trying to compile notAllowed\n",
      "RNG internal error trying to compile notAllowed\n",
      "RNG internal error trying to compile notAllowed\n",
      "RNG internal error trying to compile notAllowed\n",
      "RNG internal error trying to compile notAllowed\n",
      "RNG internal error trying to compile notAllowed\n",
      "RNG internal error trying to compile notAllowed\n",
      "RNG internal error trying to compile notAllowed\n",
      "RNG internal error trying to compile notAllowed\n",
      "RNG internal error trying to compile notAllowed\n",
      "RNG internal error trying to compile notAllowed\n",
      "RNG internal error trying to compile notAllowed\n",
      "RNG internal error trying to compile notAllowed\n",
      "RNG internal error trying to compile notAllowed\n",
      "RNG internal error trying to compile notAllowed\n",
      "RNG internal error trying to compile notAllowed\n",
      "RNG internal error trying to compile notAllowed\n",
      "RNG internal error trying to compile notAllowed\n",
      "RNG internal error trying to compile notAllowed\n",
      "RNG internal error trying to compile notAllowed\n",
      "RNG internal error trying to compile notAllowed\n",
      "RNG internal error trying to compile notAllowed\n",
      "RNG internal error trying to compile notAllowed\n",
      "RNG internal error trying to compile notAllowed\n",
      "RNG internal error trying to compile notAllowed\n",
      "RNG internal error trying to compile notAllowed\n",
      "RNG internal error trying to compile notAllowed\n",
      "RNG internal error trying to compile notAllowed\n",
      "RNG internal error trying to compile notAllowed\n",
      "RNG internal error trying to compile notAllowed\n",
      "RNG internal error trying to compile notAllowed\n",
      "RNG internal error trying to compile notAllowed\n",
      "RNG internal error trying to compile notAllowed\n",
      "RNG internal error trying to compile notAllowed\n",
      "RNG internal error trying to compile notAllowed\n",
      "RNG internal error trying to compile notAllowed\n",
      "RNG internal error trying to compile notAllowed\n",
      "RNG internal error trying to compile notAllowed\n",
      "RNG internal error trying to compile notAllowed\n",
      "RNG internal error trying to compile notAllowed\n",
      "RNG internal error trying to compile notAllowed\n",
      "RNG internal error trying to compile notAllowed\n",
      "RNG internal error trying to compile notAllowed\n",
      "RNG internal error trying to compile notAllowed\n",
      "RNG internal error trying to compile notAllowed\n",
      "RNG internal error trying to compile notAllowed\n",
      "RNG internal error trying to compile notAllowed\n",
      "RNG internal error trying to compile notAllowed\n",
      "RNG internal error trying to compile notAllowed\n",
      "RNG internal error trying to compile notAllowed\n",
      "RNG internal error trying to compile notAllowed\n",
      "RNG internal error trying to compile notAllowed\n",
      "RNG internal error trying to compile notAllowed\n",
      "RNG internal error trying to compile notAllowed\n",
      "RNG internal error trying to compile notAllowed\n",
      "RNG internal error trying to compile notAllowed\n",
      "RNG internal error trying to compile notAllowed\n",
      "RNG internal error trying to compile notAllowed\n",
      "RNG internal error trying to compile notAllowed\n",
      "RNG internal error trying to compile notAllowed\n",
      "RNG internal error trying to compile notAllowed\n",
      "RNG internal error trying to compile notAllowed\n",
      "RNG internal error trying to compile notAllowed\n",
      "RNG internal error trying to compile notAllowed\n",
      "RNG internal error trying to compile notAllowed\n",
      "RNG internal error trying to compile notAllowed\n",
      "RNG internal error trying to compile notAllowed\n",
      "RNG internal error trying to compile notAllowed\n",
      "RNG internal error trying to compile notAllowed\n",
      "RNG internal error trying to compile notAllowed\n",
      "RNG internal error trying to compile notAllowed\n",
      "RNG internal error trying to compile notAllowed\n",
      "RNG internal error trying to compile notAllowed\n",
      "RNG internal error trying to compile notAllowed\n",
      "RNG internal error trying to compile notAllowed\n",
      "RNG internal error trying to compile notAllowed\n",
      "RNG internal error trying to compile notAllowed\n",
      "RNG internal error trying to compile notAllowed\n",
      "RNG internal error trying to compile notAllowed\n",
      "RNG internal error trying to compile notAllowed\n",
      "RNG internal error trying to compile notAllowed\n",
      "RNG internal error trying to compile notAllowed\n",
      "RNG internal error trying to compile notAllowed\n",
      "RNG internal error trying to compile notAllowed\n",
      "RNG internal error trying to compile notAllowed\n",
      "RNG internal error trying to compile notAllowed\n",
      "RNG internal error trying to compile notAllowed\n",
      "RNG internal error trying to compile notAllowed\n",
      "RNG internal error trying to compile notAllowed\n",
      "RNG internal error trying to compile notAllowed\n",
      "RNG internal error trying to compile notAllowed\n",
      "RNG internal error trying to compile notAllowed\n",
      "RNG internal error trying to compile notAllowed\n",
      "RNG internal error trying to compile notAllowed\n",
      "RNG internal error trying to compile notAllowed\n",
      "RNG internal error trying to compile notAllowed\n",
      "RNG internal error trying to compile notAllowed\n",
      "RNG internal error trying to compile notAllowed\n",
      "RNG internal error trying to compile notAllowed\n",
      "RNG internal error trying to compile notAllowed\n",
      "RNG internal error trying to compile notAllowed\n",
      "RNG internal error trying to compile notAllowed\n",
      "RNG internal error trying to compile notAllowed\n",
      "RNG internal error trying to compile notAllowed\n",
      "RNG internal error trying to compile notAllowed\n",
      "RNG internal error trying to compile notAllowed\n",
      "RNG internal error trying to compile notAllowed\n",
      "RNG internal error trying to compile notAllowed\n",
      "RNG internal error trying to compile notAllowed\n",
      "RNG internal error trying to compile notAllowed\n",
      "RNG internal error trying to compile notAllowed\n",
      "RNG internal error trying to compile notAllowed\n",
      "RNG internal error trying to compile notAllowed\n",
      "RNG internal error trying to compile notAllowed\n",
      "RNG internal error trying to compile notAllowed\n",
      "RNG internal error trying to compile notAllowed\n",
      "RNG internal error trying to compile notAllowed\n",
      "RNG internal error trying to compile notAllowed\n",
      "RNG internal error trying to compile notAllowed\n",
      "RNG internal error trying to compile notAllowed\n",
      "RNG internal error trying to compile notAllowed\n",
      "RNG internal error trying to compile notAllowed\n",
      "RNG internal error trying to compile notAllowed\n",
      "RNG internal error trying to compile notAllowed\n",
      "RNG internal error trying to compile notAllowed\n",
      "RNG internal error trying to compile notAllowed\n",
      "RNG internal error trying to compile notAllowed\n",
      "RNG internal error trying to compile notAllowed\n",
      "RNG internal error trying to compile notAllowed\n",
      "RNG internal error trying to compile notAllowed\n",
      "RNG internal error trying to compile notAllowed\n",
      "RNG internal error trying to compile notAllowed\n",
      "RNG internal error trying to compile notAllowed\n",
      "RNG internal error trying to compile notAllowed\n",
      "RNG internal error trying to compile notAllowed\n",
      "RNG internal error trying to compile notAllowed\n",
      "RNG internal error trying to compile notAllowed\n",
      "RNG internal error trying to compile notAllowed\n",
      "RNG internal error trying to compile notAllowed\n",
      "RNG internal error trying to compile notAllowed\n",
      "RNG internal error trying to compile notAllowed\n",
      "RNG internal error trying to compile notAllowed\n",
      "RNG internal error trying to compile notAllowed\n",
      "RNG internal error trying to compile notAllowed\n",
      "RNG internal error trying to compile notAllowed\n",
      "RNG internal error trying to compile notAllowed\n",
      "RNG internal error trying to compile notAllowed\n",
      "RNG internal error trying to compile notAllowed\n",
      "RNG internal error trying to compile notAllowed\n",
      "RNG internal error trying to compile notAllowed\n",
      "RNG internal error trying to compile notAllowed\n",
      "RNG internal error trying to compile notAllowed\n",
      "RNG internal error trying to compile notAllowed\n",
      "RNG internal error trying to compile notAllowed\n",
      "RNG internal error trying to compile notAllowed\n",
      "RNG internal error trying to compile notAllowed\n",
      "RNG internal error trying to compile notAllowed\n",
      "RNG internal error trying to compile notAllowed\n",
      "RNG internal error trying to compile notAllowed\n",
      "RNG internal error trying to compile notAllowed\n",
      "RNG internal error trying to compile notAllowed\n",
      "RNG internal error trying to compile notAllowed\n",
      "RNG internal error trying to compile notAllowed\n",
      "RNG internal error trying to compile notAllowed\n",
      "RNG internal error trying to compile notAllowed\n",
      "RNG internal error trying to compile notAllowed\n",
      "RNG internal error trying to compile notAllowed\n"
     ]
    }
   ],
   "source": [
    "# Load an EpiDoc file and validate\n",
    "doc2 = EpiDoc('examples/ISic000001_tokenized.xml', validate_on_load=True)"
   ]
  },
  {
   "cell_type": "code",
   "execution_count": 4,
   "id": "b849433d-c354-4ced-b617-aa9ffb091ad8",
   "metadata": {},
   "outputs": [
    {
     "name": "stdout",
     "output_type": "stream",
     "text": [
      "examples/ISic000001_tokenized.xml is valid\n"
     ]
    }
   ],
   "source": [
    "# Print validation result\n",
    "print(doc2.validation_result)"
   ]
  },
  {
   "cell_type": "code",
   "execution_count": 5,
   "id": "099cd0bb-ad90-4cdf-bde3-e435a9e3994e",
   "metadata": {},
   "outputs": [
    {
     "name": "stdout",
     "output_type": "stream",
     "text": [
      "Dis manibus Zethi vixit annis VI\n"
     ]
    }
   ],
   "source": [
    "# Print normalized tokens as a string\n",
    "print(doc.text_normalized)"
   ]
  },
  {
   "cell_type": "code",
   "execution_count": 6,
   "id": "ffc15e1f-aa65-4f87-87a3-9277fa3af849",
   "metadata": {},
   "outputs": [
    {
     "name": "stdout",
     "output_type": "stream",
     "text": [
      "\n",
      "Dis · man(ibus)\n",
      " · Zethi\n",
      "vix(it) · a(nnis) · VI\n"
     ]
    }
   ],
   "source": [
    "# Print Leiden tokens as a string\n",
    "print(doc.text_leiden)"
   ]
  },
  {
   "cell_type": "code",
   "execution_count": 7,
   "id": "80e48fcf-3426-443e-8874-aa672a02c4cc",
   "metadata": {},
   "outputs": [
    {
     "name": "stdout",
     "output_type": "stream",
     "text": [
      " \n"
     ]
    }
   ],
   "source": [
    "# Print the translation text\n",
    "print(doc.translation_text)"
   ]
  },
  {
   "cell_type": "markdown",
   "id": "e6c6daec-c991-4b42-94cf-c198ac891e08",
   "metadata": {},
   "source": [
    "## Load a corpus"
   ]
  },
  {
   "cell_type": "code",
   "execution_count": 8,
   "id": "b311cee4-c75c-470e-ae7a-2d55acc8dd6d",
   "metadata": {},
   "outputs": [],
   "source": [
    "# Load the corpus\n",
    "corpus = EpiDocCorpus('example_corpus')"
   ]
  },
  {
   "cell_type": "code",
   "execution_count": 9,
   "id": "35e770fa-c1fd-4ea0-96f6-c61e00909a25",
   "metadata": {},
   "outputs": [
    {
     "name": "stdout",
     "output_type": "stream",
     "text": [
      "70\n"
     ]
    }
   ],
   "source": [
    "# Count the documents\n",
    "print(corpus.doc_count)"
   ]
  },
  {
   "cell_type": "code",
   "execution_count": 10,
   "id": "e0c1c797-59c2-4762-87f9-b128562fc778",
   "metadata": {},
   "outputs": [
    {
     "name": "stdout",
     "output_type": "stream",
     "text": [
      "-550 401\n"
     ]
    }
   ],
   "source": [
    "# Get the range of dates\n",
    "print(corpus.datemin, corpus.datemax)"
   ]
  },
  {
   "cell_type": "markdown",
   "id": "94279542-3270-4f12-a92b-6feb1c5e3490",
   "metadata": {},
   "source": [
    "## Filter the corpus"
   ]
  },
  {
   "cell_type": "code",
   "execution_count": 11,
   "id": "d521994f-f378-454e-9b60-50a538437b8a",
   "metadata": {},
   "outputs": [
    {
     "name": "stdout",
     "output_type": "stream",
     "text": [
      "40\n"
     ]
    }
   ],
   "source": [
    "# Find all the funerary inscriptions\n",
    "\n",
    "funerary = corpus.filter_by_textclass(['#function.funerary'])\n",
    "print(funerary.doc_count)"
   ]
  },
  {
   "cell_type": "code",
   "execution_count": 12,
   "id": "d2eea6dd-5ab8-47e0-aac9-419c30550037",
   "metadata": {},
   "outputs": [],
   "source": [
    "# Chaining filters\n",
    "catina_funerary = corpus.filter_by_textclass(['#function.funerary']).filter_by_orig_place(['Catina'])"
   ]
  },
  {
   "cell_type": "code",
   "execution_count": 13,
   "id": "afe911c3-b504-46d5-a2ef-c91b0f94b8aa",
   "metadata": {},
   "outputs": [
    {
     "name": "stdout",
     "output_type": "stream",
     "text": [
      "\n",
      "- ISic000002\n",
      "- ISic000003\n"
     ]
    }
   ],
   "source": [
    "print_items(catina_funerary.ids)"
   ]
  },
  {
   "cell_type": "code",
   "execution_count": 14,
   "id": "8e88cc66-7bc8-4f5f-95bb-a2ecf8f68f6b",
   "metadata": {},
   "outputs": [
    {
     "name": "stdout",
     "output_type": "stream",
     "text": [
      "70\n"
     ]
    }
   ],
   "source": [
    "# The original corpus is unchanged\n",
    "print(corpus.doc_count)"
   ]
  },
  {
   "cell_type": "code",
   "execution_count": 15,
   "id": "78e5d707-5411-4869-8f99-579ca5b0deff",
   "metadata": {},
   "outputs": [],
   "source": [
    "# Filter by date\n",
    "imperial_funerary = corpus.filter_by_daterange(start=-1, end=200).filter_by_textclass(['#function.funerary'])"
   ]
  },
  {
   "cell_type": "code",
   "execution_count": 16,
   "id": "8e500e6f-5dea-49d3-8654-6cc6530e7121",
   "metadata": {},
   "outputs": [
    {
     "name": "stdout",
     "output_type": "stream",
     "text": [
      "\n",
      "- ISic000006\n",
      "- ISic000813\n",
      "- ISic000819\n",
      "- ISic000853\n"
     ]
    }
   ],
   "source": [
    "print_items(imperial_funerary.ids)"
   ]
  },
  {
   "cell_type": "code",
   "execution_count": 17,
   "id": "478c6291-9b6e-4bff-931b-aa755849dc67",
   "metadata": {},
   "outputs": [
    {
     "name": "stdout",
     "output_type": "stream",
     "text": [
      "\n",
      "C(aius) · Iulius · Felix\n",
      "vixit · ann(os)\n",
      "Appuleia · Rogata\n",
      "vixit · ann(os)\n"
     ]
    }
   ],
   "source": [
    "# Show the text of particular inscription\n",
    "print(imperial_funerary.get_doc_by_id('ISic000006').text_leiden)"
   ]
  },
  {
   "cell_type": "markdown",
   "id": "30d49f3b-885d-490a-9417-ef2f6296d947",
   "metadata": {},
   "source": [
    "## Abbreviations"
   ]
  },
  {
   "cell_type": "code",
   "execution_count": 18,
   "id": "e5f2430c-e5be-4261-a0a1-f5fdad65ff53",
   "metadata": {},
   "outputs": [
    {
     "name": "stdout",
     "output_type": "stream",
     "text": [
      "162\n"
     ]
    }
   ],
   "source": [
    "# Get all the abbreviations in the corpus\n",
    "\n",
    "expans = corpus.expans\n",
    "print(len(expans))"
   ]
  },
  {
   "cell_type": "code",
   "execution_count": 19,
   "id": "98995b1b-51fd-488a-a2b6-80a6f8b76209",
   "metadata": {},
   "outputs": [
    {
     "name": "stdout",
     "output_type": "stream",
     "text": [
      "\n",
      "- man(ibus)\n",
      "- vix(it)\n",
      "- a(nnis)\n",
      "- D(is)\n",
      "- M(anibus)\n",
      "- s(acrum)\n",
      "- vix(it)\n",
      "- Man(ibus)\n",
      "- vix(it)\n",
      "- an(nis)\n",
      "- Herm(es)\n",
      "- fe(cerunt)\n",
      "- P(ubli)\n",
      "- f(ilius)\n",
      "- P(ublius)\n",
      "- P(ubli)\n",
      "- f(ilius)\n",
      "- P(ubli)\n",
      "- n(epos)\n",
      "- f(ilius)\n",
      "- D(is)\n",
      "- M(anibus)\n",
      "- S(acrum)\n",
      "- M(arcus)\n",
      "- vix(it)\n",
      "- ann(is)\n",
      "- mens(is)\n",
      "- dieb(us)\n",
      "- C(aius)\n",
      "- ann(os)\n",
      "- ann(os)\n",
      "- Mag(no)\n",
      "- Mag(ni)\n",
      "- f(ilio)\n",
      "- imp(eratore)\n",
      "- desig(nato)\n",
      "- L(ucius)\n",
      "- L(uci)\n",
      "- f(ilius)\n",
      "- leg(atus)\n",
      "- pr(aetore)\n",
      "- pr(aetor)\n",
      "- des(ignatus)\n",
      "- f(aciendum)\n",
      "- c(uravit)\n",
      "- D(is)\n",
      "- M(anibus)\n",
      "- fil(ia)\n",
      "- pient(issimae)\n",
      "- L(ucius)\n",
      "- q(uaestor)\n",
      "- pr(o)\n",
      "- pr(aetore)\n",
      "- prov(inciae)\n",
      "- Sicil(iae)\n",
      "- leg[(atus)]\n",
      "- pr(o)\n",
      "- pr(aetore)\n",
      "- prov(inciae)\n",
      "- eiusd(em)\n",
      "- pr(aetor)\n",
      "- des[(ignatus)]\n",
      "- M(arcus)\n",
      "- ἕνεκ(εν)\n",
      "- Q(uintus)\n",
      "- Q(uinti)\n",
      "- l(ibertus)\n",
      "- {Ↄ}(mulieris)\n",
      "- l(ibertus)\n",
      "- ḍ(e)\n",
      "- s(ua)\n",
      "- p(ecunia)\n",
      "- sacr(um)\n",
      "- honor(e)\n",
      "- d(eae)\n",
      "- d(onum)\n",
      "- d(edit)\n",
      "- c(larissimo)\n",
      "- v(iro)\n",
      "- Fl(avio)\n",
      "- Valeri(o)\n",
      "- v(ir)\n",
      "- c(larissimus)\n",
      "- corr(ector)\n",
      "- prov(inciae)\n",
      "- λαμπρ(οτάτου)\n",
      "- ὑπατ(ικὸν)\n",
      "- an(nis)\n",
      "- m(ensibus)\n",
      "- Q(uintus)\n",
      "- Imp(eratoris)\n",
      "- M(arci)\n",
      "- Aug(usti)\n",
      "- L(uci)\n",
      "- f(ilius)\n",
      "- q(uaestor)\n",
      "- p(ecuniae)\n",
      "- p(ublicae)\n",
      "- cuṛat[(or)]\n",
      "- promis[(it)]\n",
      "- s(ua)\n",
      "- p(ecunia)\n",
      "- {}(sestertium)\n",
      "- m(ilia)\n",
      "- n(ummum)\n",
      "- q(uaestoris)\n",
      "- Ṣ(iciliae)\n",
      "- c(larissimae)\n",
      "- m(emoriae)\n",
      "- v(iri)\n",
      "- {}(sestertium)\n",
      "- m(ilia)\n",
      "- n(ummum)\n",
      "- numerav(it)\n",
      "- dec(urionibus)\n",
      "- {}(sestertium)\n",
      "- ṃ(ilia)\n",
      "- ṇ(ummum)\n",
      "- ḍ(edit)\n",
      "- p(ecunia)\n",
      "- strav(it)\n",
      "- Q(uintus)\n",
      "- Q(uinti)\n",
      "- f(ilius)\n",
      "- Maec(ia)\n",
      "- q(uaestor)\n",
      "- pr(aetore)\n",
      "- prov(inciae)\n",
      "- Sici(liae)\n",
      "- s(ua)\n",
      "- p(ecunia)\n",
      "- f(ilius)\n",
      "- fil(ius)\n",
      "- P(ublius)\n",
      "- P(ubli)\n",
      "- M(arcus)\n",
      "- L(ucius)\n",
      "- L(ucius)\n",
      "- T(itus)\n",
      "- Θ(εοῖς)\n",
      "- Κ(αταχθονίοις)\n",
      "- μῆν(ας)\n",
      "- χλῖ(ρε)\n",
      "- μ(ῆνας)\n",
      "- Θ(εοῖς)\n",
      "- Κ(αταχθονίοις)\n",
      "- Θ(εοῖς)\n",
      "- Κ(αταχθονίοις)\n",
      "- ἔζησ(εν)\n",
      "- Θ(εοῖς)\n",
      "- Κ(αταχθονίοις)\n",
      "- Κ(λαυδία)\n",
      "- ἔζ(ησεν)\n",
      "- μῆ(νας)\n",
      "- ἡμέ(ρας)\n",
      "- Ν(ουμέριε)\n",
      "- μῆν(ας)\n",
      "- ἡμέρ(ας)\n",
      "- Κ(υίντος)\n"
     ]
    }
   ],
   "source": [
    "# Get all the suspensions\n",
    "print_items(filter(lambda expan: expan.is_suspension == True, expans))"
   ]
  },
  {
   "cell_type": "code",
   "execution_count": 20,
   "id": "0e6cf3bb-200b-46f5-9777-96ceb0442c36",
   "metadata": {},
   "outputs": [
    {
     "name": "stdout",
     "output_type": "stream",
     "text": [
      "\n",
      "- ἕνεκ(εν)\n",
      "- λαμπρ(οτάτου)\n",
      "- ὑπατ(ικὸν)\n",
      "- Θ(εοῖς)\n",
      "- Κ(αταχθονίοις)\n",
      "- μῆν(ας)\n",
      "- χλῖ(ρε)\n",
      "- μ(ῆνας)\n",
      "- Θ(εοῖς)\n",
      "- Κ(αταχθονίοις)\n",
      "- Θ(εοῖς)\n",
      "- Κ(αταχθονίοις)\n",
      "- ἔζησ(εν)\n",
      "- Θ(εοῖς)\n",
      "- Κ(αταχθονίοις)\n",
      "- Κ(λαυδία)\n",
      "- ἔζ(ησεν)\n",
      "- μῆ(νας)\n",
      "- ἡμέ(ρας)\n",
      "- Ν(ουμέριε)\n",
      "- μῆν(ας)\n",
      "- ἡμέρ(ας)\n",
      "- Κ(υίντος)\n"
     ]
    }
   ],
   "source": [
    "# Get all the Greek suspensions\n",
    "greek_suspensions = list(filter(\n",
    "    lambda expan: expan.is_suspension == True and lang(expan) == 'grc', \n",
    "    expans))\n",
    "print_items(greek_suspensions)\n",
    "\n"
   ]
  },
  {
   "cell_type": "code",
   "execution_count": 21,
   "id": "bfaaa47f-278b-460d-8582-c38b0acb96a3",
   "metadata": {},
   "outputs": [
    {
     "name": "stdout",
     "output_type": "stream",
     "text": [
      "\n",
      "- ISic000800\n",
      "- ISic000811\n",
      "- ISic000812\n",
      "- ISic000840\n",
      "- ISic000840\n",
      "- ISic000842\n",
      "- ISic000843\n",
      "- ISic000844\n",
      "- ISic000845\n",
      "- ISic000845\n",
      "- ISic000852\n",
      "- ISic000852\n",
      "- ISic000852\n",
      "- ISic000853\n",
      "- ISic000853\n",
      "- ISic000853\n",
      "- ISic000853\n",
      "- ISic000853\n",
      "- ISic000853\n",
      "- ISic000854\n",
      "- ISic000857\n",
      "- ISic000857\n",
      "- ISic000858\n"
     ]
    }
   ],
   "source": [
    "# Get the document IDs\n",
    "ids = map(doc_id, greek_suspensions)\n",
    "print_items(ids)"
   ]
  },
  {
   "cell_type": "code",
   "execution_count": 22,
   "id": "8e190630-54ea-465a-84fe-0ed8a658cb05",
   "metadata": {},
   "outputs": [
    {
     "name": "stdout",
     "output_type": "stream",
     "text": [
      "\n",
      "- co(n)s(ule)\n",
      "- proco(n)s(uli)\n",
      "\n",
      "- ISic000007\n",
      "- ISic000805\n"
     ]
    }
   ],
   "source": [
    "# Get all the Latin contractions with suspension\n",
    "latin_contractions_with_suspensions = list(filter(\n",
    "    lambda expan: expan.is_contraction_with_suspension == True and lang(expan) == 'la', \n",
    "    expans))\n",
    "print_items(latin_contractions_with_suspensions)\n",
    "\n",
    "print_items(map(doc_id, latin_contractions_with_suspensions))"
   ]
  },
  {
   "cell_type": "code",
   "execution_count": 23,
   "id": "93195094-f8ae-44ba-be69-fecdb06d4d08",
   "metadata": {},
   "outputs": [
    {
     "name": "stdout",
     "output_type": "stream",
     "text": [
      "\n",
      "- -37\n",
      "- 250\n"
     ]
    }
   ],
   "source": [
    "# Get the documents\n",
    "\n",
    "docs = list(map(owner_doc, latin_contractions_with_suspensions))\n",
    "print_items(map(lambda doc: doc.date_mean, docs))"
   ]
  },
  {
   "cell_type": "markdown",
   "id": "97bc56f1-86c5-4158-acf1-72db8eff83d1",
   "metadata": {},
   "source": [
    "## Tokenizing EpiDoc"
   ]
  },
  {
   "cell_type": "code",
   "execution_count": 24,
   "id": "91015c31-2d70-4483-8921-452fd0400b0a",
   "metadata": {},
   "outputs": [
    {
     "name": "stdout",
     "output_type": "stream",
     "text": [
      "[]\n"
     ]
    }
   ],
   "source": [
    "doc = EpiDoc('examples/ISic000032_untokenized.xml')\n",
    "print(doc.tokens)"
   ]
  },
  {
   "cell_type": "code",
   "execution_count": 25,
   "id": "5ed60721-ce33-4c84-b45f-fdf8753e4155",
   "metadata": {},
   "outputs": [
    {
     "name": "stdout",
     "output_type": "stream",
     "text": [
      " Marcus · Cornelius · Res Sextus · Clodi \n"
     ]
    }
   ],
   "source": [
    "print(doc.text_xml)"
   ]
  },
  {
   "cell_type": "code",
   "execution_count": 26,
   "id": "7c8e9c7b-7c1b-463b-a99e-2613761d1960",
   "metadata": {},
   "outputs": [
    {
     "name": "stdout",
     "output_type": "stream",
     "text": [
      "\n"
     ]
    }
   ],
   "source": [
    "print(doc.text_leiden)"
   ]
  },
  {
   "cell_type": "code",
   "execution_count": 27,
   "id": "f9acd72a-b02c-410d-abbb-411b89a8f97c",
   "metadata": {},
   "outputs": [
    {
     "name": "stdout",
     "output_type": "stream",
     "text": [
      "Tokenizing ISic000032...\n",
      "Prettifying ISic000032...\n",
      "[Element('w': 'Marcus'), Element('w': 'Cornelius'), Element('w': 'Res'), Element('w': 'Sextus'), Element('w': 'Clodi')]\n"
     ]
    }
   ],
   "source": [
    "doc.tokenize()\n",
    "print(doc.tokens)"
   ]
  },
  {
   "cell_type": "code",
   "execution_count": 28,
   "id": "b8f9f1f8-bca3-4f38-8cc6-0acfa370e540",
   "metadata": {},
   "outputs": [
    {
     "name": "stdout",
     "output_type": "stream",
     "text": [
      " Marcus · Cornelius · Res Sextus · Clodi \n"
     ]
    }
   ],
   "source": [
    "print(doc.text_xml)"
   ]
  },
  {
   "cell_type": "code",
   "execution_count": 29,
   "id": "69ab2a9f-1b55-4252-a677-79b3b3bd2644",
   "metadata": {},
   "outputs": [
    {
     "name": "stdout",
     "output_type": "stream",
     "text": [
      "\n",
      "M(arcus) · Cornelius · Ṛẹṣ[-?-]\n",
      "Sex(tus) · Clodị[-?-]\n"
     ]
    }
   ],
   "source": [
    "print(doc.text_leiden)"
   ]
  },
  {
   "cell_type": "code",
   "execution_count": 30,
   "id": "27cf7e00-b269-40a0-a3ea-08768c5d4792",
   "metadata": {},
   "outputs": [
    {
     "name": "stdout",
     "output_type": "stream",
     "text": [
      "Marcus Cornelius Res Sextus Clodi\n"
     ]
    }
   ],
   "source": [
    "print(doc.text_normalized)"
   ]
  },
  {
   "cell_type": "code",
   "execution_count": null,
   "id": "a9ca9710-cf70-4c58-8b2e-5777fc741463",
   "metadata": {},
   "outputs": [],
   "source": []
  }
 ],
 "metadata": {
  "kernelspec": {
   "display_name": "Python 3 (ipykernel)",
   "language": "python",
   "name": "python3"
  },
  "language_info": {
   "codemirror_mode": {
    "name": "ipython",
    "version": 3
   },
   "file_extension": ".py",
   "mimetype": "text/x-python",
   "name": "python",
   "nbconvert_exporter": "python",
   "pygments_lexer": "ipython3",
   "version": "3.9.18"
  }
 },
 "nbformat": 4,
 "nbformat_minor": 5
}
