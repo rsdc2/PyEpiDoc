{
 "cells": [
  {
   "cell_type": "markdown",
   "id": "8f0ae79e-31c1-4bbb-8301-b0835f578b77",
   "metadata": {},
   "source": [
    "# Getting started with PyEpiDoc"
   ]
  },
  {
   "cell_type": "markdown",
   "id": "79221d51-17ef-4ba0-82eb-0b3936e25c80",
   "metadata": {},
   "source": [
    "## Loading an EpiDoc file and accessing text"
   ]
  },
  {
   "cell_type": "code",
   "execution_count": 1,
   "id": "e6a7b51b-14a3-46ce-b483-1c4891eda530",
   "metadata": {},
   "outputs": [],
   "source": [
    "# Load the API\n",
    "from pyepidoc import EpiDoc, EpiDocCorpus\n",
    "from pyepidoc.shared.display import print_items\n",
    "from pyepidoc.epidoc.dom import lang, doc_id, owner_doc"
   ]
  },
  {
   "cell_type": "code",
   "execution_count": 2,
   "id": "6bf43c5e-7866-434e-956e-6976effeab29",
   "metadata": {},
   "outputs": [],
   "source": [
    "# Load an EpiDoc file without validation\n",
    "doc = EpiDoc('examples/ISic000001_tokenized.xml')"
   ]
  },
  {
   "cell_type": "code",
   "execution_count": 3,
   "id": "1b7bfb08-8bde-4a8b-8d67-4a802cd96e91",
   "metadata": {},
   "outputs": [
    {
     "name": "stderr",
     "output_type": "stream",
     "text": [
      "RNG internal error trying to compile notAllowed\n",
      "RNG internal error trying to compile notAllowed\n",
      "RNG internal error trying to compile notAllowed\n",
      "RNG internal error trying to compile notAllowed\n",
      "RNG internal error trying to compile notAllowed\n",
      "RNG internal error trying to compile notAllowed\n",
      "RNG internal error trying to compile notAllowed\n",
      "RNG internal error trying to compile notAllowed\n",
      "RNG internal error trying to compile notAllowed\n",
      "RNG internal error trying to compile notAllowed\n",
      "RNG internal error trying to compile notAllowed\n",
      "RNG internal error trying to compile notAllowed\n",
      "RNG internal error trying to compile notAllowed\n",
      "RNG internal error trying to compile notAllowed\n",
      "RNG internal error trying to compile notAllowed\n",
      "RNG internal error trying to compile notAllowed\n",
      "RNG internal error trying to compile notAllowed\n",
      "RNG internal error trying to compile notAllowed\n",
      "RNG internal error trying to compile notAllowed\n",
      "RNG internal error trying to compile notAllowed\n",
      "RNG internal error trying to compile notAllowed\n",
      "RNG internal error trying to compile notAllowed\n",
      "RNG internal error trying to compile notAllowed\n",
      "RNG internal error trying to compile notAllowed\n",
      "RNG internal error trying to compile notAllowed\n",
      "RNG internal error trying to compile notAllowed\n",
      "RNG internal error trying to compile notAllowed\n",
      "RNG internal error trying to compile notAllowed\n",
      "RNG internal error trying to compile notAllowed\n",
      "RNG internal error trying to compile notAllowed\n",
      "RNG internal error trying to compile notAllowed\n",
      "RNG internal error trying to compile notAllowed\n",
      "RNG internal error trying to compile notAllowed\n",
      "RNG internal error trying to compile notAllowed\n",
      "RNG internal error trying to compile notAllowed\n",
      "RNG internal error trying to compile notAllowed\n",
      "RNG internal error trying to compile notAllowed\n",
      "RNG internal error trying to compile notAllowed\n",
      "RNG internal error trying to compile notAllowed\n",
      "RNG internal error trying to compile notAllowed\n",
      "RNG internal error trying to compile notAllowed\n",
      "RNG internal error trying to compile notAllowed\n",
      "RNG internal error trying to compile notAllowed\n",
      "RNG internal error trying to compile notAllowed\n",
      "RNG internal error trying to compile notAllowed\n",
      "RNG internal error trying to compile notAllowed\n",
      "RNG internal error trying to compile notAllowed\n",
      "RNG internal error trying to compile notAllowed\n",
      "RNG internal error trying to compile notAllowed\n",
      "RNG internal error trying to compile notAllowed\n",
      "RNG internal error trying to compile notAllowed\n",
      "RNG internal error trying to compile notAllowed\n",
      "RNG internal error trying to compile notAllowed\n",
      "RNG internal error trying to compile notAllowed\n",
      "RNG internal error trying to compile notAllowed\n",
      "RNG internal error trying to compile notAllowed\n",
      "RNG internal error trying to compile notAllowed\n",
      "RNG internal error trying to compile notAllowed\n",
      "RNG internal error trying to compile notAllowed\n",
      "RNG internal error trying to compile notAllowed\n",
      "RNG internal error trying to compile notAllowed\n",
      "RNG internal error trying to compile notAllowed\n",
      "RNG internal error trying to compile notAllowed\n",
      "RNG internal error trying to compile notAllowed\n",
      "RNG internal error trying to compile notAllowed\n",
      "RNG internal error trying to compile notAllowed\n",
      "RNG internal error trying to compile notAllowed\n",
      "RNG internal error trying to compile notAllowed\n",
      "RNG internal error trying to compile notAllowed\n",
      "RNG internal error trying to compile notAllowed\n",
      "RNG internal error trying to compile notAllowed\n",
      "RNG internal error trying to compile notAllowed\n",
      "RNG internal error trying to compile notAllowed\n",
      "RNG internal error trying to compile notAllowed\n",
      "RNG internal error trying to compile notAllowed\n",
      "RNG internal error trying to compile notAllowed\n",
      "RNG internal error trying to compile notAllowed\n",
      "RNG internal error trying to compile notAllowed\n",
      "RNG internal error trying to compile notAllowed\n",
      "RNG internal error trying to compile notAllowed\n",
      "RNG internal error trying to compile notAllowed\n",
      "RNG internal error trying to compile notAllowed\n",
      "RNG internal error trying to compile notAllowed\n",
      "RNG internal error trying to compile notAllowed\n",
      "RNG internal error trying to compile notAllowed\n",
      "RNG internal error trying to compile notAllowed\n",
      "RNG internal error trying to compile notAllowed\n",
      "RNG internal error trying to compile notAllowed\n",
      "RNG internal error trying to compile notAllowed\n",
      "RNG internal error trying to compile notAllowed\n",
      "RNG internal error trying to compile notAllowed\n",
      "RNG internal error trying to compile notAllowed\n",
      "RNG internal error trying to compile notAllowed\n",
      "RNG internal error trying to compile notAllowed\n",
      "RNG internal error trying to compile notAllowed\n",
      "RNG internal error trying to compile notAllowed\n",
      "RNG internal error trying to compile notAllowed\n",
      "RNG internal error trying to compile notAllowed\n",
      "RNG internal error trying to compile notAllowed\n",
      "RNG internal error trying to compile notAllowed\n",
      "RNG internal error trying to compile notAllowed\n",
      "RNG internal error trying to compile notAllowed\n",
      "RNG internal error trying to compile notAllowed\n",
      "RNG internal error trying to compile notAllowed\n",
      "RNG internal error trying to compile notAllowed\n",
      "RNG internal error trying to compile notAllowed\n",
      "RNG internal error trying to compile notAllowed\n",
      "RNG inte"
     ]
    },
    {
     "name": "stdout",
     "output_type": "stream",
     "text": [
      "examples/ISic000001_tokenized.xml is a valid EpiDoc file\n"
     ]
    },
    {
     "name": "stderr",
     "output_type": "stream",
     "text": [
      "rnal error trying to compile notAllowed\n",
      "RNG internal error trying to compile notAllowed\n",
      "RNG internal error trying to compile notAllowed\n",
      "RNG internal error trying to compile notAllowed\n",
      "RNG internal error trying to compile notAllowed\n",
      "RNG internal error trying to compile notAllowed\n",
      "RNG internal error trying to compile notAllowed\n",
      "RNG internal error trying to compile notAllowed\n",
      "RNG internal error trying to compile notAllowed\n",
      "RNG internal error trying to compile notAllowed\n",
      "RNG internal error trying to compile notAllowed\n",
      "RNG internal error trying to compile notAllowed\n",
      "RNG internal error trying to compile notAllowed\n",
      "RNG internal error trying to compile notAllowed\n",
      "RNG internal error trying to compile notAllowed\n",
      "RNG internal error trying to compile notAllowed\n",
      "RNG internal error trying to compile notAllowed\n",
      "RNG internal error trying to compile notAllowed\n",
      "RNG internal error trying to compile notAllowed\n",
      "RNG internal error trying to compile notAllowed\n",
      "RNG internal error trying to compile notAllowed\n",
      "RNG internal error trying to compile notAllowed\n",
      "RNG internal error trying to compile notAllowed\n",
      "RNG internal error trying to compile notAllowed\n",
      "RNG internal error trying to compile notAllowed\n",
      "RNG internal error trying to compile notAllowed\n",
      "RNG internal error trying to compile notAllowed\n",
      "RNG internal error trying to compile notAllowed\n",
      "RNG internal error trying to compile notAllowed\n",
      "RNG internal error trying to compile notAllowed\n",
      "RNG internal error trying to compile notAllowed\n",
      "RNG internal error trying to compile notAllowed\n",
      "RNG internal error trying to compile notAllowed\n",
      "RNG internal error trying to compile notAllowed\n",
      "RNG internal error trying to compile notAllowed\n",
      "RNG internal error trying to compile notAllowed\n",
      "RNG internal error trying to compile notAllowed\n",
      "RNG internal error trying to compile notAllowed\n",
      "RNG internal error trying to compile notAllowed\n",
      "RNG internal error trying to compile notAllowed\n",
      "RNG internal error trying to compile notAllowed\n",
      "RNG internal error trying to compile notAllowed\n",
      "RNG internal error trying to compile notAllowed\n",
      "RNG internal error trying to compile notAllowed\n",
      "RNG internal error trying to compile notAllowed\n",
      "RNG internal error trying to compile notAllowed\n",
      "RNG internal error trying to compile notAllowed\n",
      "RNG internal error trying to compile notAllowed\n",
      "RNG internal error trying to compile notAllowed\n",
      "RNG internal error trying to compile notAllowed\n",
      "RNG internal error trying to compile notAllowed\n",
      "RNG internal error trying to compile notAllowed\n",
      "RNG internal error trying to compile notAllowed\n",
      "RNG internal error trying to compile notAllowed\n",
      "RNG internal error trying to compile notAllowed\n",
      "RNG internal error trying to compile notAllowed\n",
      "RNG internal error trying to compile notAllowed\n",
      "RNG internal error trying to compile notAllowed\n",
      "RNG internal error trying to compile notAllowed\n",
      "RNG internal error trying to compile notAllowed\n",
      "RNG internal error trying to compile notAllowed\n",
      "RNG internal error trying to compile notAllowed\n",
      "RNG internal error trying to compile notAllowed\n",
      "RNG internal error trying to compile notAllowed\n",
      "RNG internal error trying to compile notAllowed\n",
      "RNG internal error trying to compile notAllowed\n",
      "RNG internal error trying to compile notAllowed\n",
      "RNG internal error trying to compile notAllowed\n",
      "RNG internal error trying to compile notAllowed\n",
      "RNG internal error trying to compile notAllowed\n",
      "RNG internal error trying to compile notAllowed\n",
      "RNG internal error trying to compile notAllowed\n",
      "RNG internal error trying to compile notAllowed\n",
      "RNG internal error trying to compile notAllowed\n",
      "RNG internal error trying to compile notAllowed\n",
      "RNG internal error trying to compile notAllowed\n",
      "RNG internal error trying to compile notAllowed\n",
      "RNG internal error trying to compile notAllowed\n",
      "RNG internal error trying to compile notAllowed\n",
      "RNG internal error trying to compile notAllowed\n",
      "RNG internal error trying to compile notAllowed\n",
      "RNG internal error trying to compile notAllowed\n",
      "RNG internal error trying to compile notAllowed\n",
      "RNG internal error trying to compile notAllowed\n",
      "RNG internal error trying to compile notAllowed\n",
      "RNG internal error trying to compile notAllowed\n",
      "RNG internal error trying to compile notAllowed\n",
      "RNG internal error trying to compile notAllowed\n",
      "RNG internal error trying to compile notAllowed\n",
      "RNG internal error trying to compile notAllowed\n",
      "RNG internal error trying to compile notAllowed\n",
      "RNG internal error trying to compile notAllowed\n",
      "RNG internal error trying to compile notAllowed\n",
      "RNG internal error trying to compile notAllowed\n",
      "RNG internal error trying to compile notAllowed\n",
      "RNG internal error trying to compile notAllowed\n",
      "RNG internal error trying to compile notAllowed\n",
      "RNG internal error trying to compile notAllowed\n",
      "RNG internal error trying to compile notAllowed\n",
      "RNG internal error trying to compile notAllowed\n",
      "RNG internal error trying to compile notAllowed\n",
      "RNG internal error trying to compile notAllowed\n",
      "RNG internal error trying to compile notAllowed\n",
      "RNG internal error trying to compile notAllowed\n",
      "RNG internal error trying to compile notAllowed\n",
      "RNG internal error trying to compile notAllowed\n",
      "RNG internal error trying to compile notAllowed\n",
      "RNG internal error trying to compile notAllowed\n",
      "RNG internal error trying to compile notAllowed\n",
      "RNG internal error trying to compile notAllowed\n",
      "RNG internal error trying to compile notAllowed\n",
      "RNG internal error trying to compile notAllowed\n",
      "RNG internal error trying to compile notAllowed\n",
      "RNG internal error trying to compile notAllowed\n",
      "RNG internal error trying to compile notAllowed\n",
      "RNG internal error trying to compile notAllowed\n",
      "RNG internal error trying to compile notAllowed\n",
      "RNG internal error trying to compile notAllowed\n",
      "RNG internal error trying to compile notAllowed\n",
      "RNG internal error trying to compile notAllowed\n",
      "RNG internal error trying to compile notAllowed\n",
      "RNG internal error trying to compile notAllowed\n",
      "RNG internal error trying to compile notAllowed\n",
      "RNG internal error trying to compile notAllowed\n",
      "RNG internal error trying to compile notAllowed\n",
      "RNG internal error trying to compile notAllowed\n",
      "RNG internal error trying to compile notAllowed\n",
      "RNG internal error trying to compile notAllowed\n",
      "RNG internal error trying to compile notAllowed\n",
      "RNG internal error trying to compile notAllowed\n",
      "RNG internal error trying to compile notAllowed\n",
      "RNG internal error trying to compile notAllowed\n",
      "RNG internal error trying to compile notAllowed\n",
      "RNG internal error trying to compile notAllowed\n",
      "RNG internal error trying to compile notAllowed\n",
      "RNG internal error trying to compile notAllowed\n",
      "RNG internal error trying to compile notAllowed\n",
      "RNG internal error trying to compile notAllowed\n",
      "RNG internal error trying to compile notAllowed\n",
      "RNG internal error trying to compile notAllowed\n",
      "RNG internal error trying to compile notAllowed\n",
      "RNG internal error trying to compile notAllowed\n",
      "RNG internal error trying to compile notAllowed\n",
      "RNG internal error trying to compile notAllowed\n",
      "RNG internal error trying to compile notAllowed\n",
      "RNG internal error trying to compile notAllowed\n",
      "RNG internal error trying to compile notAllowed\n",
      "RNG internal error trying to compile notAllowed\n",
      "RNG internal error trying to compile notAllowed\n",
      "RNG internal error trying to compile notAllowed\n",
      "RNG internal error trying to compile notAllowed\n",
      "RNG internal error trying to compile notAllowed\n",
      "RNG internal error trying to compile notAllowed\n",
      "RNG internal error trying to compile notAllowed\n",
      "RNG internal error trying to compile notAllowed\n",
      "RNG internal error trying to compile notAllowed\n",
      "RNG internal error trying to compile notAllowed\n",
      "RNG internal error trying to compile notAllowed\n",
      "RNG internal error trying to compile notAllowed\n",
      "RNG internal error trying to compile notAllowed\n",
      "RNG internal error trying to compile notAllowed\n",
      "RNG internal error trying to compile notAllowed\n",
      "RNG internal error trying to compile notAllowed\n",
      "RNG internal error trying to compile notAllowed\n",
      "RNG internal error trying to compile notAllowed\n",
      "RNG internal error trying to compile notAllowed\n",
      "RNG internal error trying to compile notAllowed\n",
      "RNG internal error trying to compile notAllowed\n",
      "RNG internal error trying to compile notAllowed\n",
      "RNG internal error trying to compile notAllowed\n",
      "RNG internal error trying to compile notAllowed\n",
      "RNG internal error trying to compile notAllowed\n",
      "RNG internal error trying to compile notAllowed\n",
      "RNG internal error trying to compile notAllowed\n",
      "RNG internal error trying to compile notAllowed\n",
      "RNG internal error trying to compile notAllowed\n",
      "RNG internal error trying to compile notAllowed\n",
      "RNG internal error trying to compile notAllowed\n"
     ]
    }
   ],
   "source": [
    "# Load an EpiDoc file and validate\n",
    "doc2 = EpiDoc('examples/ISic000001_tokenized.xml', validate_on_load=True)"
   ]
  },
  {
   "cell_type": "code",
   "execution_count": 4,
   "id": "b849433d-c354-4ced-b617-aa9ffb091ad8",
   "metadata": {},
   "outputs": [
    {
     "name": "stdout",
     "output_type": "stream",
     "text": [
      "examples/ISic000001_tokenized.xml is valid\n"
     ]
    }
   ],
   "source": [
    "# Print validation result\n",
    "print(doc2.validation_result)"
   ]
  },
  {
   "cell_type": "code",
   "execution_count": 5,
   "id": "099cd0bb-ad90-4cdf-bde3-e435a9e3994e",
   "metadata": {},
   "outputs": [
    {
     "name": "stdout",
     "output_type": "stream",
     "text": [
      "Dis manibus Zethi vixit annis VI\n"
     ]
    }
   ],
   "source": [
    "# Print normalized tokens as a string\n",
    "print(doc.text_normalized)"
   ]
  },
  {
   "cell_type": "code",
   "execution_count": 6,
   "id": "ffc15e1f-aa65-4f87-87a3-9277fa3af849",
   "metadata": {},
   "outputs": [
    {
     "name": "stdout",
     "output_type": "stream",
     "text": [
      "\n",
      "Dis · man(ibus)\n",
      " · Zethi\n",
      "vix(it) · a(nnis) · VI\n"
     ]
    }
   ],
   "source": [
    "# Print Leiden tokens as a string\n",
    "print(doc.text_leiden)"
   ]
  },
  {
   "cell_type": "code",
   "execution_count": 7,
   "id": "80e48fcf-3426-443e-8874-aa672a02c4cc",
   "metadata": {},
   "outputs": [
    {
     "name": "stdout",
     "output_type": "stream",
     "text": [
      " \n"
     ]
    }
   ],
   "source": [
    "# Print the translation text\n",
    "print(doc.translation_text)"
   ]
  },
  {
   "cell_type": "markdown",
   "id": "cb4aa9ec-3ee3-47ed-9610-997ab11d335a",
   "metadata": {},
   "source": [
    "## See the XML"
   ]
  },
  {
   "cell_type": "code",
   "execution_count": 35,
   "id": "46ff9fb2-0f09-4446-bc4d-92d0c8e9dfe2",
   "metadata": {},
   "outputs": [
    {
     "name": "stdout",
     "output_type": "stream",
     "text": [
      "<?xml version=\"1.0\" encoding=\"UTF-8\"?>\n",
      "<?xml-model href=\"http://www.stoa.org/epidoc/schema/latest/tei-epidoc.rng\" type=\"application/xml\" schematypens=\"http://relaxng.org/ns/structure/1.0\"?>\n",
      "<?xml-model href=\"../schematron/ircyr-checking.sch\" schematypens=\"http://purl.oclc.org/dsdl/schematron\"?>\n",
      "<TEI xmlns=\"http://www.tei-c.org/ns/1.0\" xmlns:xi=\"http://www.w3.org/2001/XInclude\" xml:lang=\"en\">\n",
      "    <teiHeader>\n",
      "        <fileDesc>\n",
      "            <titleStmt>\n",
      "                <title>I.Sicily inscription 000032</title>\n",
      "                <editor ref=\"#JP\">Jonathan Prag</editor>\n",
      "                <principal ref=\"#JP\">Jonathan Prag</principal>\n",
      "                <funder>John Fell OUP Research Fund</funder>\n",
      "\t   <funder><ref target=\"https://cordis.europa.eu/project/id/885040\">ERC Advanced Grant no.885040</ref></funder>\n",
      "                <respStmt>\n",
      "                    <name xml:id=\"JP\" ref=\"http://orcid.org/0000-0003-3819-8537\">Jonathan Prag</name>\n",
      "                    <resp>original data collection and editing</resp>\n",
      "                </respStmt>\n",
      "                <respStmt>\n",
      "                    <name xml:id=\"JCu\" ref=\"http://orcid.org/0000-0002-6686-3728\">James Cummings</name>\n",
      "                    <resp>conversion to EpiDoc</resp>\n",
      "                </respStmt>\n",
      "                <respStmt>\n",
      "                    <name xml:id=\"JCh\" ref=\"http://orcid.org/0000-0001-6823-0265\">James Chartrand</name>\n",
      "                    <resp>site construction and encoding</resp>\n",
      "                </respStmt>\n",
      "                <respStmt>\n",
      "                    <name xml:id=\"VV\" ref=\"http://orcid.org/0000-0002-9695-0240\">Valeria Vitale</name>\n",
      "                    <resp>editing of geo data</resp>\n",
      "                </respStmt>\n",
      "                <respStmt>\n",
      "                    <name xml:id=\"MM\">Michael Metcalfe</name>\n",
      "                    <resp>museum data collection</resp>\n",
      "                </respStmt>\n",
      "                <respStmt>\n",
      "                    <name xml:id=\"TA\" ref=\"https://orcid.org/0000-0001-8417-7089\">Tuuli Ahlholm</name>\n",
      "                    <resp>EpiDoc editing</resp>\n",
      "                </respStmt>\n",
      "\t    <respStmt>\n",
      "     \t       <name xml:id=\"SS\" ref=\"https://orcid.org/0000-0003-3914-9569\">Simona Stoyanova</name>\n",
      "     \t       <resp>standardisation of template and tidying up encoding</resp>\n",
      " \t   </respStmt>\n",
      "\t    <respStmt>\n",
      "                    <name xml:id=\"system\">system</name>\n",
      "                    <resp>automated or batch processes</resp>\n",
      "                </respStmt>\n",
      "            </titleStmt>\n",
      "            <publicationStmt>\n",
      "                <authority>I.Sicily</authority>\n",
      "                <idno type=\"filename\">ISic000032</idno>\n",
      "                <idno type=\"TM\">491805</idno>\n",
      "                <idno type=\"EDR\">137780</idno>\n",
      "                <idno type=\"EDH\"/>\n",
      "                <idno type=\"EDCS\">22100008</idno>\n",
      "                <idno type=\"PHI\"/>\n",
      "                <idno type=\"URI\">http://sicily.classics.ox.ac.uk/inscription/ISic000032</idno>\n",
      "                <idno type=\"DOI\" when=\"2020-12-17\">10.5281/zenodo.4333841</idno>\n",
      "                <availability>\n",
      "                    <licence target=\"http://creativecommons.org/licenses/by/4.0/\">Licensed under a Creative\n",
      "                        Commons-Attribution 4.0 licence.\n",
      "                    </licence>\n",
      "                </availability>\n",
      "            </publicationStmt>\n",
      "            <sourceDesc>\n",
      "                <msDesc>\n",
      "                    <msIdentifier>\n",
      "                        <country>Italy</country>\n",
      "                        <region>Sicily</region>\n",
      "                        <settlement>Palermo</settlement>\n",
      "                        <repository role=\"museum\" ref=\"http://sicily.classics.ox.ac.uk/museum/064\">Museo Archeologico\n",
      "                            Regionale Antonino Salinas</repository>\n",
      "                        <idno type=\"inventory\">3532</idno>\n",
      "                        <!--Adding location for old id numbers if available-->\n",
      "                        <altIdentifier>\n",
      "                            <settlement/>\n",
      "                            <repository/>\n",
      "                            <idno type=\"old\"/>\n",
      "                        </altIdentifier>\n",
      "                    </msIdentifier>\n",
      "                    <msContents>\n",
      "                        <textLang mainLang=\"la\">Latin</textLang>\n",
      "                    </msContents>\n",
      "                    <physDesc>\n",
      "                        <objectDesc>\n",
      "                            <supportDesc>\n",
      "                                <support>\n",
      "                                    <material ana=\"#material.stone.limestone\" ref=\"http://www.eagle-network.eu/voc/material/lod/66.html\">limestone</material>\n",
      "                                    <objectType ana=\"#object.base\" ref=\"http://www.eagle-network.eu/voc/objtyp/lod/57.html\">base</objectType>\n",
      "                                    <dimensions><!--Default values and requires editing-->\n",
      "                                        <height unit=\"cm\"/>\n",
      "                                        <width unit=\"cm\"/>\n",
      "                                        <depth unit=\"cm\"/>\n",
      "                                    </dimensions>\n",
      "                                </support>\n",
      "                                <condition/>\n",
      "\t\t    </supportDesc>\n",
      "                            <layoutDesc>\n",
      "                                <layout>\n",
      "                                    <rs ana=\"#execution.chiselled\" ref=\"http://www.eagle-network.eu/voc/writing/lod/1\">chiselled</rs>\n",
      "                                \t<damage/>\n",
      "\t\t\t</layout>\n",
      "                            </layoutDesc>\n",
      "                        </objectDesc>\n",
      "                        <handDesc>\n",
      "                            <handNote><!--Default value and requires editing-->\n",
      "                                <locus from=\"line1\" to=\"line1\">Line 1</locus>\n",
      "                                <dimensions type=\"letterHeight\">\n",
      "                                    <height unit=\"mm\"/>\n",
      "                                </dimensions>\n",
      "                                <locus from=\"line1\" to=\"line2\">Interlineation line 1 to 2</locus>\n",
      "                                <dimensions type=\"interlinear\">\n",
      "                                    <height unit=\"mm\"/>\n",
      "                                </dimensions>\n",
      "                            </handNote>\n",
      "                        </handDesc>\n",
      "                    </physDesc>\n",
      "                    <history>\n",
      "                        <origin>\n",
      "                            <origPlace>\n",
      "                                <placeName type=\"ancient\" ref=\"http://pleiades.stoa.org/places/462410\">Panhormus</placeName>\t\t\n",
      "                                <placeName type=\"modern\" ref=\"http://sws.geonames.org/2523920\">Palermo</placeName>\n",
      "                            \t<geo>38.13205, 13.33561</geo>\n",
      "\t\t</origPlace>\n",
      "                            <origDate datingMethod=\"#julian\" notBefore-custom=\"0001\" notAfter-custom=\"0300\" cert=\"low\">Imperial</origDate>\n",
      "                        </origin>\n",
      "                        <provenance type=\"found\">Original discovery not recorded.</provenance>\n",
      "                        <provenance type=\"observed\" subtype=\"autopsied\">None</provenance>\n",
      "                        <acquisition/>\n",
      "                    </history>\n",
      "                </msDesc>\n",
      "            </sourceDesc>\n",
      "        </fileDesc>\n",
      "        <encodingDesc>\n",
      "             <p>Encoded following the latest EpiDoc guidelines</p>\n",
      "             <xi:include href=\"../alists/ISicily-taxonomies.xml\">\n",
      "                 <xi:fallback>\n",
      "                     <p>Taxonomies for ISicily controlled values</p>\n",
      "                 </xi:fallback>\n",
      "             </xi:include>\n",
      "\t  <xi:include href=\"../alists/charDecl.xml\">\n",
      "\t     <xi:fallback>\n",
      "\t       <p>ISicily glyphs authority list</p>\n",
      "\t     </xi:fallback>\n",
      "\t   </xi:include>\n",
      "         </encodingDesc>\n",
      "        <profileDesc>\n",
      "            <calendarDesc>\n",
      "                <calendar xml:id=\"julian\">\n",
      "                    <p>Julian Calendar</p>\n",
      "                </calendar>\n",
      "            </calendarDesc>\n",
      "            <langUsage>\n",
      "                <language ident=\"en\">English</language>\n",
      "                <language ident=\"it\">Italian</language>\n",
      "                <language ident=\"grc\">Ancient Greek</language>\n",
      "                <language ident=\"la\">Latin</language>\n",
      "                <language ident=\"he\">Hebrew</language>\n",
      "                <language ident=\"phn\">Phoenician</language>\n",
      "                <language ident=\"xpu\">Punic</language>\n",
      "                <language ident=\"osc\">Oscan</language>\n",
      "                <language ident=\"xly\">Elymian</language>\n",
      "                <language ident=\"scx\">Sikel</language>\n",
      "                <language ident=\"sxc\">Sikan</language>\n",
      "            </langUsage>\n",
      "            <textClass>\n",
      "                <keywords scheme=\"http://www.eagle-network.eu/voc/typeins.html\">\n",
      "                    <term ana=\"#function.unknown\" ref=\"https://www.eagle-network.eu/voc/objtyp/lod/2.html\">unknown</term>\n",
      "                </keywords>\n",
      "            </textClass>\n",
      "        </profileDesc>\n",
      "        <revisionDesc status=\"draft\">\n",
      "            <listChange>\n",
      "                <change when=\"2016-12-03\" who=\"#JCu\">James Cummings autogenerated EpiDoc output from database</change>\n",
      "                <change when=\"2018-05-03\" who=\"#TA\">Tuuli Ahlholm cleaned up the autogenerated EpiDoc and added an apparatus</change>\n",
      "            \t   <change when=\"2020-10-05\" who=\"#SS\">Simona Stoyanova normalised Unicode</change>\n",
      "            \t   <change when=\"2020-10-08\" who=\"#SS\">Simona Stoyanova updated list of languages</change>\n",
      "            \t<change when=\"2020-11-20\" who=\"#SS\">Simona Stoyanova added EDCS numbers</change>\n",
      "\t\t<change when=\"2020-11-26\" who=\"#SS\">Simona Stoyanova restructured bibliography</change>\n",
      "\t    <change when=\"2020-12-17\" who=\"#system\">Updated Zenodo DOI</change>\n",
      "            \t<change when=\"2021-01-19\" who=\"#SS\">renumbered files, uris and references</change>\n",
      "\t</listChange>\n",
      "        </revisionDesc>\n",
      "    </teiHeader>\n",
      "    <facsimile>\n",
      "        <surface/>\n",
      "        <!--delete empty surface above and uncomment template below if needed-->\n",
      "        <!--\n",
      "  <surface type=\"front\">\n",
      "    <graphic n=\"screen\" url=\"{concat('ISic', $num, '_tiled.tif')}\"\n",
      "      height=\"4912px\" width=\"7360px\">\n",
      "      <desc>Add Description Here</desc>\n",
      "    </graphic>\n",
      "    <graphic n=\"print\" url=\"{concat('ISic', $num, '.jpg')}\" height=\"3680px\" width=\"5520px\">\n",
      "      <desc>Add Description Here</desc>\n",
      "    </graphic>\n",
      "  </surface>\n",
      "\n",
      "    -->\n",
      "    </facsimile>\n",
      "    <text>\n",
      "        <body>\n",
      "            <div type=\"edition\" xml:space=\"preserve\" xml:lang=\"la\">\n",
      "                <ab>\n",
      "                    <lb n=\"1\" xml:id=\"ADUAK\"/><w xml:id=\"ADUAU\"><expan xml:id=\"ADUAe\"><abbr xml:id=\"ADUAo\">M</abbr><ex xml:id=\"ADUAy\">arcus</ex></expan></w> <g ref=\"#interpunct\" xml:id=\"ADUAΙ\">·</g> <w xml:id=\"ADUAΤ\">Cornelius</w> <g ref=\"#interpunct\" xml:id=\"ADUAε\">·</g> <w xml:id=\"ADUAο\"><unclear xml:id=\"ADUBA\">Res</unclear></w> <gap reason=\"lost\" extent=\"unknown\" unit=\"character\" xml:id=\"ADUBK\"/>\n",
      "                    <lb n=\"2\" xml:id=\"ADUBU\"/><w xml:id=\"ADUBe\"><expan xml:id=\"ADUBo\"><abbr xml:id=\"ADUBy\">Sex</abbr><ex xml:id=\"ADUBΙ\">tus</ex></expan></w> <g ref=\"#interpunct\" xml:id=\"ADUBΤ\">·</g> <w xml:id=\"ADUBε\">Clod<unclear xml:id=\"ADUBο\">i</unclear></w> <gap reason=\"lost\" extent=\"unknown\" unit=\"character\" xml:id=\"ADUCA\"/>\n",
      "                </ab>\n",
      "            </div>\n",
      "            <div type=\"apparatus\">\n",
      "                <listApp>\n",
      "                    <app><note>Text of <hi rend=\"italic\">IMusPalermo</hi></note></app>\n",
      "                </listApp>\n",
      "            </div>\n",
      "            <div type=\"translation\">\n",
      "                <p><!--translation(s) - add @xml:lang for 'en' or 'it' to div--></p>\n",
      "            </div>\n",
      "            <div type=\"commentary\">\n",
      "                <p><!--commentary--></p>\n",
      "            </div>\n",
      "            <div type=\"bibliography\">\n",
      "                <listBibl type=\"edition\">\n",
      "                    <bibl type=\"corpus\" n=\"CIL\">\n",
      "                        <citedRange>\n",
      "                            <ref target=\"http://arachne.uni-koeln.de/books/CILv10pII1883\">10.7305</ref>\n",
      "                        </citedRange>\n",
      "                        <ptr target=\"https://www.zotero.org/groups/382445/items/GQN8UZSI\"/>\n",
      "                    </bibl>\n",
      "                    <bibl type=\"corpus\" n=\"ILMusPalermo\">\n",
      "                        <citedRange>32</citedRange>\n",
      "                        <ptr target=\"https://www.zotero.org/groups/382445/items/FZWWPUD6\"/>\n",
      "                    </bibl>\n",
      "                    <bibl/>\n",
      "                </listBibl>\n",
      "\t   <listBibl type=\"discussion\"><bibl/></listBibl>\n",
      "            </div>\n",
      "        </body>\n",
      "    </text>\n",
      "</TEI>\n",
      "\n"
     ]
    }
   ],
   "source": [
    "print(doc.xml_str)"
   ]
  },
  {
   "cell_type": "markdown",
   "id": "e6c6daec-c991-4b42-94cf-c198ac891e08",
   "metadata": {},
   "source": [
    "## Load a corpus"
   ]
  },
  {
   "cell_type": "code",
   "execution_count": 8,
   "id": "b311cee4-c75c-470e-ae7a-2d55acc8dd6d",
   "metadata": {},
   "outputs": [],
   "source": [
    "# Load the corpus\n",
    "corpus = EpiDocCorpus('example_corpus')"
   ]
  },
  {
   "cell_type": "code",
   "execution_count": 9,
   "id": "35e770fa-c1fd-4ea0-96f6-c61e00909a25",
   "metadata": {},
   "outputs": [
    {
     "name": "stdout",
     "output_type": "stream",
     "text": [
      "70\n"
     ]
    }
   ],
   "source": [
    "# Count the documents\n",
    "print(corpus.doc_count)"
   ]
  },
  {
   "cell_type": "code",
   "execution_count": 10,
   "id": "e0c1c797-59c2-4762-87f9-b128562fc778",
   "metadata": {},
   "outputs": [
    {
     "name": "stdout",
     "output_type": "stream",
     "text": [
      "-550 401\n"
     ]
    }
   ],
   "source": [
    "# Get the range of dates\n",
    "print(corpus.datemin, corpus.datemax)"
   ]
  },
  {
   "cell_type": "markdown",
   "id": "94279542-3270-4f12-a92b-6feb1c5e3490",
   "metadata": {},
   "source": [
    "## Filter the corpus"
   ]
  },
  {
   "cell_type": "code",
   "execution_count": 11,
   "id": "d521994f-f378-454e-9b60-50a538437b8a",
   "metadata": {},
   "outputs": [
    {
     "name": "stdout",
     "output_type": "stream",
     "text": [
      "40\n"
     ]
    }
   ],
   "source": [
    "# Find all the funerary inscriptions\n",
    "\n",
    "funerary = corpus.filter_by_textclass(['#function.funerary'])\n",
    "print(funerary.doc_count)"
   ]
  },
  {
   "cell_type": "code",
   "execution_count": 12,
   "id": "d2eea6dd-5ab8-47e0-aac9-419c30550037",
   "metadata": {},
   "outputs": [],
   "source": [
    "# Chaining filters\n",
    "catina_funerary = corpus.filter_by_textclass(['#function.funerary']).filter_by_orig_place(['Catina'])"
   ]
  },
  {
   "cell_type": "code",
   "execution_count": 13,
   "id": "afe911c3-b504-46d5-a2ef-c91b0f94b8aa",
   "metadata": {},
   "outputs": [
    {
     "name": "stdout",
     "output_type": "stream",
     "text": [
      "\n",
      "- ISic000002\n",
      "- ISic000003\n"
     ]
    }
   ],
   "source": [
    "print_items(catina_funerary.ids)"
   ]
  },
  {
   "cell_type": "code",
   "execution_count": 14,
   "id": "8e88cc66-7bc8-4f5f-95bb-a2ecf8f68f6b",
   "metadata": {},
   "outputs": [
    {
     "name": "stdout",
     "output_type": "stream",
     "text": [
      "70\n"
     ]
    }
   ],
   "source": [
    "# The original corpus is unchanged\n",
    "print(corpus.doc_count)"
   ]
  },
  {
   "cell_type": "code",
   "execution_count": 15,
   "id": "78e5d707-5411-4869-8f99-579ca5b0deff",
   "metadata": {},
   "outputs": [],
   "source": [
    "# Filter by date\n",
    "imperial_funerary = corpus.filter_by_daterange(start=-1, end=200).filter_by_textclass(['#function.funerary'])"
   ]
  },
  {
   "cell_type": "code",
   "execution_count": 16,
   "id": "8e500e6f-5dea-49d3-8654-6cc6530e7121",
   "metadata": {},
   "outputs": [
    {
     "name": "stdout",
     "output_type": "stream",
     "text": [
      "\n",
      "- ISic000006\n",
      "- ISic000813\n",
      "- ISic000819\n",
      "- ISic000853\n"
     ]
    }
   ],
   "source": [
    "print_items(imperial_funerary.ids)"
   ]
  },
  {
   "cell_type": "code",
   "execution_count": 17,
   "id": "478c6291-9b6e-4bff-931b-aa755849dc67",
   "metadata": {},
   "outputs": [
    {
     "name": "stdout",
     "output_type": "stream",
     "text": [
      "\n",
      "C(aius) · Iulius · Felix\n",
      "vixit · ann(os)\n",
      "Appuleia · Rogata\n",
      "vixit · ann(os)\n"
     ]
    }
   ],
   "source": [
    "# Show the text of particular inscription\n",
    "print(imperial_funerary.get_doc_by_id('ISic000006').text_leiden)"
   ]
  },
  {
   "cell_type": "markdown",
   "id": "30d49f3b-885d-490a-9417-ef2f6296d947",
   "metadata": {},
   "source": [
    "## Abbreviations"
   ]
  },
  {
   "cell_type": "code",
   "execution_count": 18,
   "id": "e5f2430c-e5be-4261-a0a1-f5fdad65ff53",
   "metadata": {},
   "outputs": [
    {
     "name": "stdout",
     "output_type": "stream",
     "text": [
      "162\n"
     ]
    }
   ],
   "source": [
    "# Get all the abbreviations in the corpus\n",
    "\n",
    "expans = corpus.expans\n",
    "print(len(expans))"
   ]
  },
  {
   "cell_type": "code",
   "execution_count": 19,
   "id": "98995b1b-51fd-488a-a2b6-80a6f8b76209",
   "metadata": {},
   "outputs": [
    {
     "name": "stdout",
     "output_type": "stream",
     "text": [
      "\n",
      "- man(ibus)\n",
      "- vix(it)\n",
      "- a(nnis)\n",
      "- D(is)\n",
      "- M(anibus)\n",
      "- s(acrum)\n",
      "- vix(it)\n",
      "- Man(ibus)\n",
      "- vix(it)\n",
      "- an(nis)\n",
      "- Herm(es)\n",
      "- fe(cerunt)\n",
      "- P(ubli)\n",
      "- f(ilius)\n",
      "- P(ublius)\n",
      "- P(ubli)\n",
      "- f(ilius)\n",
      "- P(ubli)\n",
      "- n(epos)\n",
      "- f(ilius)\n",
      "- D(is)\n",
      "- M(anibus)\n",
      "- S(acrum)\n",
      "- M(arcus)\n",
      "- vix(it)\n",
      "- ann(is)\n",
      "- mens(is)\n",
      "- dieb(us)\n",
      "- C(aius)\n",
      "- ann(os)\n",
      "- ann(os)\n",
      "- Mag(no)\n",
      "- Mag(ni)\n",
      "- f(ilio)\n",
      "- imp(eratore)\n",
      "- desig(nato)\n",
      "- L(ucius)\n",
      "- L(uci)\n",
      "- f(ilius)\n",
      "- leg(atus)\n",
      "- pr(aetore)\n",
      "- pr(aetor)\n",
      "- des(ignatus)\n",
      "- f(aciendum)\n",
      "- c(uravit)\n",
      "- D(is)\n",
      "- M(anibus)\n",
      "- fil(ia)\n",
      "- pient(issimae)\n",
      "- L(ucius)\n",
      "- q(uaestor)\n",
      "- pr(o)\n",
      "- pr(aetore)\n",
      "- prov(inciae)\n",
      "- Sicil(iae)\n",
      "- leg[(atus)]\n",
      "- pr(o)\n",
      "- pr(aetore)\n",
      "- prov(inciae)\n",
      "- eiusd(em)\n",
      "- pr(aetor)\n",
      "- des[(ignatus)]\n",
      "- M(arcus)\n",
      "- ἕνεκ(εν)\n",
      "- Q(uintus)\n",
      "- Q(uinti)\n",
      "- l(ibertus)\n",
      "- {Ↄ}(mulieris)\n",
      "- l(ibertus)\n",
      "- ḍ(e)\n",
      "- s(ua)\n",
      "- p(ecunia)\n",
      "- sacr(um)\n",
      "- honor(e)\n",
      "- d(eae)\n",
      "- d(onum)\n",
      "- d(edit)\n",
      "- c(larissimo)\n",
      "- v(iro)\n",
      "- Fl(avio)\n",
      "- Valeri(o)\n",
      "- v(ir)\n",
      "- c(larissimus)\n",
      "- corr(ector)\n",
      "- prov(inciae)\n",
      "- λαμπρ(οτάτου)\n",
      "- ὑπατ(ικὸν)\n",
      "- an(nis)\n",
      "- m(ensibus)\n",
      "- Q(uintus)\n",
      "- Imp(eratoris)\n",
      "- M(arci)\n",
      "- Aug(usti)\n",
      "- L(uci)\n",
      "- f(ilius)\n",
      "- q(uaestor)\n",
      "- p(ecuniae)\n",
      "- p(ublicae)\n",
      "- cuṛat[(or)]\n",
      "- promis[(it)]\n",
      "- s(ua)\n",
      "- p(ecunia)\n",
      "- {}(sestertium)\n",
      "- m(ilia)\n",
      "- n(ummum)\n",
      "- q(uaestoris)\n",
      "- Ṣ(iciliae)\n",
      "- c(larissimae)\n",
      "- m(emoriae)\n",
      "- v(iri)\n",
      "- {}(sestertium)\n",
      "- m(ilia)\n",
      "- n(ummum)\n",
      "- numerav(it)\n",
      "- dec(urionibus)\n",
      "- {}(sestertium)\n",
      "- ṃ(ilia)\n",
      "- ṇ(ummum)\n",
      "- ḍ(edit)\n",
      "- p(ecunia)\n",
      "- strav(it)\n",
      "- Q(uintus)\n",
      "- Q(uinti)\n",
      "- f(ilius)\n",
      "- Maec(ia)\n",
      "- q(uaestor)\n",
      "- pr(aetore)\n",
      "- prov(inciae)\n",
      "- Sici(liae)\n",
      "- s(ua)\n",
      "- p(ecunia)\n",
      "- f(ilius)\n",
      "- fil(ius)\n",
      "- P(ublius)\n",
      "- P(ubli)\n",
      "- M(arcus)\n",
      "- L(ucius)\n",
      "- L(ucius)\n",
      "- T(itus)\n",
      "- Θ(εοῖς)\n",
      "- Κ(αταχθονίοις)\n",
      "- μῆν(ας)\n",
      "- χλῖ(ρε)\n",
      "- μ(ῆνας)\n",
      "- Θ(εοῖς)\n",
      "- Κ(αταχθονίοις)\n",
      "- Θ(εοῖς)\n",
      "- Κ(αταχθονίοις)\n",
      "- ἔζησ(εν)\n",
      "- Θ(εοῖς)\n",
      "- Κ(αταχθονίοις)\n",
      "- Κ(λαυδία)\n",
      "- ἔζ(ησεν)\n",
      "- μῆ(νας)\n",
      "- ἡμέ(ρας)\n",
      "- Ν(ουμέριε)\n",
      "- μῆν(ας)\n",
      "- ἡμέρ(ας)\n",
      "- Κ(υίντος)\n"
     ]
    }
   ],
   "source": [
    "# Get all the suspensions\n",
    "print_items(filter(lambda expan: expan.is_suspension == True, expans))"
   ]
  },
  {
   "cell_type": "code",
   "execution_count": 20,
   "id": "0e6cf3bb-200b-46f5-9777-96ceb0442c36",
   "metadata": {},
   "outputs": [
    {
     "name": "stdout",
     "output_type": "stream",
     "text": [
      "\n",
      "- ἕνεκ(εν)\n",
      "- λαμπρ(οτάτου)\n",
      "- ὑπατ(ικὸν)\n",
      "- Θ(εοῖς)\n",
      "- Κ(αταχθονίοις)\n",
      "- μῆν(ας)\n",
      "- χλῖ(ρε)\n",
      "- μ(ῆνας)\n",
      "- Θ(εοῖς)\n",
      "- Κ(αταχθονίοις)\n",
      "- Θ(εοῖς)\n",
      "- Κ(αταχθονίοις)\n",
      "- ἔζησ(εν)\n",
      "- Θ(εοῖς)\n",
      "- Κ(αταχθονίοις)\n",
      "- Κ(λαυδία)\n",
      "- ἔζ(ησεν)\n",
      "- μῆ(νας)\n",
      "- ἡμέ(ρας)\n",
      "- Ν(ουμέριε)\n",
      "- μῆν(ας)\n",
      "- ἡμέρ(ας)\n",
      "- Κ(υίντος)\n"
     ]
    }
   ],
   "source": [
    "# Get all the Greek suspensions\n",
    "greek_suspensions = list(filter(\n",
    "    lambda expan: expan.is_suspension == True and lang(expan) == 'grc', \n",
    "    expans))\n",
    "print_items(greek_suspensions)\n",
    "\n"
   ]
  },
  {
   "cell_type": "code",
   "execution_count": 21,
   "id": "bfaaa47f-278b-460d-8582-c38b0acb96a3",
   "metadata": {},
   "outputs": [
    {
     "name": "stdout",
     "output_type": "stream",
     "text": [
      "\n",
      "- ISic000800\n",
      "- ISic000811\n",
      "- ISic000812\n",
      "- ISic000840\n",
      "- ISic000840\n",
      "- ISic000842\n",
      "- ISic000843\n",
      "- ISic000844\n",
      "- ISic000845\n",
      "- ISic000845\n",
      "- ISic000852\n",
      "- ISic000852\n",
      "- ISic000852\n",
      "- ISic000853\n",
      "- ISic000853\n",
      "- ISic000853\n",
      "- ISic000853\n",
      "- ISic000853\n",
      "- ISic000853\n",
      "- ISic000854\n",
      "- ISic000857\n",
      "- ISic000857\n",
      "- ISic000858\n"
     ]
    }
   ],
   "source": [
    "# Get the document IDs\n",
    "ids = map(doc_id, greek_suspensions)\n",
    "print_items(ids)"
   ]
  },
  {
   "cell_type": "code",
   "execution_count": 22,
   "id": "8e190630-54ea-465a-84fe-0ed8a658cb05",
   "metadata": {},
   "outputs": [
    {
     "name": "stdout",
     "output_type": "stream",
     "text": [
      "\n",
      "- co(n)s(ule)\n",
      "- proco(n)s(uli)\n",
      "\n",
      "- ISic000007\n",
      "- ISic000805\n"
     ]
    }
   ],
   "source": [
    "# Get all the Latin contractions with suspension\n",
    "latin_contractions_with_suspensions = list(filter(\n",
    "    lambda expan: expan.is_contraction_with_suspension == True and lang(expan) == 'la', \n",
    "    expans))\n",
    "print_items(latin_contractions_with_suspensions)\n",
    "\n",
    "print_items(map(doc_id, latin_contractions_with_suspensions))"
   ]
  },
  {
   "cell_type": "code",
   "execution_count": 23,
   "id": "93195094-f8ae-44ba-be69-fecdb06d4d08",
   "metadata": {},
   "outputs": [
    {
     "name": "stdout",
     "output_type": "stream",
     "text": [
      "\n",
      "- -37\n",
      "- 250\n"
     ]
    }
   ],
   "source": [
    "# Get the documents\n",
    "\n",
    "docs = list(map(owner_doc, latin_contractions_with_suspensions))\n",
    "print_items(map(lambda doc: doc.date_mean, docs))"
   ]
  },
  {
   "cell_type": "markdown",
   "id": "97bc56f1-86c5-4158-acf1-72db8eff83d1",
   "metadata": {},
   "source": [
    "## Tokenizing EpiDoc"
   ]
  },
  {
   "cell_type": "code",
   "execution_count": 24,
   "id": "91015c31-2d70-4483-8921-452fd0400b0a",
   "metadata": {},
   "outputs": [
    {
     "name": "stdout",
     "output_type": "stream",
     "text": [
      "[]\n"
     ]
    }
   ],
   "source": [
    "doc = EpiDoc('examples/ISic000032_untokenized.xml')\n",
    "print(doc.tokens)"
   ]
  },
  {
   "cell_type": "code",
   "execution_count": 25,
   "id": "5ed60721-ce33-4c84-b45f-fdf8753e4155",
   "metadata": {},
   "outputs": [
    {
     "name": "stdout",
     "output_type": "stream",
     "text": [
      " Marcus · Cornelius · Res Sextus · Clodi \n"
     ]
    }
   ],
   "source": [
    "print(doc.text_xml)"
   ]
  },
  {
   "cell_type": "code",
   "execution_count": 26,
   "id": "7c8e9c7b-7c1b-463b-a99e-2613761d1960",
   "metadata": {},
   "outputs": [
    {
     "name": "stdout",
     "output_type": "stream",
     "text": [
      "\n"
     ]
    }
   ],
   "source": [
    "print(doc.text_leiden)"
   ]
  },
  {
   "cell_type": "code",
   "execution_count": 27,
   "id": "f9acd72a-b02c-410d-abbb-411b89a8f97c",
   "metadata": {},
   "outputs": [
    {
     "name": "stdout",
     "output_type": "stream",
     "text": [
      "Tokenizing ISic000032...\n",
      "Prettifying ISic000032...\n",
      "[Element('w': 'Marcus'), Element('w': 'Cornelius'), Element('w': 'Res'), Element('w': 'Sextus'), Element('w': 'Clodi')]\n"
     ]
    }
   ],
   "source": [
    "doc.tokenize()\n",
    "print(doc.tokens)"
   ]
  },
  {
   "cell_type": "code",
   "execution_count": 28,
   "id": "b8f9f1f8-bca3-4f38-8cc6-0acfa370e540",
   "metadata": {},
   "outputs": [
    {
     "name": "stdout",
     "output_type": "stream",
     "text": [
      " Marcus · Cornelius · Res Sextus · Clodi \n"
     ]
    }
   ],
   "source": [
    "print(doc.text_xml)"
   ]
  },
  {
   "cell_type": "code",
   "execution_count": 29,
   "id": "69ab2a9f-1b55-4252-a677-79b3b3bd2644",
   "metadata": {},
   "outputs": [
    {
     "name": "stdout",
     "output_type": "stream",
     "text": [
      "\n",
      "M(arcus) · Cornelius · Ṛẹṣ[-?-]\n",
      "Sex(tus) · Clodị[-?-]\n"
     ]
    }
   ],
   "source": [
    "print(doc.text_leiden)"
   ]
  },
  {
   "cell_type": "code",
   "execution_count": 30,
   "id": "27cf7e00-b269-40a0-a3ea-08768c5d4792",
   "metadata": {},
   "outputs": [
    {
     "name": "stdout",
     "output_type": "stream",
     "text": [
      "Marcus Cornelius Res Sextus Clodi\n"
     ]
    }
   ],
   "source": [
    "print(doc.text_normalized)"
   ]
  },
  {
   "cell_type": "markdown",
   "id": "1484f086-b291-478a-ad42-948fb4f422a1",
   "metadata": {},
   "source": [
    "## Setting IDs"
   ]
  },
  {
   "cell_type": "code",
   "execution_count": 31,
   "id": "c29f667e-2620-4873-bba4-7ce8bfb7d790",
   "metadata": {},
   "outputs": [
    {
     "name": "stdout",
     "output_type": "stream",
     "text": [
      "<div xmlns=\"http://www.tei-c.org/ns/1.0\" xmlns:xi=\"http://www.w3.org/2001/XInclude\" type=\"edition\" xml:space=\"preserve\" xml:lang=\"la\">\n",
      "                <ab>\n",
      "                    <lb n=\"1\"/><w><expan><abbr>M</abbr><ex>arcus</ex></expan></w> <g ref=\"#interpunct\">·</g> <w>Cornelius</w> <g ref=\"#interpunct\">·</g> <w><unclear>Res</unclear></w> <gap reason=\"lost\" extent=\"unknown\" unit=\"character\"/>\n",
      "                    <lb n=\"2\"/><w><expan><abbr>Sex</abbr><ex>tus</ex></expan></w> <g ref=\"#interpunct\">·</g> <w>Clod<unclear>i</unclear></w> <gap reason=\"lost\" extent=\"unknown\" unit=\"character\"/>\n",
      "                </ab>\n",
      "            </div>\n",
      "            \n",
      "\n"
     ]
    }
   ],
   "source": [
    "print(doc.editions()[0].xml_str)"
   ]
  },
  {
   "cell_type": "code",
   "execution_count": 32,
   "id": "fe682ca3-429d-46b0-a2e0-799674a89cff",
   "metadata": {},
   "outputs": [
    {
     "name": "stdout",
     "output_type": "stream",
     "text": [
      "\n",
      "\n"
     ]
    }
   ],
   "source": [
    "print_items(doc.ids)"
   ]
  },
  {
   "cell_type": "code",
   "execution_count": 33,
   "id": "e095ebd6-c56a-4dd9-9d34-702c8394c78f",
   "metadata": {},
   "outputs": [
    {
     "name": "stdout",
     "output_type": "stream",
     "text": [
      "\n",
      "- ADUAK\n",
      "- ADUAU\n",
      "- ADUAe\n",
      "- ADUAo\n",
      "- ADUAy\n",
      "- ADUAΙ\n",
      "- ADUAΤ\n",
      "- ADUAε\n",
      "- ADUAο\n",
      "- ADUBA\n",
      "- ADUBK\n",
      "- ADUBU\n",
      "- ADUBe\n",
      "- ADUBo\n",
      "- ADUBy\n",
      "- ADUBΙ\n",
      "- ADUBΤ\n",
      "- ADUBε\n",
      "- ADUBο\n",
      "- ADUCA\n"
     ]
    }
   ],
   "source": [
    "doc.set_ids()\n",
    "print_items(doc.ids)"
   ]
  },
  {
   "cell_type": "code",
   "execution_count": 34,
   "id": "25081ddb-a9d7-46c5-a3c3-e67a442b5101",
   "metadata": {},
   "outputs": [
    {
     "name": "stdout",
     "output_type": "stream",
     "text": [
      "<div xmlns=\"http://www.tei-c.org/ns/1.0\" xmlns:xi=\"http://www.w3.org/2001/XInclude\" type=\"edition\" xml:space=\"preserve\" xml:lang=\"la\">\n",
      "                <ab>\n",
      "                    <lb n=\"1\" xml:id=\"ADUAK\"/><w xml:id=\"ADUAU\"><expan xml:id=\"ADUAe\"><abbr xml:id=\"ADUAo\">M</abbr><ex xml:id=\"ADUAy\">arcus</ex></expan></w> <g ref=\"#interpunct\" xml:id=\"ADUAΙ\">·</g> <w xml:id=\"ADUAΤ\">Cornelius</w> <g ref=\"#interpunct\" xml:id=\"ADUAε\">·</g> <w xml:id=\"ADUAο\"><unclear xml:id=\"ADUBA\">Res</unclear></w> <gap reason=\"lost\" extent=\"unknown\" unit=\"character\" xml:id=\"ADUBK\"/>\n",
      "                    <lb n=\"2\" xml:id=\"ADUBU\"/><w xml:id=\"ADUBe\"><expan xml:id=\"ADUBo\"><abbr xml:id=\"ADUBy\">Sex</abbr><ex xml:id=\"ADUBΙ\">tus</ex></expan></w> <g ref=\"#interpunct\" xml:id=\"ADUBΤ\">·</g> <w xml:id=\"ADUBε\">Clod<unclear xml:id=\"ADUBο\">i</unclear></w> <gap reason=\"lost\" extent=\"unknown\" unit=\"character\" xml:id=\"ADUCA\"/>\n",
      "                </ab>\n",
      "            </div>\n",
      "            \n",
      "\n"
     ]
    }
   ],
   "source": [
    "print(doc.editions()[0].xml_str)\n",
    "      "
   ]
  }
 ],
 "metadata": {
  "kernelspec": {
   "display_name": "Python 3 (ipykernel)",
   "language": "python",
   "name": "python3"
  },
  "language_info": {
   "codemirror_mode": {
    "name": "ipython",
    "version": 3
   },
   "file_extension": ".py",
   "mimetype": "text/x-python",
   "name": "python",
   "nbconvert_exporter": "python",
   "pygments_lexer": "ipython3",
   "version": "3.9.18"
  }
 },
 "nbformat": 4,
 "nbformat_minor": 5
}
