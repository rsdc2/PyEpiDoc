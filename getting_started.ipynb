{
 "cells": [
  {
   "cell_type": "markdown",
   "id": "8f0ae79e-31c1-4bbb-8301-b0835f578b77",
   "metadata": {},
   "source": [
    "# Getting started with PyEpiDoc"
   ]
  },
  {
   "cell_type": "markdown",
   "id": "79221d51-17ef-4ba0-82eb-0b3936e25c80",
   "metadata": {},
   "source": [
    "## Loading an EpiDoc file and accessing text"
   ]
  },
  {
   "cell_type": "code",
   "execution_count": 1,
   "id": "e6a7b51b-14a3-46ce-b483-1c4891eda530",
   "metadata": {},
   "outputs": [],
   "source": [
    "# Load the API\n",
    "from pyepidoc import EpiDoc, EpiDocCorpus\n",
    "from pyepidoc.shared.display import show_list"
   ]
  },
  {
   "cell_type": "code",
   "execution_count": 2,
   "id": "6bf43c5e-7866-434e-956e-6976effeab29",
   "metadata": {},
   "outputs": [],
   "source": [
    "# Load an EpiDoc file without validation\n",
    "doc = EpiDoc('examples/ISic000001_tokenized.xml')"
   ]
  },
  {
   "cell_type": "code",
   "execution_count": 3,
   "id": "1b7bfb08-8bde-4a8b-8d67-4a802cd96e91",
   "metadata": {},
   "outputs": [
    {
     "name": "stderr",
     "output_type": "stream",
     "text": [
      "RNG internal error trying to compile notAllowed\n",
      "RNG internal error trying to compile notAllowed\n",
      "RNG internal error trying to compile notAllowed\n",
      "RNG internal error trying to compile notAllowed\n",
      "RNG internal error trying to compile notAllowed\n",
      "RNG internal error trying to compile notAllowed\n",
      "RNG internal error trying to compile notAllowed\n",
      "RNG internal error trying to compile notAllowed\n",
      "RNG internal error trying to compile notAllowed\n",
      "RNG internal error trying to compile notAllowed\n",
      "RNG internal error trying to compile notAllowed\n",
      "RNG internal error trying to compile notAllowed\n",
      "RNG internal error trying to compile notAllowed\n",
      "RNG internal error trying to compile notAllowed\n",
      "RNG internal error trying to compile notAllowed\n",
      "RNG internal error trying to compile notAllowed\n",
      "RNG internal error trying to compile notAllowed\n",
      "RNG internal error trying to compile notAllowed\n",
      "RNG internal error trying to compile notAllowed\n",
      "RNG internal error trying to compile notAllowed\n",
      "RNG internal error trying to compile notAllowed\n",
      "RNG internal error trying to compile notAllowed\n",
      "RNG internal error trying to compile notAllowed\n",
      "RNG internal error trying to compile notAllowed\n",
      "RNG internal error trying to compile not"
     ]
    },
    {
     "name": "stdout",
     "output_type": "stream",
     "text": [
      "examples/ISic000001_tokenized.xml is a valid EpiDoc file\n"
     ]
    },
    {
     "name": "stderr",
     "output_type": "stream",
     "text": [
      "Allowed\n",
      "RNG internal error trying to compile notAllowed\n",
      "RNG internal error trying to compile notAllowed\n",
      "RNG internal error trying to compile notAllowed\n",
      "RNG internal error trying to compile notAllowed\n",
      "RNG internal error trying to compile notAllowed\n",
      "RNG internal error trying to compile notAllowed\n",
      "RNG internal error trying to compile notAllowed\n",
      "RNG internal error trying to compile notAllowed\n",
      "RNG internal error trying to compile notAllowed\n",
      "RNG internal error trying to compile notAllowed\n",
      "RNG internal error trying to compile notAllowed\n",
      "RNG internal error trying to compile notAllowed\n",
      "RNG internal error trying to compile notAllowed\n",
      "RNG internal error trying to compile notAllowed\n",
      "RNG internal error trying to compile notAllowed\n",
      "RNG internal error trying to compile notAllowed\n",
      "RNG internal error trying to compile notAllowed\n",
      "RNG internal error trying to compile notAllowed\n",
      "RNG internal error trying to compile notAllowed\n",
      "RNG internal error trying to compile notAllowed\n",
      "RNG internal error trying to compile notAllowed\n",
      "RNG internal error trying to compile notAllowed\n",
      "RNG internal error trying to compile notAllowed\n",
      "RNG internal error trying to compile notAllowed\n",
      "RNG internal error trying to compile notAllowed\n",
      "RNG internal error trying to compile notAllowed\n",
      "RNG internal error trying to compile notAllowed\n",
      "RNG internal error trying to compile notAllowed\n",
      "RNG internal error trying to compile notAllowed\n",
      "RNG internal error trying to compile notAllowed\n",
      "RNG internal error trying to compile notAllowed\n",
      "RNG internal error trying to compile notAllowed\n",
      "RNG internal error trying to compile notAllowed\n",
      "RNG internal error trying to compile notAllowed\n",
      "RNG internal error trying to compile notAllowed\n",
      "RNG internal error trying to compile notAllowed\n",
      "RNG internal error trying to compile notAllowed\n",
      "RNG internal error trying to compile notAllowed\n",
      "RNG internal error trying to compile notAllowed\n",
      "RNG internal error trying to compile notAllowed\n",
      "RNG internal error trying to compile notAllowed\n",
      "RNG internal error trying to compile notAllowed\n",
      "RNG internal error trying to compile notAllowed\n",
      "RNG internal error trying to compile notAllowed\n",
      "RNG internal error trying to compile notAllowed\n",
      "RNG internal error trying to compile notAllowed\n",
      "RNG internal error trying to compile notAllowed\n",
      "RNG internal error trying to compile notAllowed\n",
      "RNG internal error trying to compile notAllowed\n",
      "RNG internal error trying to compile notAllowed\n",
      "RNG internal error trying to compile notAllowed\n",
      "RNG internal error trying to compile notAllowed\n",
      "RNG internal error trying to compile notAllowed\n",
      "RNG internal error trying to compile notAllowed\n",
      "RNG internal error trying to compile notAllowed\n",
      "RNG internal error trying to compile notAllowed\n",
      "RNG internal error trying to compile notAllowed\n",
      "RNG internal error trying to compile notAllowed\n",
      "RNG internal error trying to compile notAllowed\n",
      "RNG internal error trying to compile notAllowed\n",
      "RNG internal error trying to compile notAllowed\n",
      "RNG internal error trying to compile notAllowed\n",
      "RNG internal error trying to compile notAllowed\n",
      "RNG internal error trying to compile notAllowed\n",
      "RNG internal error trying to compile notAllowed\n",
      "RNG internal error trying to compile notAllowed\n",
      "RNG internal error trying to compile notAllowed\n",
      "RNG internal error trying to compile notAllowed\n",
      "RNG internal error trying to compile notAllowed\n",
      "RNG internal error trying to compile notAllowed\n",
      "RNG internal error trying to compile notAllowed\n",
      "RNG internal error trying to compile notAllowed\n",
      "RNG internal error trying to compile notAllowed\n",
      "RNG internal error trying to compile notAllowed\n",
      "RNG internal error trying to compile notAllowed\n",
      "RNG internal error trying to compile notAllowed\n",
      "RNG internal error trying to compile notAllowed\n",
      "RNG internal error trying to compile notAllowed\n",
      "RNG internal error trying to compile notAllowed\n",
      "RNG internal error trying to compile notAllowed\n",
      "RNG internal error trying to compile notAllowed\n",
      "RNG internal error trying to compile notAllowed\n",
      "RNG internal error trying to compile notAllowed\n",
      "RNG internal error trying to compile notAllowed\n",
      "RNG internal error trying to compile notAllowed\n",
      "RNG internal error trying to compile notAllowed\n",
      "RNG internal error trying to compile notAllowed\n",
      "RNG internal error trying to compile notAllowed\n",
      "RNG internal error trying to compile notAllowed\n",
      "RNG internal error trying to compile notAllowed\n",
      "RNG internal error trying to compile notAllowed\n",
      "RNG internal error trying to compile notAllowed\n",
      "RNG internal error trying to compile notAllowed\n",
      "RNG internal error trying to compile notAllowed\n",
      "RNG internal error trying to compile notAllowed\n",
      "RNG internal error trying to compile notAllowed\n",
      "RNG internal error trying to compile notAllowed\n",
      "RNG internal error trying to compile notAllowed\n",
      "RNG internal error trying to compile notAllowed\n",
      "RNG internal error trying to compile notAllowed\n",
      "RNG internal error trying to compile notAllowed\n",
      "RNG internal error trying to compile notAllowed\n",
      "RNG internal error trying to compile notAllowed\n",
      "RNG internal error trying to compile notAllowed\n",
      "RNG internal error trying to compile notAllowed\n",
      "RNG internal error trying to compile notAllowed\n",
      "RNG internal error trying to compile notAllowed\n",
      "RNG internal error trying to compile notAllowed\n",
      "RNG internal error trying to compile notAllowed\n",
      "RNG internal error trying to compile notAllowed\n",
      "RNG internal error trying to compile notAllowed\n",
      "RNG internal error trying to compile notAllowed\n",
      "RNG internal error trying to compile notAllowed\n",
      "RNG internal error trying to compile notAllowed\n",
      "RNG internal error trying to compile notAllowed\n",
      "RNG internal error trying to compile notAllowed\n",
      "RNG internal error trying to compile notAllowed\n",
      "RNG internal error trying to compile notAllowed\n",
      "RNG internal error trying to compile notAllowed\n",
      "RNG internal error trying to compile notAllowed\n",
      "RNG internal error trying to compile notAllowed\n",
      "RNG internal error trying to compile notAllowed\n",
      "RNG internal error trying to compile notAllowed\n",
      "RNG internal error trying to compile notAllowed\n",
      "RNG internal error trying to compile notAllowed\n",
      "RNG internal error trying to compile notAllowed\n",
      "RNG internal error trying to compile notAllowed\n",
      "RNG internal error trying to compile notAllowed\n",
      "RNG internal error trying to compile notAllowed\n",
      "RNG internal error trying to compile notAllowed\n",
      "RNG internal error trying to compile notAllowed\n",
      "RNG internal error trying to compile notAllowed\n",
      "RNG internal error trying to compile notAllowed\n",
      "RNG internal error trying to compile notAllowed\n",
      "RNG internal error trying to compile notAllowed\n",
      "RNG internal error trying to compile notAllowed\n",
      "RNG internal error trying to compile notAllowed\n",
      "RNG internal error trying to compile notAllowed\n",
      "RNG internal error trying to compile notAllowed\n",
      "RNG internal error trying to compile notAllowed\n",
      "RNG internal error trying to compile notAllowed\n",
      "RNG internal error trying to compile notAllowed\n",
      "RNG internal error trying to compile notAllowed\n",
      "RNG internal error trying to compile notAllowed\n",
      "RNG internal error trying to compile notAllowed\n",
      "RNG internal error trying to compile notAllowed\n",
      "RNG internal error trying to compile notAllowed\n",
      "RNG internal error trying to compile notAllowed\n",
      "RNG internal error trying to compile notAllowed\n",
      "RNG internal error trying to compile notAllowed\n",
      "RNG internal error trying to compile notAllowed\n",
      "RNG internal error trying to compile notAllowed\n",
      "RNG internal error trying to compile notAllowed\n",
      "RNG internal error trying to compile notAllowed\n",
      "RNG internal error trying to compile notAllowed\n",
      "RNG internal error trying to compile notAllowed\n",
      "RNG internal error trying to compile notAllowed\n",
      "RNG internal error trying to compile notAllowed\n",
      "RNG internal error trying to compile notAllowed\n",
      "RNG internal error trying to compile notAllowed\n",
      "RNG internal error trying to compile notAllowed\n",
      "RNG internal error trying to compile notAllowed\n",
      "RNG internal error trying to compile notAllowed\n",
      "RNG internal error trying to compile notAllowed\n",
      "RNG internal error trying to compile notAllowed\n",
      "RNG internal error trying to compile notAllowed\n",
      "RNG internal error trying to compile notAllowed\n",
      "RNG internal error trying to compile notAllowed\n",
      "RNG internal error trying to compile notAllowed\n",
      "RNG internal error trying to compile notAllowed\n",
      "RNG internal error trying to compile notAllowed\n",
      "RNG internal error trying to compile notAllowed\n",
      "RNG internal error trying to compile notAllowed\n",
      "RNG internal error trying to compile notAllowed\n",
      "RNG internal error trying to compile notAllowed\n",
      "RNG internal error trying to compile notAllowed\n",
      "RNG internal error trying to compile notAllowed\n",
      "RNG internal error trying to compile notAllowed\n",
      "RNG internal error trying to compile notAllowed\n",
      "RNG internal error trying to compile notAllowed\n",
      "RNG internal error trying to compile notAllowed\n",
      "RNG internal error trying to compile notAllowed\n",
      "RNG internal error trying to compile notAllowed\n",
      "RNG internal error trying to compile notAllowed\n",
      "RNG internal error trying to compile notAllowed\n",
      "RNG internal error trying to compile notAllowed\n",
      "RNG internal error trying to compile notAllowed\n",
      "RNG internal error trying to compile notAllowed\n",
      "RNG internal error trying to compile notAllowed\n",
      "RNG internal error trying to compile notAllowed\n",
      "RNG internal error trying to compile notAllowed\n",
      "RNG internal error trying to compile notAllowed\n",
      "RNG internal error trying to compile notAllowed\n",
      "RNG internal error trying to compile notAllowed\n",
      "RNG internal error trying to compile notAllowed\n",
      "RNG internal error trying to compile notAllowed\n",
      "RNG internal error trying to compile notAllowed\n",
      "RNG internal error trying to compile notAllowed\n",
      "RNG internal error trying to compile notAllowed\n",
      "RNG internal error trying to compile notAllowed\n",
      "RNG internal error trying to compile notAllowed\n",
      "RNG internal error trying to compile notAllowed\n",
      "RNG internal error trying to compile notAllowed\n",
      "RNG internal error trying to compile notAllowed\n",
      "RNG internal error trying to compile notAllowed\n",
      "RNG internal error trying to compile notAllowed\n",
      "RNG internal error trying to compile notAllowed\n",
      "RNG internal error trying to compile notAllowed\n",
      "RNG internal error trying to compile notAllowed\n",
      "RNG internal error trying to compile notAllowed\n",
      "RNG internal error trying to compile notAllowed\n",
      "RNG internal error trying to compile notAllowed\n",
      "RNG internal error trying to compile notAllowed\n",
      "RNG internal error trying to compile notAllowed\n",
      "RNG internal error trying to compile notAllowed\n",
      "RNG internal error trying to compile notAllowed\n",
      "RNG internal error trying to compile notAllowed\n",
      "RNG internal error trying to compile notAllowed\n",
      "RNG internal error trying to compile notAllowed\n",
      "RNG internal error trying to compile notAllowed\n",
      "RNG internal error trying to compile notAllowed\n",
      "RNG internal error trying to compile notAllowed\n",
      "RNG internal error trying to compile notAllowed\n",
      "RNG internal error trying to compile notAllowed\n",
      "RNG internal error trying to compile notAllowed\n",
      "RNG internal error trying to compile notAllowed\n",
      "RNG internal error trying to compile notAllowed\n",
      "RNG internal error trying to compile notAllowed\n",
      "RNG internal error trying to compile notAllowed\n",
      "RNG internal error trying to compile notAllowed\n",
      "RNG internal error trying to compile notAllowed\n",
      "RNG internal error trying to compile notAllowed\n",
      "RNG internal error trying to compile notAllowed\n",
      "RNG internal error trying to compile notAllowed\n",
      "RNG internal error trying to compile notAllowed\n",
      "RNG internal error trying to compile notAllowed\n",
      "RNG internal error trying to compile notAllowed\n",
      "RNG internal error trying to compile notAllowed\n",
      "RNG internal error trying to compile notAllowed\n",
      "RNG internal error trying to compile notAllowed\n",
      "RNG internal error trying to compile notAllowed\n",
      "RNG internal error trying to compile notAllowed\n",
      "RNG internal error trying to compile notAllowed\n",
      "RNG internal error trying to compile notAllowed\n",
      "RNG internal error trying to compile notAllowed\n",
      "RNG internal error trying to compile notAllowed\n",
      "RNG internal error trying to compile notAllowed\n",
      "RNG internal error trying to compile notAllowed\n",
      "RNG internal error trying to compile notAllowed\n",
      "RNG internal error trying to compile notAllowed\n",
      "RNG internal error trying to compile notAllowed\n",
      "RNG internal error trying to compile notAllowed\n",
      "RNG internal error trying to compile notAllowed\n",
      "RNG internal error trying to compile notAllowed\n",
      "RNG internal error trying to compile notAllowed\n",
      "RNG internal error trying to compile notAllowed\n",
      "RNG internal error trying to compile notAllowed\n",
      "RNG internal error trying to compile notAllowed\n",
      "RNG internal error trying to compile notAllowed\n",
      "RNG internal error trying to compile notAllowed\n"
     ]
    }
   ],
   "source": [
    "# Load an EpiDoc file and validate\n",
    "doc2 = EpiDoc('examples/ISic000001_tokenized.xml', validate_on_load=True)"
   ]
  },
  {
   "cell_type": "code",
   "execution_count": 4,
   "id": "b849433d-c354-4ced-b617-aa9ffb091ad8",
   "metadata": {},
   "outputs": [
    {
     "name": "stdout",
     "output_type": "stream",
     "text": [
      "examples/ISic000001_tokenized.xml is valid\n"
     ]
    }
   ],
   "source": [
    "# Print validation result\n",
    "print(doc2.validation_result)"
   ]
  },
  {
   "cell_type": "code",
   "execution_count": 5,
   "id": "099cd0bb-ad90-4cdf-bde3-e435a9e3994e",
   "metadata": {},
   "outputs": [
    {
     "name": "stdout",
     "output_type": "stream",
     "text": [
      "Dis manibus Zethi vixit annis VI\n"
     ]
    }
   ],
   "source": [
    "# Print normalized tokens as a string\n",
    "print(doc.text_normalized)"
   ]
  },
  {
   "cell_type": "code",
   "execution_count": 6,
   "id": "ffc15e1f-aa65-4f87-87a3-9277fa3af849",
   "metadata": {},
   "outputs": [
    {
     "name": "stdout",
     "output_type": "stream",
     "text": [
      "\n",
      "Dis · man(ibus)\n",
      " · Zethi\n",
      "vix(it) · a(nnis) · VI\n"
     ]
    }
   ],
   "source": [
    "# Print Leiden tokens as a string\n",
    "print(doc.text_leiden)"
   ]
  },
  {
   "cell_type": "code",
   "execution_count": 7,
   "id": "80e48fcf-3426-443e-8874-aa672a02c4cc",
   "metadata": {},
   "outputs": [
    {
     "name": "stdout",
     "output_type": "stream",
     "text": [
      " \n"
     ]
    }
   ],
   "source": [
    "# Print the translation text\n",
    "print(doc.translation_text)"
   ]
  },
  {
   "cell_type": "markdown",
   "id": "e6c6daec-c991-4b42-94cf-c198ac891e08",
   "metadata": {},
   "source": [
    "## Load a corpus"
   ]
  },
  {
   "cell_type": "code",
   "execution_count": 8,
   "id": "b311cee4-c75c-470e-ae7a-2d55acc8dd6d",
   "metadata": {},
   "outputs": [],
   "source": [
    "# Load the corpus\n",
    "corpus = EpiDocCorpus('example_corpus')"
   ]
  },
  {
   "cell_type": "code",
   "execution_count": 9,
   "id": "35e770fa-c1fd-4ea0-96f6-c61e00909a25",
   "metadata": {},
   "outputs": [
    {
     "name": "stdout",
     "output_type": "stream",
     "text": [
      "70\n"
     ]
    }
   ],
   "source": [
    "# Count the documents\n",
    "print(corpus.doc_count)"
   ]
  },
  {
   "cell_type": "code",
   "execution_count": 11,
   "id": "e0c1c797-59c2-4762-87f9-b128562fc778",
   "metadata": {},
   "outputs": [
    {
     "name": "stdout",
     "output_type": "stream",
     "text": [
      "\n",
      "- ISic000001\n",
      "- ISic000002\n",
      "- ISic000003\n",
      "- ISic000004\n",
      "- ISic000005\n",
      "- ISic000006\n",
      "- ISic000007\n",
      "- ISic000008\n",
      "- ISic000009\n",
      "- ISic000010\n",
      "- ISic000800\n",
      "- ISic000801\n",
      "- ISic000802\n",
      "- ISic000803\n",
      "- ISic000804\n",
      "- ISic000805\n",
      "- ISic000806\n",
      "- ISic000807\n",
      "- ISic000809\n",
      "- ISic000810\n",
      "- ISic000811\n",
      "- ISic000812\n",
      "- ISic000813\n",
      "- ISic000814\n",
      "- ISic000815\n",
      "- ISic000816\n",
      "- ISic000817\n",
      "- ISic000818\n",
      "- ISic000819\n",
      "- ISic000820\n",
      "- ISic000821\n",
      "- ISic000822\n",
      "- ISic000823\n",
      "- ISic000824\n",
      "- ISic000825\n",
      "- ISic000826\n",
      "- ISic000827\n",
      "- ISic000828\n",
      "- ISic000829\n",
      "- ISic000830\n",
      "- ISic000831\n",
      "- ISic000832\n",
      "- ISic000833\n",
      "- ISic000834\n",
      "- ISic000835\n",
      "- ISic000836\n",
      "- ISic000837\n",
      "- ISic000838\n",
      "- ISic000839\n",
      "- ISic000840\n",
      "- ISic000841\n",
      "- ISic000842\n",
      "- ISic000843\n",
      "- ISic000844\n",
      "- ISic000845\n",
      "- ISic000846\n",
      "- ISic000847\n",
      "- ISic000848\n",
      "- ISic000849\n",
      "- ISic000850\n",
      "- ISic000851\n",
      "- ISic000852\n",
      "- ISic000853\n",
      "- ISic000854\n",
      "- ISic000855\n",
      "- ISic000856\n",
      "- ISic000857\n",
      "- ISic000858\n",
      "- ISic000859\n",
      "- ISic000860\n"
     ]
    }
   ],
   "source": [
    "# Get the ids of the documents in the corpus\n",
    "print(show_list(corpus.ids))"
   ]
  },
  {
   "cell_type": "markdown",
   "id": "94279542-3270-4f12-a92b-6feb1c5e3490",
   "metadata": {},
   "source": [
    "## Filter the corpus"
   ]
  },
  {
   "cell_type": "code",
   "execution_count": null,
   "id": "d521994f-f378-454e-9b60-50a538437b8a",
   "metadata": {},
   "outputs": [],
   "source": [
    "# Find all the funerary "
   ]
  }
 ],
 "metadata": {
  "kernelspec": {
   "display_name": "Python 3 (ipykernel)",
   "language": "python",
   "name": "python3"
  },
  "language_info": {
   "codemirror_mode": {
    "name": "ipython",
    "version": 3
   },
   "file_extension": ".py",
   "mimetype": "text/x-python",
   "name": "python",
   "nbconvert_exporter": "python",
   "pygments_lexer": "ipython3",
   "version": "3.9.18"
  }
 },
 "nbformat": 4,
 "nbformat_minor": 5
}
