{
 "cells": [
  {
   "cell_type": "markdown",
   "id": "8f0ae79e-31c1-4bbb-8301-b0835f578b77",
   "metadata": {},
   "source": [
    "# Getting started with PyEpiDoc"
   ]
  },
  {
   "cell_type": "markdown",
   "id": "79221d51-17ef-4ba0-82eb-0b3936e25c80",
   "metadata": {},
   "source": [
    "## Loading an EpiDoc file and accessing text"
   ]
  },
  {
   "cell_type": "code",
   "execution_count": 1,
   "id": "e6a7b51b-14a3-46ce-b483-1c4891eda530",
   "metadata": {},
   "outputs": [],
   "source": [
    "# Load the API and helper functions\n",
    "from pyepidoc import (\n",
    "    EpiDoc, \n",
    "    EpiDocCorpus, \n",
    "    print_items,\n",
    "    lang,\n",
    "    doc_id,\n",
    "    owner_doc\n",
    ")\n",
    "\n",
    "# from pyepidoc.epidoc.dom import owner_doc"
   ]
  },
  {
   "cell_type": "code",
   "execution_count": 2,
   "id": "6bf43c5e-7866-434e-956e-6976effeab29",
   "metadata": {},
   "outputs": [],
   "source": [
    "# Load an EpiDoc file without validation\n",
    "doc = EpiDoc('examples/ISic000001_tokenized.xml')"
   ]
  },
  {
   "cell_type": "code",
   "execution_count": 3,
   "id": "1b7bfb08-8bde-4a8b-8d67-4a802cd96e91",
   "metadata": {},
   "outputs": [
    {
     "name": "stderr",
     "output_type": "stream",
     "text": [
      "RNG internal error trying to compile notAllowed\n",
      "RNG internal error trying to compile notAllowed\n",
      "RNG internal error trying to compile notAllowed\n",
      "RNG internal error trying to compile notAllowed\n",
      "RNG internal error trying to compile notAllowed\n",
      "RNG internal error trying to compile notAllowed\n",
      "RNG internal error trying to compile notAllowed\n",
      "RNG internal error trying to compile notAllowed\n",
      "RNG internal error trying to compile notAllowed\n",
      "RNG internal error trying to compile notAllowed\n",
      "RNG internal error trying to compile notAllowed\n",
      "RNG internal error trying to compile notAllowed\n",
      "RNG internal error trying to compile notAllowed\n",
      "RNG internal error trying to compile notAllowed\n",
      "RNG internal error trying to compile notAllowed\n",
      "RNG internal error trying to compile notAllowed\n",
      "RNG internal error trying to compile notAllowed\n",
      "RNG internal error trying to compile notAllowed\n",
      "RNG internal error trying to compile notAllowed\n",
      "RNG internal error trying to compile notAllowed\n",
      "RNG internal error trying to compile notAllowed\n",
      "RNG internal error trying to compile notAllowed\n",
      "RNG internal error trying to compile notAllowed\n",
      "RNG internal error trying to compile notAllowed\n",
      "RNG internal error trying to compile notAllowed\n",
      "RNG internal error trying to compile notAllowed\n",
      "RNG internal error trying to compile notAllowed\n",
      "RNG internal error trying to compile notAllowed\n",
      "RNG internal error trying to compile notAllowed\n",
      "RNG internal error trying to compile notAllowed\n",
      "RNG internal error trying to compile notAllowed\n",
      "RNG internal error trying to compile notAllowed\n",
      "RNG internal error trying to compile notAllowed\n",
      "RNG internal error trying to compile notAllowed\n",
      "RNG internal error trying to compile notAllowed\n",
      "RNG internal error trying to compile notAllowed\n",
      "RNG internal error trying to compile notAllowed\n",
      "RNG internal error trying to compile notAllowed\n",
      "RNG internal error trying to compile notAllowed\n",
      "RNG internal error trying to compile notAllowed\n",
      "RNG internal error trying to compile notAllowed\n",
      "RNG internal error trying to compile notAllowed\n",
      "RNG internal error trying to compile notAllowed\n",
      "RNG internal error trying to compile notAllowed\n",
      "RNG internal error trying to compile notAllowed\n",
      "RNG internal error trying to compile notAllowed\n",
      "RNG internal error trying to compile notAllowed\n",
      "RNG internal error trying to compile notAllowed\n",
      "RNG internal error trying to compile notAllowed\n",
      "RNG internal error trying to compile notAllowed\n",
      "RNG internal error trying to compile notAllowed\n",
      "RNG internal error trying to compile notAllowed\n",
      "RNG internal error trying to compile notAllowed\n",
      "RNG internal error trying to compile notAllowed\n",
      "RNG internal error trying to compile notAllowed\n",
      "RNG internal error trying to compile notAllowed\n",
      "RNG internal error trying to compile notAllowed\n",
      "RNG internal error trying to compile notAllowed\n",
      "RNG internal error trying to compile notAllowed\n",
      "RNG internal error trying to compile notAllowed\n",
      "RNG internal error trying to compile notAllowed\n",
      "RNG internal error trying to compile notAllowed\n",
      "RNG internal error trying to compile notAllowed\n",
      "RNG internal error trying to compile notAllowed\n",
      "RNG internal error trying to compile notAllowed\n",
      "RNG internal error trying to compile notAllowed\n",
      "RNG internal error trying to compile notAllowed\n",
      "RNG internal error trying to compile notAllowed\n",
      "RNG internal error trying to compile notAllowed\n",
      "RNG internal error trying to compile notAllowed\n",
      "RNG internal error trying to compile notAllowed\n",
      "RNG internal error trying to compile notAllowed\n",
      "RNG internal error trying to compile notAllowed\n",
      "RNG internal error trying to compile notAllowed\n",
      "RNG internal error trying to compile notAllowed\n",
      "RNG internal error trying to compile notAllowed\n",
      "RNG internal error trying to compile notAllowed\n",
      "RNG internal error trying to compile notAllowed\n",
      "RNG internal error trying to compile notAllowed\n",
      "RNG internal error trying to compile notAllowed\n",
      "RNG internal error trying to compile notAllowed\n",
      "RNG internal error trying to compile notAllowed\n",
      "RNG internal error trying to compile notAllowed\n",
      "RNG internal error trying to compile notAllowed\n",
      "RNG internal error trying to compile notAllowed\n",
      "RNG internal error trying to compile notAllowed\n",
      "RNG internal error trying to compile notAllowed\n",
      "RNG internal error trying to compile notAllowed\n",
      "RNG internal error trying to compile notAllowed\n",
      "RNG internal error trying to compile notAllowed\n",
      "RNG internal error trying to compile notAllowed\n",
      "RNG internal error trying to compile notAllowed\n",
      "RNG internal error trying to compile notAllowed\n",
      "RNG internal error trying to compile notAllowed\n",
      "RNG internal error trying to compile notAllowed\n",
      "RNG internal error trying to compile notAllowed\n",
      "RNG internal error trying to compile notAllowed\n",
      "RNG internal error trying to compile notAllowed\n",
      "RNG internal error trying to compile notAllowed\n",
      "RNG internal error trying to compile notAllowed\n",
      "RNG internal error trying to compile notAllowed\n",
      "RNG internal error trying to compile notAllowed\n",
      "RNG internal error trying to compile notAllowed\n",
      "RNG internal error trying to compile notAllowed\n",
      "RNG internal error trying to compile notAllowed\n",
      "RNG internal error trying to compile notAllowed\n",
      "RNG internal error trying to compile notAllowed\n",
      "RNG internal error trying to compile notAllowed\n",
      "RNG internal error trying to compile notAllowed\n",
      "RNG internal error trying to compile notAllowed\n",
      "RNG internal error trying to compile notAllowed\n",
      "RNG internal error trying to compile notAllowed\n",
      "RNG internal error trying to compile notAllowed\n",
      "RNG internal error trying to compile notAllowed\n",
      "RNG internal error trying to compile notAllowed\n",
      "RNG internal error trying to compile notAllowed\n",
      "RNG internal error trying to compile notAllowed\n",
      "RNG internal error trying to compile notAllowed\n",
      "RNG internal error trying to compile notAllowed\n",
      "RNG internal error trying to compile notAllowed\n",
      "RNG internal error trying to compile notAllowed\n",
      "RNG internal error trying to compile notAllowed\n",
      "RNG internal error trying to compile notAllowed\n",
      "RNG internal error trying to compile notAllowed\n",
      "RNG internal error trying to compile notAllowed\n",
      "RNG internal error trying to compile notAllowed\n",
      "RNG internal error trying to compile notAllowed\n",
      "RNG internal error trying to compile notAllowed\n"
     ]
    },
    {
     "name": "stdout",
     "output_type": "stream",
     "text": [
      "examples/ISic000001_tokenized.xml is a valid EpiDoc file\n"
     ]
    },
    {
     "name": "stderr",
     "output_type": "stream",
     "text": [
      "RNG internal error trying to compile notAllowed\n",
      "RNG internal error trying to compile notAllowed\n",
      "RNG internal error trying to compile notAllowed\n",
      "RNG internal error trying to compile notAllowed\n",
      "RNG internal error trying to compile notAllowed\n",
      "RNG internal error trying to compile notAllowed\n",
      "RNG internal error trying to compile notAllowed\n",
      "RNG internal error trying to compile notAllowed\n",
      "RNG internal error trying to compile notAllowed\n",
      "RNG internal error trying to compile notAllowed\n",
      "RNG internal error trying to compile notAllowed\n",
      "RNG internal error trying to compile notAllowed\n",
      "RNG internal error trying to compile notAllowed\n",
      "RNG internal error trying to compile notAllowed\n",
      "RNG internal error trying to compile notAllowed\n",
      "RNG internal error trying to compile notAllowed\n",
      "RNG internal error trying to compile notAllowed\n",
      "RNG internal error trying to compile notAllowed\n",
      "RNG internal error trying to compile notAllowed\n",
      "RNG internal error trying to compile notAllowed\n",
      "RNG internal error trying to compile notAllowed\n",
      "RNG internal error trying to compile notAllowed\n",
      "RNG internal error trying to compile notAllowed\n",
      "RNG internal error trying to compile notAllowed\n",
      "RNG internal error trying to compile notAllowed\n",
      "RNG internal error trying to compile notAllowed\n",
      "RNG internal error trying to compile notAllowed\n",
      "RNG internal error trying to compile notAllowed\n",
      "RNG internal error trying to compile notAllowed\n",
      "RNG internal error trying to compile notAllowed\n",
      "RNG internal error trying to compile notAllowed\n",
      "RNG internal error trying to compile notAllowed\n",
      "RNG internal error trying to compile notAllowed\n",
      "RNG internal error trying to compile notAllowed\n",
      "RNG internal error trying to compile notAllowed\n",
      "RNG internal error trying to compile notAllowed\n",
      "RNG internal error trying to compile notAllowed\n",
      "RNG internal error trying to compile notAllowed\n",
      "RNG internal error trying to compile notAllowed\n",
      "RNG internal error trying to compile notAllowed\n",
      "RNG internal error trying to compile notAllowed\n",
      "RNG internal error trying to compile notAllowed\n",
      "RNG internal error trying to compile notAllowed\n",
      "RNG internal error trying to compile notAllowed\n",
      "RNG internal error trying to compile notAllowed\n",
      "RNG internal error trying to compile notAllowed\n",
      "RNG internal error trying to compile notAllowed\n",
      "RNG internal error trying to compile notAllowed\n",
      "RNG internal error trying to compile notAllowed\n",
      "RNG internal error trying to compile notAllowed\n",
      "RNG internal error trying to compile notAllowed\n",
      "RNG internal error trying to compile notAllowed\n",
      "RNG internal error trying to compile notAllowed\n",
      "RNG internal error trying to compile notAllowed\n",
      "RNG internal error trying to compile notAllowed\n",
      "RNG internal error trying to compile notAllowed\n",
      "RNG internal error trying to compile notAllowed\n",
      "RNG internal error trying to compile notAllowed\n",
      "RNG internal error trying to compile notAllowed\n",
      "RNG internal error trying to compile notAllowed\n",
      "RNG internal error trying to compile notAllowed\n",
      "RNG internal error trying to compile notAllowed\n",
      "RNG internal error trying to compile notAllowed\n",
      "RNG internal error trying to compile notAllowed\n",
      "RNG internal error trying to compile notAllowed\n",
      "RNG internal error trying to compile notAllowed\n",
      "RNG internal error trying to compile notAllowed\n",
      "RNG internal error trying to compile notAllowed\n",
      "RNG internal error trying to compile notAllowed\n",
      "RNG internal error trying to compile notAllowed\n",
      "RNG internal error trying to compile notAllowed\n",
      "RNG internal error trying to compile notAllowed\n",
      "RNG internal error trying to compile notAllowed\n",
      "RNG internal error trying to compile notAllowed\n",
      "RNG internal error trying to compile notAllowed\n",
      "RNG internal error trying to compile notAllowed\n",
      "RNG internal error trying to compile notAllowed\n",
      "RNG internal error trying to compile notAllowed\n",
      "RNG internal error trying to compile notAllowed\n",
      "RNG internal error trying to compile notAllowed\n",
      "RNG internal error trying to compile notAllowed\n",
      "RNG internal error trying to compile notAllowed\n",
      "RNG internal error trying to compile notAllowed\n",
      "RNG internal error trying to compile notAllowed\n",
      "RNG internal error trying to compile notAllowed\n",
      "RNG internal error trying to compile notAllowed\n",
      "RNG internal error trying to compile notAllowed\n",
      "RNG internal error trying to compile notAllowed\n",
      "RNG internal error trying to compile notAllowed\n",
      "RNG internal error trying to compile notAllowed\n",
      "RNG internal error trying to compile notAllowed\n",
      "RNG internal error trying to compile notAllowed\n",
      "RNG internal error trying to compile notAllowed\n",
      "RNG internal error trying to compile notAllowed\n",
      "RNG internal error trying to compile notAllowed\n",
      "RNG internal error trying to compile notAllowed\n",
      "RNG internal error trying to compile notAllowed\n",
      "RNG internal error trying to compile notAllowed\n",
      "RNG internal error trying to compile notAllowed\n",
      "RNG internal error trying to compile notAllowed\n",
      "RNG internal error trying to compile notAllowed\n",
      "RNG internal error trying to compile notAllowed\n",
      "RNG internal error trying to compile notAllowed\n",
      "RNG internal error trying to compile notAllowed\n",
      "RNG internal error trying to compile notAllowed\n",
      "RNG internal error trying to compile notAllowed\n",
      "RNG internal error trying to compile notAllowed\n",
      "RNG internal error trying to compile notAllowed\n",
      "RNG internal error trying to compile notAllowed\n",
      "RNG internal error trying to compile notAllowed\n",
      "RNG internal error trying to compile notAllowed\n",
      "RNG internal error trying to compile notAllowed\n",
      "RNG internal error trying to compile notAllowed\n",
      "RNG internal error trying to compile notAllowed\n",
      "RNG internal error trying to compile notAllowed\n",
      "RNG internal error trying to compile notAllowed\n",
      "RNG internal error trying to compile notAllowed\n",
      "RNG internal error trying to compile notAllowed\n",
      "RNG internal error trying to compile notAllowed\n",
      "RNG internal error trying to compile notAllowed\n",
      "RNG internal error trying to compile notAllowed\n",
      "RNG internal error trying to compile notAllowed\n",
      "RNG internal error trying to compile notAllowed\n",
      "RNG internal error trying to compile notAllowed\n",
      "RNG internal error trying to compile notAllowed\n",
      "RNG internal error trying to compile notAllowed\n",
      "RNG internal error trying to compile notAllowed\n",
      "RNG internal error trying to compile notAllowed\n",
      "RNG internal error trying to compile notAllowed\n",
      "RNG internal error trying to compile notAllowed\n",
      "RNG internal error trying to compile notAllowed\n",
      "RNG internal error trying to compile notAllowed\n",
      "RNG internal error trying to compile notAllowed\n",
      "RNG internal error trying to compile notAllowed\n",
      "RNG internal error trying to compile notAllowed\n",
      "RNG internal error trying to compile notAllowed\n",
      "RNG internal error trying to compile notAllowed\n",
      "RNG internal error trying to compile notAllowed\n",
      "RNG internal error trying to compile notAllowed\n",
      "RNG internal error trying to compile notAllowed\n",
      "RNG internal error trying to compile notAllowed\n",
      "RNG internal error trying to compile notAllowed\n",
      "RNG internal error trying to compile notAllowed\n",
      "RNG internal error trying to compile notAllowed\n",
      "RNG internal error trying to compile notAllowed\n",
      "RNG internal error trying to compile notAllowed\n",
      "RNG internal error trying to compile notAllowed\n",
      "RNG internal error trying to compile notAllowed\n",
      "RNG internal error trying to compile notAllowed\n",
      "RNG internal error trying to compile notAllowed\n",
      "RNG internal error trying to compile notAllowed\n",
      "RNG internal error trying to compile notAllowed\n",
      "RNG internal error trying to compile notAllowed\n",
      "RNG internal error trying to compile notAllowed\n",
      "RNG internal error trying to compile notAllowed\n",
      "RNG internal error trying to compile notAllowed\n",
      "RNG internal error trying to compile notAllowed\n"
     ]
    }
   ],
   "source": [
    "# Load an EpiDoc file and validate\n",
    "doc2 = EpiDoc('examples/ISic000001_tokenized.xml', validate_on_load=True)\n",
    "\n",
    "# NB This gives a message \"RNG internal error trying to compile notAllowed\", even if the file is valid, for reasons currently unknown to me"
   ]
  },
  {
   "cell_type": "code",
   "execution_count": 4,
   "id": "b849433d-c354-4ced-b617-aa9ffb091ad8",
   "metadata": {},
   "outputs": [
    {
     "name": "stdout",
     "output_type": "stream",
     "text": [
      "examples/ISic000001_tokenized.xml is valid\n"
     ]
    }
   ],
   "source": [
    "# Print validation result\n",
    "print(doc2.validation_result)"
   ]
  },
  {
   "cell_type": "code",
   "execution_count": 5,
   "id": "099cd0bb-ad90-4cdf-bde3-e435a9e3994e",
   "metadata": {},
   "outputs": [
    {
     "name": "stdout",
     "output_type": "stream",
     "text": [
      "Dis manibus Zethi vixit annis VI\n"
     ]
    }
   ],
   "source": [
    "# Print normalized tokens as a string\n",
    "print(doc.text_normalized)"
   ]
  },
  {
   "cell_type": "code",
   "execution_count": 6,
   "id": "ffc15e1f-aa65-4f87-87a3-9277fa3af849",
   "metadata": {},
   "outputs": [
    {
     "name": "stdout",
     "output_type": "stream",
     "text": [
      "\n",
      "Dis · man(ibus)\n",
      " · Zethi\n",
      "vix(it) · a(nnis) · VI\n"
     ]
    }
   ],
   "source": [
    "# Print Leiden tokens as a string\n",
    "print(doc.text_leiden)"
   ]
  },
  {
   "cell_type": "code",
   "execution_count": 7,
   "id": "80e48fcf-3426-443e-8874-aa672a02c4cc",
   "metadata": {},
   "outputs": [
    {
     "name": "stdout",
     "output_type": "stream",
     "text": [
      " \n"
     ]
    }
   ],
   "source": [
    "# Print the translation text\n",
    "print(doc.translation_text)"
   ]
  },
  {
   "cell_type": "markdown",
   "id": "cb4aa9ec-3ee3-47ed-9610-997ab11d335a",
   "metadata": {},
   "source": [
    "## See the XML"
   ]
  },
  {
   "cell_type": "code",
   "execution_count": 8,
   "id": "46ff9fb2-0f09-4446-bc4d-92d0c8e9dfe2",
   "metadata": {},
   "outputs": [
    {
     "name": "stdout",
     "output_type": "stream",
     "text": [
      "<?xml version=\"1.0\" encoding=\"UTF-8\"?>\n",
      "<?xml-model href=\"http://www.stoa.org/epidoc/schema/latest/tei-epidoc.rng\" type=\"application/xml\" schematypens=\"http://relaxng.org/ns/structure/1.0\"?>\n",
      "<?xml-model href=\"../schematron/ircyr-checking.sch\" schematypens=\"http://purl.oclc.org/dsdl/schematron\"?>\n",
      "<TEI xmlns=\"http://www.tei-c.org/ns/1.0\" xmlns:xi=\"http://www.w3.org/2001/XInclude\" xml:lang=\"en\">\n",
      "    <teiHeader>\n",
      "        <fileDesc>\n",
      "            <titleStmt>\n",
      "                <title>Funerary inscription of Zethus</title>\n",
      "                <editor ref=\"#JP\">Jonathan Prag</editor>\n",
      "                <principal ref=\"#JP\">Jonathan Prag</principal>\n",
      "                <funder>John Fell OUP Research Fund</funder>\n",
      "\t   <funder><ref target=\"https://cordis.europa.eu/project/id/885040\">ERC Advanced Grant no.885040</ref></funder>\n",
      "                <respStmt>\n",
      "                    <name xml:id=\"JP\" ref=\"http://orcid.org/0000-0003-3819-8537\">Jonathan Prag</name>\n",
      "                    <resp>original data collection and editing</resp>\n",
      "                </respStmt>\n",
      "                <respStmt>\n",
      "                    <name xml:id=\"JCu\" ref=\"http://orcid.org/0000-0002-6686-3728\">James Cummings</name>\n",
      "                    <resp>conversion to EpiDoc</resp>\n",
      "                </respStmt>\n",
      "                <respStmt>\n",
      "                    <name xml:id=\"JCh\" ref=\"http://orcid.org/0000-0001-6823-0265\">James Chartrand</name>\n",
      "                    <resp>site construction and encoding</resp>\n",
      "                </respStmt>\n",
      "                <respStmt>\n",
      "                    <name xml:id=\"VV\" ref=\"http://orcid.org/0000-0002-9695-0240\">Valeria Vitale</name>\n",
      "                    <resp>editing of geo data</resp>\n",
      "                </respStmt>\n",
      "                <respStmt>\n",
      "                    <name xml:id=\"MM\">Michael Metcalfe</name>\n",
      "                    <resp>museum data collection</resp>\n",
      "                </respStmt>\n",
      "\t   <respStmt>\n",
      "     \t       <name xml:id=\"SS\" ref=\"https://orcid.org/0000-0003-3914-9569\">Simona Stoyanova</name>\n",
      "     \t       <resp>standardisation of template and tidying up encoding</resp>\n",
      " \t   </respStmt>\n",
      "\t    <respStmt>\n",
      "                    <name xml:id=\"system\">system</name>\n",
      "                    <resp>automated or batch processes</resp>\n",
      "                </respStmt>\n",
      "            </titleStmt>\n",
      "            <publicationStmt>\n",
      "                <authority>I.Sicily</authority>\n",
      "                <idno type=\"filename\">ISic000001</idno>\n",
      "                <idno type=\"TM\">491696</idno>\n",
      "                <idno type=\"EDR\"/>\n",
      "                <idno type=\"EDH\"/>\n",
      "                <idno type=\"EDCS\">21900531</idno>\n",
      "                <idno type=\"PHI\"/>\n",
      "                <idno type=\"URI\">http://sicily.classics.ox.ac.uk/inscription/ISic000001</idno>\n",
      "                <idno type=\"DOI\" when=\"2020-12-17\">10.5281/zenodo.4333721</idno>\n",
      "                <availability>\n",
      "                    <licence target=\"http://creativecommons.org/licenses/by/4.0/\">Licensed under a Creative Commons-Attribution 4.0 licence</licence>\n",
      "                </availability>\n",
      "            </publicationStmt>\n",
      "            <sourceDesc>\n",
      "                <msDesc>\n",
      "                    <msIdentifier>\n",
      "                        <country>Italy</country>\n",
      "                        <region>Sicily</region>\n",
      "                        <settlement>Palermo</settlement>\n",
      "                        <repository role=\"museum\" ref=\"http://sicily.classics.ox.ac.uk/museum/064\">Museo Archeologico Regionale Antonino Salinas</repository>\n",
      "                        <idno type=\"inventory\">3501</idno>\n",
      "                        <altIdentifier>\n",
      "                            <settlement/>\n",
      "                            <repository/>\n",
      "                            <idno type=\"old\"/>\n",
      "                        </altIdentifier>\n",
      "                    </msIdentifier>\n",
      "                    <msContents>\n",
      "                        <textLang mainLang=\"la\">Latin</textLang>\n",
      "                    </msContents>\n",
      "                    <physDesc>\n",
      "                        <objectDesc>\n",
      "                            <supportDesc>\n",
      "                                <support><p>Marble plaque, employed as cover of a small sarcophagus</p>\n",
      "                                    <material ana=\"#material.stone.marble\" ref=\"http://www.eagle-network.eu/voc/material/lod/48.html\">marble</material>\n",
      "                                    <objectType ana=\"#object.plaque\" ref=\"https://www.eagle-network.eu/voc/objtyp/lod/259.html\">plaque</objectType>\n",
      "                                    <dimensions><!--from ILPalermo-->\n",
      "                                        <height unit=\"cm\">17.5</height>\n",
      "                                        <width unit=\"cm\">29.3</width>\n",
      "                                        <depth unit=\"cm\">1.5-2</depth>\n",
      "                                    </dimensions>\n",
      "                                </support>\n",
      "                                <condition ana=\"#condition.complete\"/>\n",
      "\t\t    </supportDesc>\n",
      "                            <layoutDesc>\n",
      "                                <layout><p>Three lines, roughly centered, but not perfectly perpendicular to the stone</p>\n",
      "                                    <rs ana=\"#execution.chiselled\" ref=\"http://www.eagle-network.eu/voc/writing/lod/1\">chiselled</rs>\n",
      "                                \t<damage ana=\"#text_condition.complete\"/>\n",
      "\t\t\t</layout>\n",
      "                            </layoutDesc>\n",
      "                        </objectDesc>\n",
      "                        <handDesc>\n",
      "                            <handNote><!--ILPalermo-->\n",
      "                                <locus from=\"line1\" to=\"line1\">Line 1</locus>\n",
      "                                <dimensions type=\"letterHeight\">\n",
      "                                    <height unit=\"mm\">32-35</height>\n",
      "                                </dimensions>\n",
      "                                <locus from=\"line2\" to=\"line2\">Line 2</locus>\n",
      "                                <dimensions type=\"letterHeight\">\n",
      "                                    <height unit=\"mm\">35</height>\n",
      "                                </dimensions>\n",
      "                                <locus from=\"line3\" to=\"line3\">Line 3</locus>\n",
      "                                <dimensions type=\"letterHeight\">\n",
      "                                    <height unit=\"mm\">30-32</height>\n",
      "                                </dimensions>\n",
      "                                <locus from=\"line1\" to=\"line2\">Interlineation line 1 to 2</locus>\n",
      "                                <dimensions type=\"interlinear\">\n",
      "                                    <height unit=\"mm\"/>\n",
      "                                </dimensions>\n",
      "                            </handNote>\n",
      "                        </handDesc>\n",
      "                    </physDesc>\n",
      "                    <history>\n",
      "                        <origin>\n",
      "                            <origPlace>\n",
      "                                <placeName type=\"ancient\"/>\n",
      "                                <placeName type=\"modern\" ref=\"http://sws.geonames.org/2525448\">Caltanissetta</placeName>\n",
      "                                <geo>37.49025, 14.06216</geo>\n",
      "                            </origPlace>\n",
      "                            <origDate datingMethod=\"#julian\" notBefore-custom=\"0050\" notAfter-custom=\"0300\" evidence=\"lettering textual-context\">between later 1st and 3rd century CE</origDate>\n",
      "                        </origin>\n",
      "                        <provenance type=\"found\" subtype=\"discovered\" when=\"1782\">Found in 'feudo Landri di Placido Notarbartolo duca di Villarosa, in the territory of Caltanissetta in 1782.</provenance>\n",
      "                        <provenance type=\"observed\" subtype=\"autopsied\">None</provenance>\n",
      "                        <acquisition/>\n",
      "                    </history>\n",
      "                </msDesc>\n",
      "            </sourceDesc>\n",
      "        </fileDesc>\n",
      "        <encodingDesc>\n",
      "             <p>Encoded following the latest EpiDoc guidelines</p>\n",
      "             <xi:include href=\"../alists/ISicily-taxonomies.xml\">\n",
      "                 <xi:fallback>\n",
      "                     <p>Taxonomies for ISicily controlled values</p>\n",
      "                 </xi:fallback>\n",
      "             </xi:include>\n",
      "\t  <xi:include href=\"../alists/charDecl.xml\">\n",
      "\t     <xi:fallback>\n",
      "\t       <p>ISicily glyphs authority list</p>\n",
      "\t     </xi:fallback>\n",
      "\t   </xi:include>\n",
      "         </encodingDesc>\n",
      "        <profileDesc>\n",
      "            <calendarDesc>\n",
      "                <calendar xml:id=\"julian\">\n",
      "                    <p>Julian Calendar</p>\n",
      "                </calendar>\n",
      "            </calendarDesc>\n",
      "            <langUsage>\n",
      "                <language ident=\"en\">English</language> \n",
      "                <language ident=\"it\">Italian</language> \n",
      "                <language ident=\"grc\">Ancient Greek</language> \n",
      "                <language ident=\"la\">Latin</language> \n",
      "                <language ident=\"he\">Hebrew</language> \n",
      "                <language ident=\"phn\">Phoenician</language>\n",
      "                <language ident=\"xpu\">Punic</language>\n",
      "                <language ident=\"osc\">Oscan</language> \n",
      "                <language ident=\"xly\">Elymian</language> \n",
      "                <language ident=\"scx\">Sikel</language>  \n",
      "                <language ident=\"sxc\">Sikan</language>  \n",
      "            </langUsage>\n",
      "            <textClass>\n",
      "                <keywords scheme=\"http://www.eagle-network.eu/voc/typeins.html\">\n",
      "                    <term ana=\"#function.funerary\" ref=\"http://www.eagle-network.eu/voc/typeins/lod/92.html\">funerary</term>\n",
      "                </keywords>\n",
      "            </textClass>\n",
      "        </profileDesc>\n",
      "        <revisionDesc status=\"draft\">\n",
      "            <listChange>\n",
      "                <change when=\"2016-12-03\" who=\"#JCu\">James Cummings autogenerated EpiDoc output from database</change>\n",
      "                <change when=\"2017-07-31\" who=\"#JP\">Jonathan Prag checked EpiDoc added CIL text</change>\n",
      "            \t   <change when=\"2020-10-05\" who=\"#SS\">Simona Stoyanova normalised Unicode</change>\n",
      "            \t   <change when=\"2020-10-08\" who=\"#SS\">Simona Stoyanova updated list of languages</change>\n",
      "                <change when=\"2020-10-30\" who=\"#JP\">Test relocation of geo element in origPlace, revision of text, addition of bibl</change>\n",
      "            \t<change when=\"2020-11-20\" who=\"#SS\">Simona Stoyanova added EDCS numbers</change>\n",
      "\t\t<change when=\"2020-11-26\" who=\"#SS\">Simona Stoyanova restructured bibliography</change>\n",
      "\t    <change when=\"2020-12-17\" who=\"#system\">Updated Zenodo DOI</change>\n",
      "            \t<change when=\"2021-01-19\" who=\"#SS\">renumbered files, uris and references</change>\n",
      "                <change when=\"2021-06-30\" who=\"#JP\">Jonathan Prag tagged named entities and added metadata from publication and added image</change>\n",
      "               <change when=\"2022-08-19\" who=\"#JP\">Jonathan Prag made minor text corrections</change>\n",
      "\t</listChange>\n",
      "        </revisionDesc>\n",
      "    </teiHeader>\n",
      "    <facsimile>\n",
      "        <surface type=\"front\">\n",
      "            <graphic n=\"screen\" url=\"ISic000001_tiled.tif\" height=\"2126px\" width=\"3416px\">\n",
      "                <desc>Photo Museo Archeologico Regionale Antonino Salinas</desc>\n",
      "            </graphic>\n",
      "            <graphic n=\"print\" url=\"ISic000001.jpg\" height=\"2126px\" width=\"3416px\">\n",
      "                <desc>Photo Museo Archeologico Regionale Antonino Salinas</desc>\n",
      "            </graphic>\n",
      "        </surface>\n",
      "    </facsimile>\n",
      "    <text>\n",
      "        <body>\n",
      "            <div type=\"edition\" xml:space=\"preserve\" xml:lang=\"la\" resp=\"JP\">\n",
      "                <ab>\n",
      "                    <lb n=\"1\"/><w>D<hi rend=\"tall\">i</hi>s</w> <g ref=\"#interpunct\">·</g> <w><expan><abbr>man</abbr><ex>ibus</ex></expan></w>\n",
      "                    <lb n=\"2\"/><g ref=\"#interpunct\">·</g> <persName type=\"attested\"><name>Zet<hi rend=\"ligature\">hi</hi></name></persName>\n",
      "                    <lb n=\"3\"/><w><expan><abbr>vix</abbr><ex>it</ex></expan></w> <g ref=\"#interpunct\">·</g> <w><expan><abbr>a</abbr><ex>nnis</ex></expan></w> <g ref=\"#interpunct\">·</g> <num value=\"6\">VI</num>\n",
      "                </ab>\n",
      "            </div>\n",
      "            <div type=\"apparatus\" resp=\"#JP\">\n",
      "                <listApp>\n",
      "                    <app><note>Text from photograph</note></app>\n",
      "                    <app loc=\"3\"><note>Mommsen: vixit</note></app>\n",
      "                </listApp>\n",
      "            </div>\n",
      "            <div type=\"translation\">\n",
      "                <p><!-- add xml:lang with language code and translation without markup --></p>\n",
      "            </div>\n",
      "            <div type=\"commentary\">\n",
      "                <p><!--commented out pending revision-->\n",
      "                   </p>\n",
      "            </div>\n",
      "            <div type=\"bibliography\">\n",
      "                <listBibl type=\"edition\">\n",
      "                    <bibl>\n",
      "                        <author>Castelli</author>\n",
      "                        <date>1784</date>\n",
      "                        <citedRange>cl. 14 no. 147</citedRange>\n",
      "                        <ptr target=\"https://www.zotero.org/groups/382445/items/7PSFHSUH\"/>\n",
      "                    </bibl>\n",
      "                    <bibl type=\"corpus\" n=\"CIL\">\n",
      "                        <citedRange>\n",
      "                            <ref target=\"http://arachne.uni-koeln.de/books/CILv10pII1883\">10.7190</ref>\n",
      "                        </citedRange>\n",
      "                        <ptr target=\"https://www.zotero.org/groups/382445/items/GQN8UZSI\"/>\n",
      "                    </bibl>\n",
      "                    <bibl type=\"corpus\" n=\"ILMusPalermo\">\n",
      "                        <citedRange>1</citedRange>\n",
      "                        <ptr target=\"https://www.zotero.org/groups/382445/items/FZWWPUD6\"/>\n",
      "                    </bibl>\n",
      "                    <bibl/>\n",
      "                </listBibl>\n",
      "\t   <listBibl type=\"discussion\"><bibl/></listBibl>\n",
      "            </div>\n",
      "        </body>\n",
      "    </text>\n",
      "</TEI>\n",
      "\n"
     ]
    }
   ],
   "source": [
    "print(doc.xml_str)"
   ]
  },
  {
   "cell_type": "markdown",
   "id": "e6c6daec-c991-4b42-94cf-c198ac891e08",
   "metadata": {},
   "source": [
    "## Load a corpus"
   ]
  },
  {
   "cell_type": "code",
   "execution_count": 9,
   "id": "b311cee4-c75c-470e-ae7a-2d55acc8dd6d",
   "metadata": {},
   "outputs": [],
   "source": [
    "# Load the corpus\n",
    "corpus = EpiDocCorpus('example_corpus')"
   ]
  },
  {
   "cell_type": "code",
   "execution_count": 10,
   "id": "35e770fa-c1fd-4ea0-96f6-c61e00909a25",
   "metadata": {},
   "outputs": [
    {
     "name": "stdout",
     "output_type": "stream",
     "text": [
      "71\n"
     ]
    }
   ],
   "source": [
    "# Count the documents\n",
    "print(corpus.doc_count)"
   ]
  },
  {
   "cell_type": "code",
   "execution_count": 11,
   "id": "e0c1c797-59c2-4762-87f9-b128562fc778",
   "metadata": {},
   "outputs": [
    {
     "name": "stdout",
     "output_type": "stream",
     "text": [
      "-550 401\n"
     ]
    }
   ],
   "source": [
    "# Get the range of dates\n",
    "print(corpus.datemin, corpus.datemax)"
   ]
  },
  {
   "cell_type": "markdown",
   "id": "a90f84c7-c4d8-410f-a6f8-1b1e524d36b4",
   "metadata": {},
   "source": [
    "# Excursus: using `print_items`"
   ]
  },
  {
   "cell_type": "markdown",
   "id": "74f2277c-5959-48e6-9b97-73dfbeacc83d",
   "metadata": {},
   "source": [
    "`print_items` is a function within PyEpiDOc to display lists of things. The default setting is \n",
    "to print each item on a new line preceded by \"- \", e.g.:"
   ]
  },
  {
   "cell_type": "code",
   "execution_count": 12,
   "id": "d1f23975-3969-429a-8a88-79bf4e61d867",
   "metadata": {},
   "outputs": [
    {
     "name": "stdout",
     "output_type": "stream",
     "text": [
      "- 1\n",
      "- 2\n",
      "- 3\n"
     ]
    }
   ],
   "source": [
    "print_items([1, 2, 3])"
   ]
  },
  {
   "cell_type": "markdown",
   "id": "acd19241-8504-4074-a53e-b6375df855f1",
   "metadata": {},
   "source": [
    "However, it is possible to change this behaviour. For example, you can set your own prefix, e.g. an asterisk, with the `prefix` parameter:"
   ]
  },
  {
   "cell_type": "code",
   "execution_count": 13,
   "id": "002f349c-f82a-4954-8232-1ba0dc9b0e57",
   "metadata": {},
   "outputs": [
    {
     "name": "stdout",
     "output_type": "stream",
     "text": [
      "* 1\n",
      "* 2\n",
      "* 3\n"
     ]
    }
   ],
   "source": [
    "print_items([1, 2, 3], prefix='* ')"
   ]
  },
  {
   "cell_type": "markdown",
   "id": "e934411e-0176-488c-9bd9-e8ce87065c7b",
   "metadata": {},
   "source": [
    "You can also have no prefix at all:"
   ]
  },
  {
   "cell_type": "code",
   "execution_count": 14,
   "id": "31fce236-db56-41ae-bd4a-23e527c36852",
   "metadata": {},
   "outputs": [
    {
     "name": "stdout",
     "output_type": "stream",
     "text": [
      "1\n",
      "2\n",
      "3\n"
     ]
    }
   ],
   "source": [
    "print_items([1, 2, 3], prefix='')"
   ]
  },
  {
   "cell_type": "markdown",
   "id": "e5a35b66-b592-4cf5-b2c1-7322c03cb4a8",
   "metadata": {},
   "source": [
    "You can change how each item is separated by using the `sep` parameter. Instead of a new line, you can separate each item with a comma, for example:"
   ]
  },
  {
   "cell_type": "code",
   "execution_count": 15,
   "id": "5fcbe77b-6d25-4c85-9e57-49fcf9201489",
   "metadata": {},
   "outputs": [
    {
     "name": "stdout",
     "output_type": "stream",
     "text": [
      "1, 2, 3\n"
     ]
    }
   ],
   "source": [
    "print_items([1, 2, 3], sep=', ', prefix='')"
   ]
  },
  {
   "cell_type": "markdown",
   "id": "94279542-3270-4f12-a92b-6feb1c5e3490",
   "metadata": {},
   "source": [
    "## Filter the corpus"
   ]
  },
  {
   "cell_type": "markdown",
   "id": "f825c1dc-4ab9-4a00-9b15-1702d1faaa70",
   "metadata": {},
   "source": [
    "## By text class"
   ]
  },
  {
   "cell_type": "code",
   "execution_count": 16,
   "id": "d521994f-f378-454e-9b60-50a538437b8a",
   "metadata": {},
   "outputs": [
    {
     "name": "stdout",
     "output_type": "stream",
     "text": [
      "40\n"
     ]
    }
   ],
   "source": [
    "# Find all the funerary inscriptions\n",
    "\n",
    "funerary = corpus.filter_by_textclass(['#function.funerary'])\n",
    "print(funerary.doc_count)"
   ]
  },
  {
   "cell_type": "markdown",
   "id": "44e7052e-529f-41fc-8afa-ab854e4c07d0",
   "metadata": {},
   "source": [
    "## By text class and orig place"
   ]
  },
  {
   "cell_type": "code",
   "execution_count": 17,
   "id": "d2eea6dd-5ab8-47e0-aac9-419c30550037",
   "metadata": {},
   "outputs": [],
   "source": [
    "# Chaining filters\n",
    "catina_funerary = corpus.filter_by_textclass(['#function.funerary']).filter_by_orig_place(['Catina'])"
   ]
  },
  {
   "cell_type": "code",
   "execution_count": 18,
   "id": "afe911c3-b504-46d5-a2ef-c91b0f94b8aa",
   "metadata": {},
   "outputs": [
    {
     "name": "stdout",
     "output_type": "stream",
     "text": [
      "- ISic000002\n",
      "- ISic000003\n"
     ]
    }
   ],
   "source": [
    "print_items(catina_funerary.ids)"
   ]
  },
  {
   "cell_type": "code",
   "execution_count": 19,
   "id": "8e88cc66-7bc8-4f5f-95bb-a2ecf8f68f6b",
   "metadata": {},
   "outputs": [
    {
     "name": "stdout",
     "output_type": "stream",
     "text": [
      "71\n"
     ]
    }
   ],
   "source": [
    "# The original corpus is unchanged\n",
    "print(corpus.doc_count)"
   ]
  },
  {
   "cell_type": "markdown",
   "id": "bfe7d42b-af64-46b9-8777-f1f9d0dca53a",
   "metadata": {},
   "source": [
    "## By text class and date range"
   ]
  },
  {
   "cell_type": "code",
   "execution_count": 20,
   "id": "78e5d707-5411-4869-8f99-579ca5b0deff",
   "metadata": {},
   "outputs": [],
   "source": [
    "# Filter by date\n",
    "imperial_funerary = corpus.filter_by_daterange(start=-1, end=200).filter_by_textclass(['#function.funerary'])"
   ]
  },
  {
   "cell_type": "code",
   "execution_count": 21,
   "id": "8e500e6f-5dea-49d3-8654-6cc6530e7121",
   "metadata": {},
   "outputs": [
    {
     "name": "stdout",
     "output_type": "stream",
     "text": [
      "- ISic000006\n",
      "- ISic000813\n",
      "- ISic000819\n",
      "- ISic000853\n"
     ]
    }
   ],
   "source": [
    "print_items(imperial_funerary.ids)"
   ]
  },
  {
   "cell_type": "code",
   "execution_count": 22,
   "id": "478c6291-9b6e-4bff-931b-aa755849dc67",
   "metadata": {},
   "outputs": [
    {
     "name": "stdout",
     "output_type": "stream",
     "text": [
      "\n",
      "C(aius) · Iulius · Felix\n",
      "vixit · ann(os)\n",
      "Appuleia · Rogata\n",
      "vixit · ann(os)\n"
     ]
    }
   ],
   "source": [
    "# Show the text of particular inscription\n",
    "print(imperial_funerary.get_doc_by_id('ISic000006').text_leiden)"
   ]
  },
  {
   "cell_type": "markdown",
   "id": "b4636435-0703-41f5-9052-9452efe2d2e5",
   "metadata": {},
   "source": [
    "# By `<g> @ref`"
   ]
  },
  {
   "cell_type": "code",
   "execution_count": 23,
   "id": "f6e2a531-59eb-461a-be4a-f5a5cfe85478",
   "metadata": {},
   "outputs": [
    {
     "name": "stdout",
     "output_type": "stream",
     "text": [
      "- ISic000001\n",
      "- ISic000002\n",
      "- ISic000003\n",
      "- ISic000004\n",
      "- ISic000005\n",
      "- ISic000006\n",
      "- ISic000007\n",
      "- ISic000009\n",
      "- ISic000010\n",
      "- ISic000017\n",
      "- ISic000801\n",
      "- ISic000803\n",
      "- ISic000804\n",
      "- ISic000805\n",
      "- ISic000813\n",
      "- ISic000814\n",
      "- ISic000842\n",
      "- ISic000844\n",
      "- ISic000846\n",
      "- ISic000847\n",
      "- ISic000848\n",
      "- ISic000850\n",
      "- ISic000853\n",
      "- ISic000854\n",
      "- ISic000855\n",
      "- ISic000856\n",
      "- ISic000857\n",
      "- ISic000858\n",
      "- ISic000859\n"
     ]
    }
   ],
   "source": [
    "interpunct_corpus = corpus.filter_by_g_ref(['#interpunct'])\n",
    "ids = interpunct_corpus.ids\n",
    "print_items(ids)                                    "
   ]
  },
  {
   "cell_type": "code",
   "execution_count": 29,
   "id": "7ac3ecc7-5d8a-4080-8c55-ca89307eb583",
   "metadata": {},
   "outputs": [
    {
     "name": "stdout",
     "output_type": "stream",
     "text": [
      "194\n"
     ]
    }
   ],
   "source": [
    "interpuncts = [punct for punct in interpunct_corpus.gs\n",
    "             if punct.ref == '#interpunct']\n",
    "print(len(interpuncts))"
   ]
  },
  {
   "cell_type": "markdown",
   "id": "b53dafe2-f535-408f-acba-7ce8c30cad41",
   "metadata": {},
   "source": [
    "# By `<name>`"
   ]
  },
  {
   "cell_type": "code",
   "execution_count": null,
   "id": "3a10e9c4-146a-480e-9bc4-bbbdd2f79efa",
   "metadata": {},
   "outputs": [],
   "source": [
    "cognomen_corpus = corpus.filter_by_name_type(['cognomen'])\n",
    "ids = cognomen_corpus.ids\n",
    "print_items(ids)"
   ]
  },
  {
   "cell_type": "code",
   "execution_count": null,
   "id": "c8196bc6-98b1-4fb3-8878-2078ee1db1e0",
   "metadata": {},
   "outputs": [],
   "source": [
    "cognomina = [name for name in cognomen_corpus.names \n",
    "             if name.name_type == 'cognomen']\n",
    "print_items(cognomina)"
   ]
  },
  {
   "cell_type": "markdown",
   "id": "4b62b1bc-9b35-47cc-96aa-6c5952ffd0be",
   "metadata": {},
   "source": [
    "## By `<roleName>`"
   ]
  },
  {
   "cell_type": "markdown",
   "id": "3e2e84cd-3ddf-48a2-8c05-000c7f8ef35b",
   "metadata": {},
   "source": [
    "### By `@subtype`"
   ]
  },
  {
   "cell_type": "code",
   "execution_count": null,
   "id": "89a9a5e2-50e0-4f7b-8003-b0a90f49ed9e",
   "metadata": {},
   "outputs": [],
   "source": [
    "# Print the document ids of the files that contain at least one\n",
    "# role name with type 'imperator'\n",
    "imperator_corpus = corpus.filter_by_role_name_subtype(['imperator'])\n",
    "print_items(imperator_corpus.ids)"
   ]
  },
  {
   "cell_type": "code",
   "execution_count": null,
   "id": "b7657414-6fae-4c8f-b62c-94eb0019fc67",
   "metadata": {},
   "outputs": [],
   "source": [
    "# Print all the role name text values in all the files that\n",
    "# contain at least one role name of subtype 'imperator'\n",
    "role_names = imperator_corpus.role_names\n",
    "print_items(role_names)"
   ]
  },
  {
   "cell_type": "code",
   "execution_count": null,
   "id": "19809ff5-3045-43bf-9911-6ba0e1ec3d15",
   "metadata": {},
   "outputs": [],
   "source": [
    "# Print only the role names with subtype value 'imperator'\n",
    "imperator_role_names = filter(\n",
    "    lambda role_name: role_name.role_subtype == 'imperator', \n",
    "    imperator_corpus.role_names\n",
    ")\n",
    "print_items(imperator_role_names)"
   ]
  },
  {
   "cell_type": "markdown",
   "id": "2112dad0-9802-4df5-8924-16b1c9c3525f",
   "metadata": {},
   "source": [
    "### By role type"
   ]
  },
  {
   "cell_type": "code",
   "execution_count": null,
   "id": "abbeaf30-d51e-4542-ae58-54f0aba1d8d5",
   "metadata": {},
   "outputs": [],
   "source": [
    "# You can also filter by role name type\n",
    "civic_corpus = corpus.filter_by_role_type(['civic'])\n",
    "civic_role_names = list(filter(\n",
    "    lambda role_name: role_name.role_type == 'civic', \n",
    "    civic_corpus.role_names\n",
    "))\n",
    "print_items(civic_role_names)\n"
   ]
  },
  {
   "cell_type": "code",
   "execution_count": null,
   "id": "e8d9a9b8-6141-465a-b46c-d7c3a7d92a57",
   "metadata": {},
   "outputs": [],
   "source": [
    "print_items(civic_corpus.ids)"
   ]
  },
  {
   "cell_type": "code",
   "execution_count": null,
   "id": "ef009176-2d18-43b3-9a62-21b524f5c235",
   "metadata": {},
   "outputs": [],
   "source": [
    "# Print the subtypes of the role_names you have found\n",
    "civic_role_subtypes = list(map(\n",
    "    lambda role_name: role_name.role_subtype, \n",
    "    civic_role_names\n",
    "))\n",
    "civic_role_subtypes = [role_name.role_subtype for role_name in civic_role_names]\n",
    "print_items(civic_role_subtypes)\n"
   ]
  },
  {
   "cell_type": "markdown",
   "id": "30d49f3b-885d-490a-9417-ef2f6296d947",
   "metadata": {},
   "source": [
    "## Abbreviations"
   ]
  },
  {
   "cell_type": "code",
   "execution_count": null,
   "id": "e5f2430c-e5be-4261-a0a1-f5fdad65ff53",
   "metadata": {},
   "outputs": [],
   "source": [
    "# Get all the abbreviations in the corpus\n",
    "\n",
    "expans = corpus.expans\n",
    "print(len(expans))"
   ]
  },
  {
   "cell_type": "code",
   "execution_count": null,
   "id": "98995b1b-51fd-488a-a2b6-80a6f8b76209",
   "metadata": {},
   "outputs": [],
   "source": [
    "# Get all the suspensions\n",
    "print_items(filter(lambda expan: expan.is_suspension == True, expans))"
   ]
  },
  {
   "cell_type": "code",
   "execution_count": null,
   "id": "0e6cf3bb-200b-46f5-9777-96ceb0442c36",
   "metadata": {},
   "outputs": [],
   "source": [
    "# Get all the Greek suspensions\n",
    "greek_suspensions = list(filter(\n",
    "    lambda expan: expan.is_suspension == True and lang(expan) == 'grc', \n",
    "    expans))\n",
    "print_items(greek_suspensions)\n",
    "\n"
   ]
  },
  {
   "cell_type": "code",
   "execution_count": null,
   "id": "bfaaa47f-278b-460d-8582-c38b0acb96a3",
   "metadata": {},
   "outputs": [],
   "source": [
    "# Get the document IDs\n",
    "ids = map(doc_id, greek_suspensions)\n",
    "print_items(ids)"
   ]
  },
  {
   "cell_type": "code",
   "execution_count": null,
   "id": "8e190630-54ea-465a-84fe-0ed8a658cb05",
   "metadata": {},
   "outputs": [],
   "source": [
    "# Get all the Latin contractions with suspension\n",
    "latin_contractions_with_suspensions = list(filter(\n",
    "    lambda expan: expan.is_contraction_with_suspension == True and lang(expan) == 'la', \n",
    "    expans))\n",
    "print_items(latin_contractions_with_suspensions)\n",
    "\n",
    "print_items(map(doc_id, latin_contractions_with_suspensions))"
   ]
  },
  {
   "cell_type": "code",
   "execution_count": null,
   "id": "93195094-f8ae-44ba-be69-fecdb06d4d08",
   "metadata": {},
   "outputs": [],
   "source": [
    "# Get the documents\n",
    "\n",
    "docs = list(map(owner_doc, latin_contractions_with_suspensions))\n",
    "print_items(map(lambda doc: doc.date_mean, docs))"
   ]
  },
  {
   "cell_type": "markdown",
   "id": "97bc56f1-86c5-4158-acf1-72db8eff83d1",
   "metadata": {},
   "source": [
    "## Tokenizing EpiDoc"
   ]
  },
  {
   "cell_type": "code",
   "execution_count": null,
   "id": "91015c31-2d70-4483-8921-452fd0400b0a",
   "metadata": {},
   "outputs": [],
   "source": [
    "doc = EpiDoc('examples/ISic000032_untokenized.xml')\n",
    "print(doc.tokens)"
   ]
  },
  {
   "cell_type": "code",
   "execution_count": null,
   "id": "5ed60721-ce33-4c84-b45f-fdf8753e4155",
   "metadata": {},
   "outputs": [],
   "source": [
    "print(doc.text_xml)"
   ]
  },
  {
   "cell_type": "code",
   "execution_count": null,
   "id": "7c8e9c7b-7c1b-463b-a99e-2613761d1960",
   "metadata": {},
   "outputs": [],
   "source": [
    "print(doc.text_leiden)"
   ]
  },
  {
   "cell_type": "code",
   "execution_count": null,
   "id": "f9acd72a-b02c-410d-abbb-411b89a8f97c",
   "metadata": {},
   "outputs": [],
   "source": [
    "doc.tokenize()\n",
    "print(doc.tokens)"
   ]
  },
  {
   "cell_type": "code",
   "execution_count": null,
   "id": "b8f9f1f8-bca3-4f38-8cc6-0acfa370e540",
   "metadata": {},
   "outputs": [],
   "source": [
    "print(doc.text_xml)"
   ]
  },
  {
   "cell_type": "code",
   "execution_count": null,
   "id": "69ab2a9f-1b55-4252-a677-79b3b3bd2644",
   "metadata": {},
   "outputs": [],
   "source": [
    "print(doc.text_leiden)"
   ]
  },
  {
   "cell_type": "code",
   "execution_count": null,
   "id": "27cf7e00-b269-40a0-a3ea-08768c5d4792",
   "metadata": {},
   "outputs": [],
   "source": [
    "print(doc.text_normalized)"
   ]
  },
  {
   "cell_type": "markdown",
   "id": "1484f086-b291-478a-ad42-948fb4f422a1",
   "metadata": {},
   "source": [
    "## Setting IDs"
   ]
  },
  {
   "cell_type": "code",
   "execution_count": null,
   "id": "c29f667e-2620-4873-bba4-7ce8bfb7d790",
   "metadata": {},
   "outputs": [],
   "source": [
    "print(doc.editions()[0].xml_str)"
   ]
  },
  {
   "cell_type": "code",
   "execution_count": null,
   "id": "fe682ca3-429d-46b0-a2e0-799674a89cff",
   "metadata": {},
   "outputs": [],
   "source": [
    "print_items(doc.ids)"
   ]
  },
  {
   "cell_type": "code",
   "execution_count": null,
   "id": "e095ebd6-c56a-4dd9-9d34-702c8394c78f",
   "metadata": {},
   "outputs": [],
   "source": [
    "doc.set_ids()\n",
    "print_items(doc.ids)"
   ]
  },
  {
   "cell_type": "code",
   "execution_count": null,
   "id": "25081ddb-a9d7-46c5-a3c3-e67a442b5101",
   "metadata": {},
   "outputs": [],
   "source": [
    "print(doc.editions()[0].xml_str)"
   ]
  },
  {
   "cell_type": "code",
   "execution_count": null,
   "id": "581cf195-4e9b-439f-b89e-1103181a2bf1",
   "metadata": {},
   "outputs": [],
   "source": [
    "print(doc.validate()[1])"
   ]
  }
 ],
 "metadata": {
  "kernelspec": {
   "display_name": "Python 3 (ipykernel)",
   "language": "python",
   "name": "python3"
  },
  "language_info": {
   "codemirror_mode": {
    "name": "ipython",
    "version": 3
   },
   "file_extension": ".py",
   "mimetype": "text/x-python",
   "name": "python",
   "nbconvert_exporter": "python",
   "pygments_lexer": "ipython3",
   "version": "3.9.18"
  }
 },
 "nbformat": 4,
 "nbformat_minor": 5
}
