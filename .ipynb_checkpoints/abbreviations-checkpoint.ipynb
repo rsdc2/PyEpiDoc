{
 "cells": [
  {
   "cell_type": "markdown",
   "id": "9e750a81",
   "metadata": {},
   "source": [
    "# Exploring the typology of abbreviations in Sicily"
   ]
  },
  {
   "cell_type": "markdown",
   "id": "71c6d13f",
   "metadata": {},
   "source": [
    "## Load PyEpiDoc and corpus"
   ]
  },
  {
   "cell_type": "code",
   "execution_count": 8,
   "id": "3ff80320",
   "metadata": {},
   "outputs": [],
   "source": [
    "from pyepidoc import EpiDoc, EpiDocCorpus\n",
    "from pyepidoc.epidoc.enums import AbbrType\n",
    "from pyepidoc.epidoc.dom import lang, owner_doc\n",
    "from pyepidoc.shared.utils import top, contains, listfilter\n",
    "from pyepidoc.shared.display import show_elems\n",
    "\n",
    "corpus = EpiDocCorpus(inpt='examples')"
   ]
  },
  {
   "cell_type": "markdown",
   "id": "8e19a4ad",
   "metadata": {},
   "source": [
    "## Get all the abbreviations"
   ]
  },
  {
   "cell_type": "code",
   "execution_count": 9,
   "id": "021e1783",
   "metadata": {},
   "outputs": [
    {
     "name": "stdout",
     "output_type": "stream",
     "text": [
      "Total abbreviations in I.Sicily corpus:  5\n"
     ]
    }
   ],
   "source": [
    "abbreviations = [expan for expan in corpus.expans]\n",
    "print('Total abbreviations in I.Sicily corpus: ', len(abbreviations))"
   ]
  },
  {
   "cell_type": "markdown",
   "id": "db7abf58",
   "metadata": {},
   "source": [
    "## Suspensions\n",
    "### Find all the suspensions"
   ]
  },
  {
   "cell_type": "code",
   "execution_count": 10,
   "id": "063b11b5",
   "metadata": {},
   "outputs": [],
   "source": [
    "suspensions = [abbr for abbr in abbreviations \n",
    "               if contains(abbr.abbr_types, AbbrType.suspension)]"
   ]
  },
  {
   "cell_type": "markdown",
   "id": "5890192c",
   "metadata": {},
   "source": [
    "### Count and examples"
   ]
  },
  {
   "cell_type": "code",
   "execution_count": 11,
   "id": "be2eb60a",
   "metadata": {},
   "outputs": [
    {
     "name": "stdout",
     "output_type": "stream",
     "text": [
      "Total suspensions in corpus:  5\n"
     ]
    }
   ],
   "source": [
    "print('Total suspensions in corpus: ', len(suspensions))"
   ]
  },
  {
   "cell_type": "code",
   "execution_count": 12,
   "id": "b3c070c9",
   "metadata": {},
   "outputs": [
    {
     "name": "stdout",
     "output_type": "stream",
     "text": [
      "of which Latin:  5\n"
     ]
    }
   ],
   "source": [
    "latin_susp = [susp for susp in suspensions \n",
    "    if lang(susp) == 'la']\n",
    "print('of which Latin: ', len(latin_susp))"
   ]
  },
  {
   "cell_type": "code",
   "execution_count": 13,
   "id": "204d5e3b",
   "metadata": {},
   "outputs": [
    {
     "name": "stdout",
     "output_type": "stream",
     "text": [
      "of which Greek:  0\n"
     ]
    }
   ],
   "source": [
    "greek_susp = [susp for susp in suspensions\n",
    "    if lang(susp) == 'grc']\n",
    "print('of which Greek: ', len(greek_susp))"
   ]
  },
  {
   "cell_type": "code",
   "execution_count": 14,
   "id": "b2982d25",
   "metadata": {},
   "outputs": [
    {
     "name": "stdout",
     "output_type": "stream",
     "text": [
      "of which other:  0\n"
     ]
    }
   ],
   "source": [
    "other_susp = [susp for susp in suspensions\n",
    "    if lang(susp) not in ['grc', 'la']]\n",
    "print('of which other: ', len(other_susp))"
   ]
  },
  {
   "cell_type": "markdown",
   "id": "9ce60587",
   "metadata": {},
   "source": [
    "### What are these others?!"
   ]
  },
  {
   "cell_type": "code",
   "execution_count": 15,
   "id": "dcc154ef",
   "metadata": {},
   "outputs": [
    {
     "name": "stdout",
     "output_type": "stream",
     "text": [
      "\n"
     ]
    }
   ],
   "source": [
    "print(show_elems(other_susp))"
   ]
  },
  {
   "cell_type": "markdown",
   "id": "bf2c5f7e",
   "metadata": {},
   "source": [
    "### First 10 examples"
   ]
  },
  {
   "cell_type": "code",
   "execution_count": 16,
   "id": "3cc68e0a",
   "metadata": {
    "scrolled": true
   },
   "outputs": [
    {
     "name": "stdout",
     "output_type": "stream",
     "text": [
      "First 10 examples:\n",
      "- ISic000001: man(ibus) (la)\n",
      "- ISic000001: vix(it) (la)\n",
      "- ISic000001: a(nnis) (la)\n",
      "- ISic000032: M(arcus) (la)\n",
      "- ISic000032: Sex(tus) (la)\n"
     ]
    }
   ],
   "source": [
    "print('First 10 examples:')\n",
    "print(show_elems(top(suspensions, 10)))"
   ]
  },
  {
   "cell_type": "code",
   "execution_count": 17,
   "id": "ba84ba41",
   "metadata": {},
   "outputs": [
    {
     "name": "stdout",
     "output_type": "stream",
     "text": [
      "\n",
      "                \n",
      "                    Dis · manibus\n",
      "                    · Zethi\n",
      "                    vixit · annis · VI\n",
      "                \n",
      "            \n"
     ]
    }
   ],
   "source": [
    "doc000001 = owner_doc(suspensions[0])\n",
    "print(doc000001.edition_text)"
   ]
  },
  {
   "cell_type": "markdown",
   "id": "369a6ec5",
   "metadata": {},
   "source": [
    "## Contractions"
   ]
  },
  {
   "cell_type": "code",
   "execution_count": 19,
   "id": "9b43e605",
   "metadata": {},
   "outputs": [
    {
     "name": "stdout",
     "output_type": "stream",
     "text": [
      "Total contractions in corpus:  0\n"
     ]
    }
   ],
   "source": [
    "contractions = [abbr for abbr in abbreviations if contains(abbr.abbr_types, AbbrType.contraction)]\n",
    "print('Total contractions in corpus: ', len(contractions))"
   ]
  },
  {
   "cell_type": "code",
   "execution_count": 20,
   "id": "016cc85c",
   "metadata": {},
   "outputs": [
    {
     "name": "stdout",
     "output_type": "stream",
     "text": [
      "of which Latin:  0\n"
     ]
    }
   ],
   "source": [
    "latin_contractions = [contraction for contraction in contractions \n",
    "    if lang(contraction) == 'la']\n",
    "print('of which Latin: ', len(latin_contractions))"
   ]
  },
  {
   "cell_type": "code",
   "execution_count": 21,
   "id": "97866af5",
   "metadata": {},
   "outputs": [
    {
     "name": "stdout",
     "output_type": "stream",
     "text": [
      "of which Greek:  0\n"
     ]
    }
   ],
   "source": [
    "greek_contractions = [contraction for contraction in contractions \n",
    "    if lang(contraction) == 'grc']\n",
    "print('of which Greek: ', len(greek_contractions))"
   ]
  },
  {
   "cell_type": "code",
   "execution_count": 22,
   "id": "7314d20c",
   "metadata": {},
   "outputs": [
    {
     "name": "stdout",
     "output_type": "stream",
     "text": [
      "of which Greek:  0\n"
     ]
    }
   ],
   "source": [
    "other_contractions = [contraction for contraction in contractions \n",
    "    if lang(contraction) not in ['grc', 'la']]\n",
    "print('of which Greek: ', len(other_contractions))"
   ]
  },
  {
   "cell_type": "code",
   "execution_count": 23,
   "id": "3242bea8",
   "metadata": {},
   "outputs": [
    {
     "name": "stdout",
     "output_type": "stream",
     "text": [
      "First 10 examples:\n",
      "\n"
     ]
    }
   ],
   "source": [
    "top_10_contractions = [contraction for contraction in top(contractions, 10)]\n",
    "\n",
    "print('First 10 examples:')\n",
    "print(show_elems(top_10_contractions))"
   ]
  },
  {
   "cell_type": "markdown",
   "id": "ca048bba",
   "metadata": {},
   "source": [
    "## Contraction with suspension"
   ]
  },
  {
   "cell_type": "code",
   "execution_count": 24,
   "id": "9b771e4b",
   "metadata": {},
   "outputs": [
    {
     "name": "stdout",
     "output_type": "stream",
     "text": [
      "Total contractions with suspension in corpus:  0\n"
     ]
    }
   ],
   "source": [
    "c_with_s = [abbr for abbr in abbreviations \n",
    "    if contains(abbr.abbr_types, AbbrType.contraction_with_suspension)]\n",
    "print('Total contractions with suspension in corpus: ', len(c_with_s))"
   ]
  },
  {
   "cell_type": "code",
   "execution_count": 25,
   "id": "794ef999",
   "metadata": {},
   "outputs": [
    {
     "name": "stdout",
     "output_type": "stream",
     "text": [
      "of which Latin:  0\n"
     ]
    }
   ],
   "source": [
    "latin_c_with_s = listfilter(lambda x: lang(x) == 'la', c_with_s)\n",
    "print('of which Latin: ', len(latin_c_with_s))"
   ]
  },
  {
   "cell_type": "code",
   "execution_count": 26,
   "id": "fda4d2f6",
   "metadata": {},
   "outputs": [
    {
     "name": "stdout",
     "output_type": "stream",
     "text": [
      "of which Greek:  0\n"
     ]
    }
   ],
   "source": [
    "greek_c_with_s = listfilter(lambda x: lang(x) == 'grc', c_with_s)\n",
    "print('of which Greek: ', len(greek_c_with_s))"
   ]
  },
  {
   "cell_type": "code",
   "execution_count": 27,
   "id": "ac604fb4",
   "metadata": {},
   "outputs": [
    {
     "name": "stdout",
     "output_type": "stream",
     "text": [
      "of which Greek:  0\n"
     ]
    }
   ],
   "source": [
    "other_c_with_s = listfilter(lambda x: lang(x) not in ['grc', 'la'], c_with_s)\n",
    "print('of which Greek: ', len(other_c_with_s))"
   ]
  },
  {
   "cell_type": "code",
   "execution_count": 28,
   "id": "acdc4e78",
   "metadata": {},
   "outputs": [
    {
     "name": "stdout",
     "output_type": "stream",
     "text": [
      "\n"
     ]
    }
   ],
   "source": [
    "print(show_elems(top(c_with_s, 10)))"
   ]
  },
  {
   "cell_type": "markdown",
   "id": "13cfc374",
   "metadata": {},
   "source": [
    "## Multiplications"
   ]
  },
  {
   "cell_type": "code",
   "execution_count": 31,
   "id": "cd176ef8",
   "metadata": {},
   "outputs": [],
   "source": [
    "multiplications = [abbr for abbr in abbreviations \n",
    "    if contains(abbr.abbr_types, AbbrType.multiplication)]"
   ]
  },
  {
   "cell_type": "code",
   "execution_count": 32,
   "id": "858abf72",
   "metadata": {},
   "outputs": [
    {
     "name": "stdout",
     "output_type": "stream",
     "text": [
      "Total multiplications in corpus:  0\n"
     ]
    }
   ],
   "source": [
    "print('Total multiplications in corpus: ', len(multiplications))"
   ]
  },
  {
   "cell_type": "code",
   "execution_count": 33,
   "id": "670f0f7d",
   "metadata": {},
   "outputs": [
    {
     "name": "stdout",
     "output_type": "stream",
     "text": [
      "of which Latin:  0\n"
     ]
    }
   ],
   "source": [
    "latin_mult = listfilter(lambda x: lang(x) == 'la', multiplications)\n",
    "print('of which Latin: ', len(latin_mult))"
   ]
  },
  {
   "cell_type": "code",
   "execution_count": 34,
   "id": "7c81709f",
   "metadata": {},
   "outputs": [
    {
     "name": "stdout",
     "output_type": "stream",
     "text": [
      "of which Greek:  0\n"
     ]
    }
   ],
   "source": [
    "greek_mult = listfilter(lambda x: lang(x) == 'grc', multiplications)\n",
    "print('of which Greek: ', len(greek_mult))"
   ]
  },
  {
   "cell_type": "code",
   "execution_count": 35,
   "id": "3e0a060a",
   "metadata": {},
   "outputs": [
    {
     "name": "stdout",
     "output_type": "stream",
     "text": [
      "\n"
     ]
    }
   ],
   "source": [
    "print(show_elems(multiplications))"
   ]
  },
  {
   "cell_type": "code",
   "execution_count": null,
   "id": "962dc626",
   "metadata": {},
   "outputs": [],
   "source": []
  }
 ],
 "metadata": {
  "kernelspec": {
   "display_name": "Python 3 (ipykernel)",
   "language": "python",
   "name": "python3"
  },
  "language_info": {
   "codemirror_mode": {
    "name": "ipython",
    "version": 3
   },
   "file_extension": ".py",
   "mimetype": "text/x-python",
   "name": "python",
   "nbconvert_exporter": "python",
   "pygments_lexer": "ipython3",
   "version": "3.9.18"
  }
 },
 "nbformat": 4,
 "nbformat_minor": 5
}
