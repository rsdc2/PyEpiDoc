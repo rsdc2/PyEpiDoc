{
 "cells": [
  {
   "cell_type": "markdown",
   "id": "9e750a81",
   "metadata": {},
   "source": [
    "# Exploring the typology of abbreviations in Sicily"
   ]
  },
  {
   "cell_type": "markdown",
   "id": "71c6d13f",
   "metadata": {},
   "source": [
    "## Load PyEpiDoc and corpus"
   ]
  },
  {
   "cell_type": "code",
   "execution_count": 1,
   "id": "3ff80320",
   "metadata": {},
   "outputs": [],
   "source": [
    "from pyepidoc import EpiDoc, EpiDocCorpus\n",
    "from pyepidoc.epidoc.epidoctypes import AbbrType\n",
    "from pyepidoc.epidoc.funcs import lang, owner_doc\n",
    "from pyepidoc.utils import top, listfilter\n",
    "from pyepidoc.displayutils import show_elems\n",
    "\n",
    "corpus = EpiDocCorpus(folderpath='data/isicily_master')"
   ]
  },
  {
   "cell_type": "markdown",
   "id": "8e19a4ad",
   "metadata": {},
   "source": [
    "## Get all the abbreviations"
   ]
  },
  {
   "cell_type": "code",
   "execution_count": 2,
   "id": "021e1783",
   "metadata": {},
   "outputs": [
    {
     "name": "stdout",
     "output_type": "stream",
     "text": [
      "Loading epidoc files...\n",
      "Total abbreviations in I.Sicily corpus:  4366\n"
     ]
    }
   ],
   "source": [
    "abbreviations = [expan for expan in corpus.expans]\n",
    "print('Total abbreviations in I.Sicily corpus: ', len(abbreviations))"
   ]
  },
  {
   "cell_type": "markdown",
   "id": "db7abf58",
   "metadata": {},
   "source": [
    "## Suspensions\n",
    "### Find all the suspensions"
   ]
  },
  {
   "cell_type": "code",
   "execution_count": 3,
   "id": "063b11b5",
   "metadata": {},
   "outputs": [],
   "source": [
    "suspensions = [abbr for abbr in abbreviations if abbr.abbr_type == AbbrType.suspension]"
   ]
  },
  {
   "cell_type": "markdown",
   "id": "5890192c",
   "metadata": {},
   "source": [
    "### Count and examples"
   ]
  },
  {
   "cell_type": "code",
   "execution_count": 4,
   "id": "be2eb60a",
   "metadata": {},
   "outputs": [
    {
     "name": "stdout",
     "output_type": "stream",
     "text": [
      "Total suspensions in corpus:  3896\n"
     ]
    }
   ],
   "source": [
    "print('Total suspensions in corpus: ', len(suspensions))"
   ]
  },
  {
   "cell_type": "code",
   "execution_count": 5,
   "id": "a0de9975",
   "metadata": {},
   "outputs": [
    {
     "name": "stdout",
     "output_type": "stream",
     "text": [
      "of which Latin:  3182\n"
     ]
    }
   ],
   "source": [
    "latin_susp = [susp for susp in suspensions \n",
    "    if lang(susp) == 'la']\n",
    "print('of which Latin: ', len(latin_susp))"
   ]
  },
  {
   "cell_type": "code",
   "execution_count": 6,
   "id": "bac5c835",
   "metadata": {},
   "outputs": [
    {
     "name": "stdout",
     "output_type": "stream",
     "text": [
      "of which Greek:  711\n"
     ]
    }
   ],
   "source": [
    "greek_susp = [susp for susp in suspensions\n",
    "    if lang(susp) == 'grc']\n",
    "print('of which Greek: ', len(greek_susp))"
   ]
  },
  {
   "cell_type": "code",
   "execution_count": 7,
   "id": "2fa0949f",
   "metadata": {},
   "outputs": [
    {
     "name": "stdout",
     "output_type": "stream",
     "text": [
      "of which other:  3\n"
     ]
    }
   ],
   "source": [
    "other_susp = [susp for susp in suspensions\n",
    "    if lang(susp) not in ['grc', 'la']]\n",
    "print('of which other: ', len(other_susp))"
   ]
  },
  {
   "cell_type": "markdown",
   "id": "a95f240d",
   "metadata": {},
   "source": [
    "### What are these others?!"
   ]
  },
  {
   "cell_type": "code",
   "execution_count": 8,
   "id": "14d4f37a",
   "metadata": {
    "scrolled": false
   },
   "outputs": [
    {
     "name": "stdout",
     "output_type": "stream",
     "text": [
      "- ISic020131: λε̄́(κυθος) (xly-Grek)\n",
      "- ISic020737: ϝι(ταριον) (scx-Grek)\n",
      "- ISic020737: wi(tarion) (scx-Latn)\n"
     ]
    }
   ],
   "source": [
    "print(show_elems(other_susp))"
   ]
  },
  {
   "cell_type": "markdown",
   "id": "56d416b8",
   "metadata": {},
   "source": [
    "### First 10 examples"
   ]
  },
  {
   "cell_type": "code",
   "execution_count": 10,
   "id": "3cc68e0a",
   "metadata": {
    "scrolled": true
   },
   "outputs": [
    {
     "name": "stdout",
     "output_type": "stream",
     "text": [
      "First 10 examples:\n",
      "- ISic000001: man(ibus) (la)\n",
      "- ISic000001: vix(it) (la)\n",
      "- ISic000001: a(nnis) (la)\n",
      "- ISic000002: D(is) (la)\n",
      "- ISic000002: M(anibus) (la)\n",
      "- ISic000002: s(acrum) (la)\n",
      "- ISic000002: vix(it) (la)\n",
      "- ISic000002: Melant(e) (la)\n",
      "- ISic000003: Man(ibus) (la)\n",
      "- ISic000003: vix(it) (la)\n"
     ]
    }
   ],
   "source": [
    "print('First 10 examples:')\n",
    "print(show_elems(top(suspensions, 10)))"
   ]
  },
  {
   "cell_type": "code",
   "execution_count": 27,
   "id": "35fe8756",
   "metadata": {},
   "outputs": [
    {
     "name": "stdout",
     "output_type": "stream",
     "text": [
      "\n",
      "                \n",
      "                    Dis · manibus\n",
      "                    · Zethi\n",
      "                    vixit · annis · VI\n",
      "                \n",
      "            \n"
     ]
    }
   ],
   "source": [
    "doc000001 = owner_doc(suspensions[0])\n",
    "print(doc000001.edition_text)"
   ]
  },
  {
   "cell_type": "markdown",
   "id": "369a6ec5",
   "metadata": {},
   "source": [
    "## Contractions"
   ]
  },
  {
   "cell_type": "code",
   "execution_count": 11,
   "id": "9b43e605",
   "metadata": {},
   "outputs": [
    {
     "name": "stdout",
     "output_type": "stream",
     "text": [
      "Total contractions in corpus:  63\n"
     ]
    }
   ],
   "source": [
    "contractions = [abbr for abbr in abbreviations if abbr.abbr_type == AbbrType.contraction]\n",
    "print('Total contractions in corpus: ', len(contractions))"
   ]
  },
  {
   "cell_type": "code",
   "execution_count": 12,
   "id": "e1f5c353",
   "metadata": {},
   "outputs": [
    {
     "name": "stdout",
     "output_type": "stream",
     "text": [
      "of which Latin:  11\n"
     ]
    }
   ],
   "source": [
    "latin_contractions = [contraction for contraction in contractions \n",
    "    if lang(contraction) == 'la']\n",
    "print('of which Latin: ', len(latin_contractions))"
   ]
  },
  {
   "cell_type": "code",
   "execution_count": 13,
   "id": "60e363b8",
   "metadata": {},
   "outputs": [
    {
     "name": "stdout",
     "output_type": "stream",
     "text": [
      "of which Greek:  52\n"
     ]
    }
   ],
   "source": [
    "greek_contractions = [contraction for contraction in contractions \n",
    "    if lang(contraction) == 'grc']\n",
    "print('of which Greek: ', len(greek_contractions))"
   ]
  },
  {
   "cell_type": "code",
   "execution_count": 14,
   "id": "e9c1c206",
   "metadata": {},
   "outputs": [
    {
     "name": "stdout",
     "output_type": "stream",
     "text": [
      "of which Greek:  0\n"
     ]
    }
   ],
   "source": [
    "other_contractions = [contraction for contraction in contractions \n",
    "    if lang(contraction) not in ['grc', 'la']]\n",
    "print('of which Greek: ', len(other_contractions))"
   ]
  },
  {
   "cell_type": "code",
   "execution_count": 15,
   "id": "3242bea8",
   "metadata": {},
   "outputs": [
    {
     "name": "stdout",
     "output_type": "stream",
     "text": [
      "First 10 examples:\n",
      "- ISic000026: m(aiestati)qu (la)\n",
      "- ISic000038: v(i)xit (la)\n",
      "- ISic000043: Ian(uaria)s (la)\n",
      "- ISic000080: D(e)i (la)\n",
      "- ISic000447: Kal(enda)s (la)\n",
      "- ISic000575: qu(a)e (la)\n",
      "- ISic000755: co(n)s(ulibu)s (la)\n",
      "- ISic000794: ζήσ(ασ)α (grc)\n",
      "- ISic000881: θ(εο)ῦ (grc)\n",
      "- ISic000970: Χ(ριστό)ς (grc)\n"
     ]
    }
   ],
   "source": [
    "top_10_contractions = [contraction for contraction in top(contractions, 10)]\n",
    "\n",
    "print('First 10 examples:')\n",
    "print(show_elems(top_10_contractions))"
   ]
  },
  {
   "cell_type": "markdown",
   "id": "ca048bba",
   "metadata": {},
   "source": [
    "## Contraction with suspension"
   ]
  },
  {
   "cell_type": "code",
   "execution_count": 16,
   "id": "9b771e4b",
   "metadata": {},
   "outputs": [
    {
     "name": "stdout",
     "output_type": "stream",
     "text": [
      "Total contractions with suspension in corpus:  62\n"
     ]
    }
   ],
   "source": [
    "c_with_s = [abbr for abbr in abbreviations \n",
    "    if abbr.abbr_type == AbbrType.contraction_with_suspension]\n",
    "print('Total contractions with suspension in corpus: ', len(c_with_s))"
   ]
  },
  {
   "cell_type": "code",
   "execution_count": 17,
   "id": "d7c4fcf8",
   "metadata": {},
   "outputs": [
    {
     "name": "stdout",
     "output_type": "stream",
     "text": [
      "of which Latin:  48\n"
     ]
    }
   ],
   "source": [
    "latin_c_with_s = listfilter(lambda x: lang(x) == 'la', c_with_s)\n",
    "print('of which Latin: ', len(latin_c_with_s))"
   ]
  },
  {
   "cell_type": "code",
   "execution_count": 18,
   "id": "a71f048a",
   "metadata": {},
   "outputs": [
    {
     "name": "stdout",
     "output_type": "stream",
     "text": [
      "of which Greek:  14\n"
     ]
    }
   ],
   "source": [
    "greek_c_with_s = listfilter(lambda x: lang(x) == 'grc', c_with_s)\n",
    "print('of which Greek: ', len(greek_c_with_s))"
   ]
  },
  {
   "cell_type": "code",
   "execution_count": 19,
   "id": "09e01aae",
   "metadata": {},
   "outputs": [
    {
     "name": "stdout",
     "output_type": "stream",
     "text": [
      "of which Greek:  0\n"
     ]
    }
   ],
   "source": [
    "other_c_with_s = listfilter(lambda x: lang(x) not in ['grc', 'la'], c_with_s)\n",
    "print('of which Greek: ', len(other_c_with_s))"
   ]
  },
  {
   "cell_type": "code",
   "execution_count": 20,
   "id": "acdc4e78",
   "metadata": {},
   "outputs": [
    {
     "name": "stdout",
     "output_type": "stream",
     "text": [
      "- ISic000007: co(n)s(ule) (la)\n",
      "- ISic000013: co(n)s(ulis) (la)\n",
      "- ISic000016: co(n)s(uli) (la)\n",
      "- ISic000017: co(n)s(ulis) (la)\n",
      "- ISic000021: co(n)s(uli) (la)\n",
      "- ISic000024: co(n)s(uli) (la)\n",
      "- ISic000024: proco(n)s(uli) (la)\n",
      "- ISic000024: m(aiestati)q(ue) (la)\n",
      "- ISic000027: me(n)s(ibus) (la)\n",
      "- ISic000044: c(n)s(ulis) (la)\n"
     ]
    }
   ],
   "source": [
    "print(show_elems(top(c_with_s, 10)))"
   ]
  },
  {
   "cell_type": "markdown",
   "id": "13cfc374",
   "metadata": {},
   "source": [
    "## Multiplications"
   ]
  },
  {
   "cell_type": "code",
   "execution_count": 21,
   "id": "cd176ef8",
   "metadata": {},
   "outputs": [],
   "source": [
    "multiplications = [abbr for abbr in abbreviations \n",
    "    if abbr.abbr_type == AbbrType.multiplication]"
   ]
  },
  {
   "cell_type": "code",
   "execution_count": 22,
   "id": "858abf72",
   "metadata": {},
   "outputs": [
    {
     "name": "stdout",
     "output_type": "stream",
     "text": [
      "Total multiplications in corpus:  21\n"
     ]
    }
   ],
   "source": [
    "print('Total multiplications in corpus: ', len(multiplications))"
   ]
  },
  {
   "cell_type": "code",
   "execution_count": 23,
   "id": "c0306072",
   "metadata": {},
   "outputs": [
    {
     "name": "stdout",
     "output_type": "stream",
     "text": [
      "of which Latin:  21\n"
     ]
    }
   ],
   "source": [
    "latin_mult = listfilter(lambda x: lang(x) == 'la', multiplications)\n",
    "print('of which Latin: ', len(latin_mult))"
   ]
  },
  {
   "cell_type": "code",
   "execution_count": 24,
   "id": "4e955c62",
   "metadata": {},
   "outputs": [
    {
     "name": "stdout",
     "output_type": "stream",
     "text": [
      "of which Greek:  0\n"
     ]
    }
   ],
   "source": [
    "greek_mult = listfilter(lambda x: lang(x) == 'grc', multiplications)\n",
    "print('of which Greek: ', len(greek_mult))"
   ]
  },
  {
   "cell_type": "code",
   "execution_count": 25,
   "id": "3e0a060a",
   "metadata": {},
   "outputs": [
    {
     "name": "stdout",
     "output_type": "stream",
     "text": [
      "- ISic000036: v[v](iris) (la)\n",
      "- ISic000036: c[c](larissimis) (la)\n",
      "- ISic000298: d[dd](ominorum) (la)\n",
      "- ISic000298: n[nn](ostrorum) (la)\n",
      "- ISic000447: v[v](iris) (la)\n",
      "- ISic000447: c[c](larissimis) (la)\n",
      "- ISic000481: d[d](ominorum) (la)\n",
      "- ISic000481: n[n](ostrorum) (la)\n",
      "- ISic000481: A[A]u[u]g[g](ustorum) (la)\n",
      "- ISic000481: v[v](iri) (la)\n",
      "- ISic000481: c[c](larissimi) (la)\n",
      "- ISic000501: d[d](ominis) (la)\n",
      "- ISic000501: n[n](ostris) (la)\n",
      "- ISic002934: D[D](ominis) (la)\n",
      "- ISic002934: N[N](ostris) (la)\n",
      "- ISic002934: A[A]U[U](gustis) (la)\n",
      "- ISic003462: d[d](ominorum) (la)\n",
      "- ISic003462: n[n](ostrorum) (la)\n",
      "- ISic003462: A[A]u[u]g[g](ustorum) (la)\n",
      "- ISic004376: D[DD](ominis) (la)\n",
      "- ISic004376: N[NN](ostris) (la)\n"
     ]
    }
   ],
   "source": [
    "print(show_elems(multiplications))"
   ]
  },
  {
   "cell_type": "code",
   "execution_count": null,
   "id": "a9f0b8f3",
   "metadata": {},
   "outputs": [],
   "source": []
  }
 ],
 "metadata": {
  "kernelspec": {
   "display_name": "Python 3 (ipykernel)",
   "language": "python",
   "name": "python3"
  },
  "language_info": {
   "codemirror_mode": {
    "name": "ipython",
    "version": 3
   },
   "file_extension": ".py",
   "mimetype": "text/x-python",
   "name": "python",
   "nbconvert_exporter": "python",
   "pygments_lexer": "ipython3",
   "version": "3.9.16"
  }
 },
 "nbformat": 4,
 "nbformat_minor": 5
}
